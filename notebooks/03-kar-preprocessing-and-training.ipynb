{
 "cells": [
  {
   "cell_type": "markdown",
   "id": "ceccf2a6",
   "metadata": {},
   "source": [
    "### Import modules"
   ]
  },
  {
   "cell_type": "code",
   "execution_count": 110,
   "id": "a71ff710",
   "metadata": {},
   "outputs": [],
   "source": [
    "import pandas as pd\n",
    "import numpy as np\n",
    "\n",
    "from sklearn.preprocessing import StandardScaler\n",
    "from sklearn.model_selection import train_test_split\n",
    "\n",
    "import matplotlib.pyplot as plt\n"
   ]
  },
  {
   "cell_type": "markdown",
   "id": "9f103844",
   "metadata": {},
   "source": [
    "### Import Dataset"
   ]
  },
  {
   "cell_type": "code",
   "execution_count": 111,
   "id": "e3b07c68",
   "metadata": {},
   "outputs": [],
   "source": [
    " pd.set_option('display.max_columns', None)\n",
    "workers_df = pd.read_csv(\"../data/raw/factory_workers.csv\", sep=',', encoding=\"mac_roman\")"
   ]
  },
  {
   "cell_type": "code",
   "execution_count": 112,
   "id": "0ff762be",
   "metadata": {},
   "outputs": [],
   "source": [
    "workers_df.head()"
   ]
  },
  {
   "cell_type": "code",
   "execution_count": null,
   "id": "c9704ee8",
   "metadata": {},
   "outputs": [],
   "source": []
  },
  {
   "cell_type": "markdown",
   "id": "ef9c3df5",
   "metadata": {},
   "source": [
    "### Drop Unnecessary Columns"
   ]
  },
  {
   "cell_type": "code",
   "execution_count": 113,
   "id": "ceffd5f8",
   "metadata": {},
   "outputs": [],
   "source": [
    "# drop unnecessary columns\n",
    "unnecessary_cols = ['sub_fname', 'sub_lname','sub_coll_IDs', 'sub_colls_same_sex_prtn','sup_fname', 'sup_lname','event_week_in_series',\n",
    " 'event_day_in_series','event_weekday_num', 'event_weekday_name', 'recorded_note_from_sup', 'record_conf_matrix_h', \n",
    "                   'behav_cause_h', 'record_cause']\n",
    "\n",
    "workers_df.drop(columns=unnecessary_cols, inplace=True)"
   ]
  },
  {
   "cell_type": "code",
   "execution_count": 114,
   "id": "a0a324ab",
   "metadata": {},
   "outputs": [],
   "source": [
    "# drop all rows with production director as sub_role\n",
    "workers_df = workers_df[workers_df['sub_role'] != 'Production Director']"
   ]
  },
  {
   "cell_type": "code",
   "execution_count": 115,
   "id": "f67918ac",
   "metadata": {},
   "outputs": [],
   "source": [
    "# check df\n",
    "workers_df.head()"
   ]
  },
  {
   "cell_type": "markdown",
   "id": "1d3a41e7",
   "metadata": {},
   "source": [
    "### Create target variable column"
   ]
  },
  {
   "cell_type": "code",
   "execution_count": 116,
   "id": "88533b73",
   "metadata": {},
   "outputs": [],
   "source": [
    "# create a binary column based on whether a worker resigned or not\n",
    "workers_df['Resigned'] = [1 if x == 'Resignation' else 0 for x in workers_df['behav_comptype_h']]"
   ]
  },
  {
   "cell_type": "markdown",
   "id": "f787ab2a",
   "metadata": {},
   "source": [
    "### Feature Engineering: Encode Categorical Variables"
   ]
  },
  {
   "cell_type": "code",
   "execution_count": 117,
   "id": "e91b65bf",
   "metadata": {},
   "outputs": [],
   "source": [
    "# Get a list of relevant events\n",
    "relevant_events = list(workers_df['behav_comptype_h'].unique())\n",
    "sabotage = relevant_events[-1]\n",
    "relevant_events = relevant_events[:10]\n",
    "relevant_events.append(sabotage)\n",
    "relevant_events"
   ]
  },
  {
   "cell_type": "markdown",
   "id": "33b6e31c",
   "metadata": {},
   "source": [
    "***Count the number of instances each employee had an underrecorded efficacy score***"
   ]
  },
  {
   "cell_type": "code",
   "execution_count": 118,
   "id": "1dee896f",
   "metadata": {},
   "outputs": [],
   "source": [
    "# Find a count of underrecorded efficacy for each employee\n",
    "underrecorded_efficacies = workers_df[workers_df['recorded_efficacy'] < workers_df['actual_efficacy_h']]\n",
    "underrecorded_efficacies\n",
    "\n",
    "# Group underrecorded efficacies by sub_ID and get count\n",
    "efficacy = underrecorded_efficacies.groupby('sub_ID')['recorded_efficacy'].count().reset_index()\n",
    "\n",
    "# Rename col\n",
    "efficacy.rename(columns={'recorded_efficacy':'Num Underrecorded Efficacy'}, inplace=True)\n",
    "efficacy.sort_values(by='Num Underrecorded Efficacy', ascending=False).head()"
   ]
  },
  {
   "cell_type": "markdown",
   "id": "0820b2f2",
   "metadata": {},
   "source": [
    "***Count the number of instances each employee had a mismatched relevant event recorded***"
   ]
  },
  {
   "cell_type": "code",
   "execution_count": 119,
   "id": "dd1428d0",
   "metadata": {},
   "outputs": [],
   "source": [
    "# Filter df based on relevant events\n",
    "relevant_events_df = workers_df[workers_df['behav_comptype_h'].isin(relevant_events)]"
   ]
  },
  {
   "cell_type": "code",
   "execution_count": 120,
   "id": "b0f1a88c",
   "metadata": {},
   "outputs": [],
   "source": [
    "# Find a count of mismatched recorded events for each employee\n",
    "mismatched_events = relevant_events_df[relevant_events_df['behav_comptype_h'] != relevant_events_df['record_comptype']]\n",
    "\n",
    "# Group by sub_ID and get a count of each mismatched event\n",
    "events = mismatched_events.groupby('sub_ID')['behav_comptype_h'].count().reset_index()\n",
    "\n",
    "# Rename column and sort\n",
    "events.rename(columns={'behav_comptype_h':'Num Mismatched Events'}, inplace=True)\n",
    "events.sort_values('Num Mismatched Events', ascending=False).head()"
   ]
  },
  {
   "cell_type": "code",
   "execution_count": 121,
   "id": "11b5bcce",
   "metadata": {},
   "outputs": [],
   "source": [
    "# Merge Mismatched Efficacies and Events \n",
    "new_features = efficacy.merge(events, left_on='sub_ID', right_on='sub_ID', how='left')\n",
    "new_features"
   ]
  },
  {
   "cell_type": "code",
   "execution_count": 122,
   "id": "4ba9b506",
   "metadata": {},
   "outputs": [],
   "source": [
    "# fill missing values for Mismatched events column with 0\n",
    "new_features.fillna(0, inplace=True)\n",
    "\n",
    "# Convert data type to int for mismatched events col\n",
    "new_features['Num Mismatched Events'] = new_features['Num Mismatched Events'].astype('int')\n",
    "new_features.dtypes"
   ]
  },
  {
   "cell_type": "code",
   "execution_count": 123,
   "id": "a90656cf",
   "metadata": {},
   "outputs": [],
   "source": [
    "# Merge new features to original dataframe\n",
    "merged_df = workers_df.merge(new_features, left_on='sub_ID', right_on='sub_ID')"
   ]
  },
  {
   "cell_type": "markdown",
   "id": "a6c284e4",
   "metadata": {},
   "source": [
    "### Drop duplicate rows and some Categorical Features"
   ]
  },
  {
   "cell_type": "code",
   "execution_count": 124,
   "id": "500c764e",
   "metadata": {
    "scrolled": true
   },
   "outputs": [],
   "source": [
    "# drop features already encoded\n",
    "features_to_drop = ['behav_comptype_h', 'record_comptype', 'actual_efficacy_h', 'recorded_efficacy']\n",
    "merged_df.drop(columns=features_to_drop, inplace=True)"
   ]
  },
  {
   "cell_type": "code",
   "execution_count": 125,
   "id": "c36fcf61",
   "metadata": {},
   "outputs": [],
   "source": [
    "# drop duplicate rows based on last event date\n",
    "df = merged_df.sort_values('event_date').drop_duplicates('sub_ID', keep='last')\n",
    "df = df.sort_values('sub_ID')\n",
    "\n",
    "# Convert event_date col to datetime \n",
    "df['event_date'] = pd.to_datetime(df['event_date'])"
   ]
  },
  {
   "cell_type": "markdown",
   "id": "41dfdec3",
   "metadata": {},
   "source": [
    "### Create Dummy Variables for Categorical Features"
   ]
  },
  {
   "cell_type": "code",
   "execution_count": 126,
   "id": "09aeaeb4",
   "metadata": {},
   "outputs": [],
   "source": [
    "# Features to encode\n",
    "cat_vars = ['sub_sex', 'sub_shift', 'sub_team', 'sub_role', 'sub_workstyle_h', 'sup_sex', 'sup_role']"
   ]
  },
  {
   "cell_type": "code",
   "execution_count": 127,
   "id": "ed1246d0",
   "metadata": {},
   "outputs": [],
   "source": [
    "# Get dummy variables\n",
    "df = pd.get_dummies(df, columns=cat_vars, prefix=cat_vars)"
   ]
  },
  {
   "cell_type": "code",
   "execution_count": 128,
   "id": "cebbd2f7",
   "metadata": {
    "scrolled": false
   },
   "outputs": [],
   "source": [
    "# Inspect encoded features\n",
    "df.head()"
   ]
  },
  {
   "cell_type": "code",
   "execution_count": 129,
   "id": "8ed67f73",
   "metadata": {},
   "outputs": [],
   "source": [
    "# drop dummy feature with production director supervisor role\n",
    "df.drop(columns=['sup_role_Production Director'], inplace=True)"
   ]
  },
  {
   "cell_type": "code",
   "execution_count": 130,
   "id": "b9df7fd8",
   "metadata": {
    "scrolled": true
   },
   "outputs": [],
   "source": [
    "# Check data types\n",
    "df.info()"
   ]
  },
  {
   "cell_type": "markdown",
   "id": "cbed55bb",
   "metadata": {},
   "source": [
    "### Fix data types"
   ]
  },
  {
   "cell_type": "code",
   "execution_count": 131,
   "id": "67880d49",
   "metadata": {},
   "outputs": [],
   "source": [
    "# get features with object types to convert to int\n",
    "o_types = df.select_dtypes(include=['object'], exclude=['datetime']).columns.to_list()\n",
    "\n",
    "# convert to num type\n",
    "df[o_types] = df[o_types].apply(pd.to_numeric, errors='coerce')"
   ]
  },
  {
   "cell_type": "code",
   "execution_count": null,
   "id": "0885707d",
   "metadata": {},
   "outputs": [],
   "source": []
  },
  {
   "cell_type": "markdown",
   "id": "efd6a6af",
   "metadata": {},
   "source": [
    "### Create train and test splits"
   ]
  },
  {
   "cell_type": "code",
   "execution_count": 132,
   "id": "e10c665f",
   "metadata": {},
   "outputs": [],
   "source": [
    "# Create target variable and feature matrix\n",
    "X = df.drop(columns=['sub_ID', 'sup_ID', 'event_date', 'Resigned'])\n",
    "y = df['Resigned']"
   ]
  },
  {
   "cell_type": "code",
   "execution_count": 133,
   "id": "e7ddb85c",
   "metadata": {},
   "outputs": [],
   "source": [
    "# Split into train and test sets\n",
    "X_train, X_test, y_train, y_test = train_test_split(X, y, test_size=0.2)"
   ]
  },
  {
   "cell_type": "code",
   "execution_count": 134,
   "id": "3c2c3995",
   "metadata": {},
   "outputs": [],
   "source": [
    "# View train set\n",
    "X_train.head()"
   ]
  },
  {
   "cell_type": "markdown",
   "id": "29b87583",
   "metadata": {},
   "source": [
    "### Preprocessing: Standardize Numeric Features"
   ]
  },
  {
   "cell_type": "code",
   "execution_count": 135,
   "id": "2c99f4e7",
   "metadata": {},
   "outputs": [],
   "source": [
    "# Get numeric features\n",
    "num_features = ['sub_age', 'sub_health_h', 'sub_commitment_h',\n",
    "       'sub_perceptiveness_h', 'sub_dexterity_h', 'sub_sociality_h',\n",
    "       'sub_goodness_h', 'sub_strength_h', 'sub_openmindedness_h',\n",
    "       'Num Underrecorded Efficacy', 'Num Mismatched Events', 'sup_age', 'sup_sub_age_diff',\n",
    "               'sup_commitment_h', 'sup_perceptiveness_h', 'sup_goodness_h']"
   ]
  },
  {
   "cell_type": "code",
   "execution_count": 136,
   "id": "2a7e478b",
   "metadata": {},
   "outputs": [],
   "source": [
    "# instantiate scaler\n",
    "SS_scaler = StandardScaler()\n",
    "\n",
    "# fit values to scaler\n",
    "SS_scaler.fit(X_train[num_features])\n",
    "\n",
    "# Get standardized values as a new df\n",
    "X_train[num_features] = SS_scaler.transform(X_train[num_features])\n"
   ]
  },
  {
   "cell_type": "code",
   "execution_count": 137,
   "id": "0d949814",
   "metadata": {},
   "outputs": [],
   "source": [
    "# View train set with updated scaled values\n",
    "X_train"
   ]
  },
  {
   "cell_type": "code",
   "execution_count": 138,
   "id": "fbb31674",
   "metadata": {},
   "outputs": [],
   "source": [
    "# Show new standardized features\n",
    "scaled_data = pd.DataFrame(X_train[num_features], columns=num_features)"
   ]
  },
  {
   "cell_type": "code",
   "execution_count": 139,
   "id": "9dc910be",
   "metadata": {},
   "outputs": [],
   "source": [
    "# Visualize shape of features \n",
    "scaled_data.hist()\n",
    "plt.show()"
   ]
  },
  {
   "cell_type": "code",
   "execution_count": 140,
   "id": "2de051b8",
   "metadata": {},
   "outputs": [],
   "source": [
    "X_train"
   ]
  },
  {
   "cell_type": "markdown",
   "id": "78279e21",
   "metadata": {},
   "source": [
    "### Check for Outliers with Boxplots"
   ]
  },
  {
   "cell_type": "code",
   "execution_count": 141,
   "id": "68c0d858",
   "metadata": {},
   "outputs": [],
   "source": [
    "for feature in X_train[num_features].columns:\n",
    "    X_train[[feature]].boxplot()\n",
    "    plt.show()"
   ]
  },
  {
   "cell_type": "markdown",
   "id": "039650a3",
   "metadata": {},
   "source": [
    "## Export train and test data"
   ]
  },
  {
   "cell_type": "code",
   "execution_count": 142,
   "id": "b2537a61",
   "metadata": {},
   "outputs": [],
   "source": [
    "try:\n",
    "    X_train.to_csv('../data/processed/X_train.csv', index=False)\n",
    "    X_test.to_csv('../data/processed/X_test.csv', index=False)\n",
    "    y_train.to_csv('../data/processed/y_train.csv', index=False)\n",
    "    y_test.to_csv('../data/processed/y_test.csv', index=False)\n",
    "except:\n",
    "    print('Could not export.')"
   ]
  },
  {
   "cell_type": "code",
   "execution_count": null,
   "id": "0e5cec93",
   "metadata": {},
   "outputs": [],
   "source": []
  }
 ],
 "metadata": {
  "kernelspec": {
   "display_name": "Python [conda env:employee-attrition] *",
   "language": "python",
   "name": "conda-env-employee-attrition-py"
  },
  "language_info": {
   "codemirror_mode": {
    "name": "ipython",
    "version": 3
   },
   "file_extension": ".py",
   "mimetype": "text/x-python",
   "name": "python",
   "nbconvert_exporter": "python",
   "pygments_lexer": "ipython3",
   "version": "3.10.10"
  }
 },
 "nbformat": 4,
 "nbformat_minor": 5
}
