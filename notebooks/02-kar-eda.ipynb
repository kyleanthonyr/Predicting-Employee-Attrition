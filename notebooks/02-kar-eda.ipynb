{
 "cells": [
  {
   "cell_type": "markdown",
   "id": "6c17f88d",
   "metadata": {},
   "source": [
    "## Employee Attrition: Will my employee leave?\n",
    "\n",
    "### How can we identify employees at-risk for voluntary resignation based on their performance, job satisfaction, supervisor's behaviours etc.?\n",
    "**Context**:\n",
    "\n",
    "It's estimated that losing an employee can cost a company 1.5-2x the employee’s salary. Depending on the individual’s level of seniority, the financial burden fluctuates. For hourly workers, it costs an average of $1,500 per employee. For technical positions, the cost jumps to 100-150% of salary. At the high end, C-suite turnover can cost up to 213% of the employee’s salary.\n",
    "\n",
    "Not only are you forced to dedicate time and resources to recruiting, onboarding and training a new hire after an employee leaves, but it’s estimated that two thirds of all sunk costs due to turnover are intangible, including lost productivity and knowledge, and internal strain on employees while the roles remain unfilled. \n",
    "\n",
    "Being able to predict, and possibly minimize, employee turnover by identifying employees that may be at-risk for leaving voluntarily could help to reduce the cost of replacement hire due to turnover and increase employee retention.\n",
    "\n",
    "Specifically, the question I'm seeking to answer is, \"**What contributing factors increase the likelihood of an employee leaving voluntarily?**\", and can we use those to determine when, and if, an employee might resign?"
   ]
  },
  {
   "cell_type": "markdown",
   "id": "ab5596c2",
   "metadata": {},
   "source": [
    "### Imports"
   ]
  },
  {
   "cell_type": "code",
   "execution_count": 1,
   "id": "0e305678",
   "metadata": {},
   "outputs": [],
   "source": [
    "import numpy as np\n",
    "import pandas as pd\n",
    "\n",
    "import matplotlib.pyplot as plt\n",
    "import seaborn as sns\n",
    "\n",
    "import json\n",
    "sns.set_style('whitegrid')"
   ]
  },
  {
   "cell_type": "markdown",
   "id": "9f2e0048",
   "metadata": {},
   "source": [
    "### **Dataset**"
   ]
  },
  {
   "cell_type": "code",
   "execution_count": 2,
   "id": "79f3d970",
   "metadata": {},
   "outputs": [],
   "source": [
    "# Dataset \n",
    "workers = pd.read_csv(\"../data/raw/factory_workers.csv\", sep=',', encoding=\"mac_roman\")"
   ]
  },
  {
   "cell_type": "markdown",
   "id": "924e3c47",
   "metadata": {},
   "source": [
    "### Understanding the Dataset \n",
    "This synthetic dataset contains 18 months’ worth of daily performance and attrition data (411,948 observations) for a factory whose organizational structure comprises 508 workers. Due to employee turnover, a total of 687 persons appear in the dataset. The dataset’s observations cover both regular daily events (like workers’ attendance and daily level of Efficacy) and special one-time events (like accidents, an employee’s termination, or the onboarding of a new employee). A unique feature of the dataset is diverse causal relationships “hidden” within the data that are waiting to be uncovered through machine learning.\n",
    "\n",
    "Each record represents a type of **event that occurred on a particular day in relation to a particular worker**. It’s possible for a given worker to have more than one event (and row) for the same day. There are 14 kinds of events:\n",
    "\n",
    "- Presence: worker showed up to work\n",
    "\n",
    "- Absence: worker did not show up to work\n",
    "\n",
    "- Efficacy: reflects the degree of efficiency and productivity that an employee demonstrated over the course of the given workday. There are two related elements: the actual Efficacy that the employee generated on the given day, and the recorded Efficacy that the worker’s supervisor entered into the factory’s HRM/ERP system for the employee for that day. \n",
    "\n",
    "- Resignation: on the given date, an employee quit his or her job (i.e., the employee experienced a voluntary separation). After resigning, the employee was no longer a part of the workforce and did not generate any future behaviors. Only Laborers and Team Leaders are liable to experience a Resignation event\n",
    "\n",
    "- Termination: the employee was fired by the organization (i.e., the employee experienced an involuntary separation).\n",
    "\n",
    "- Onboarding: subject is a newly hired employee who began work on the given date. In order to maintain a stable size for the factory’s workforce, a new employee is hired whenever an existing employee has resigned or been terminated.\n",
    "\n",
    "- Idea: when an employee imagines some innovative new approach to solving a long-standing problem or otherwise improving the factory’s functioning. Workers with a high Perceptiveness stat are more likely to have an Idea.\n",
    "\n",
    "- Lapse: when a worker makes some severe mental mistake that negatively impacts the factory’s functioning (e.g., by omitting some step from a business process or ordering the wrong parts). Workers with a low Perceptiveness stat are more likely to have a lapse.\n",
    "\n",
    "- Feat: when an employee performs some exceptional act dependent on physical skill (e.g., expertly manipulating some high-precision tool or sorting objects into bins with remarkable speed). Workers with a high Dexterity stat are more likely to generate a Feat.\n",
    "\n",
    "- Slip: when an employee experiences some accident or misstep resulting from a lack of physical adroitness (e.g., knocking over a storage rack or dropping some delicate instrument). Workers with a low Dexterity stat are more likely to generate a Slip behavior.\n",
    "\n",
    "- Teamwork: when an employee goes to exceptional lengths to encourage, teach, or otherwise support his or her colleagues in some way. Workers with a high Sociality stat are more likely to generate this event\n",
    "\n",
    "- Disruption: occurs when an employee quarrels with colleagues, belligerently rejects a supervisor’s request, or otherwise displays a hostile attitude toward his or her coworkers. Workers with a low Sociality stat are more likely to generate this event. \n",
    "\n",
    "- Sacrifice: when a worker performs – of his or her own initiative – some action that’s unpleasant or inconvenient for the employee but which spares others from suffering the same hardship (e.g., volunteering to take on some grueling or unpleasant assignment that no one else wants to do). Workers with a high Goodness stat are more likely to generate a Sacrifice behavior.\n",
    "\n",
    "- Sabotage: when an employee knowingly performs some act (typically, with the hope that he or she won’t be observed while doing so) that will damage equipment, spoil products, or otherwise lessen the organization’s productivity or harm its brand image. Workers with a low Goodness stat are more likely to generate a Sabotage behavior"
   ]
  },
  {
   "cell_type": "code",
   "execution_count": 3,
   "id": "481e80e0",
   "metadata": {
    "scrolled": true
   },
   "outputs": [
    {
     "data": {
      "text/html": [
       "<div>\n",
       "<style scoped>\n",
       "    .dataframe tbody tr th:only-of-type {\n",
       "        vertical-align: middle;\n",
       "    }\n",
       "\n",
       "    .dataframe tbody tr th {\n",
       "        vertical-align: top;\n",
       "    }\n",
       "\n",
       "    .dataframe thead th {\n",
       "        text-align: right;\n",
       "    }\n",
       "</style>\n",
       "<table border=\"1\" class=\"dataframe\">\n",
       "  <thead>\n",
       "    <tr style=\"text-align: right;\">\n",
       "      <th></th>\n",
       "      <th>sub_ID</th>\n",
       "      <th>sub_fname</th>\n",
       "      <th>sub_lname</th>\n",
       "      <th>sub_age</th>\n",
       "      <th>sub_sex</th>\n",
       "      <th>sub_shift</th>\n",
       "      <th>sub_team</th>\n",
       "      <th>sub_role</th>\n",
       "      <th>sub_coll_IDs</th>\n",
       "      <th>sub_colls_same_sex_prtn</th>\n",
       "      <th>...</th>\n",
       "      <th>event_weekday_num</th>\n",
       "      <th>event_weekday_name</th>\n",
       "      <th>behav_comptype_h</th>\n",
       "      <th>behav_cause_h</th>\n",
       "      <th>actual_efficacy_h</th>\n",
       "      <th>record_comptype</th>\n",
       "      <th>record_cause</th>\n",
       "      <th>recorded_efficacy</th>\n",
       "      <th>recorded_note_from_sup</th>\n",
       "      <th>record_conf_matrix_h</th>\n",
       "    </tr>\n",
       "  </thead>\n",
       "  <tbody>\n",
       "    <tr>\n",
       "      <th>0</th>\n",
       "      <td>98000001</td>\n",
       "      <td>Rebecca</td>\n",
       "      <td>Bauer</td>\n",
       "      <td>40</td>\n",
       "      <td>F</td>\n",
       "      <td>Shift 1</td>\n",
       "      <td>Team 1</td>\n",
       "      <td>Team Leader</td>\n",
       "      <td>[98000002, 98000003, 98000004, 98000005, 98000...</td>\n",
       "      <td>0.714285714</td>\n",
       "      <td>...</td>\n",
       "      <td>4</td>\n",
       "      <td>Friday</td>\n",
       "      <td>Presence</td>\n",
       "      <td>None</td>\n",
       "      <td>None</td>\n",
       "      <td>Presence</td>\n",
       "      <td>None</td>\n",
       "      <td>None</td>\n",
       "      <td>None</td>\n",
       "      <td>None</td>\n",
       "    </tr>\n",
       "    <tr>\n",
       "      <th>1</th>\n",
       "      <td>98000001</td>\n",
       "      <td>Rebecca</td>\n",
       "      <td>Bauer</td>\n",
       "      <td>40</td>\n",
       "      <td>F</td>\n",
       "      <td>Shift 1</td>\n",
       "      <td>Team 1</td>\n",
       "      <td>Team Leader</td>\n",
       "      <td>[98000002, 98000003, 98000004, 98000005, 98000...</td>\n",
       "      <td>0.714285714</td>\n",
       "      <td>...</td>\n",
       "      <td>4</td>\n",
       "      <td>Friday</td>\n",
       "      <td>Efficacy</td>\n",
       "      <td>None</td>\n",
       "      <td>1.489</td>\n",
       "      <td>Efficacy</td>\n",
       "      <td>None</td>\n",
       "      <td>1.2</td>\n",
       "      <td>None</td>\n",
       "      <td>None</td>\n",
       "    </tr>\n",
       "    <tr>\n",
       "      <th>2</th>\n",
       "      <td>98000002</td>\n",
       "      <td>Joan</td>\n",
       "      <td>Winter</td>\n",
       "      <td>61</td>\n",
       "      <td>F</td>\n",
       "      <td>Shift 1</td>\n",
       "      <td>Team 2</td>\n",
       "      <td>Team Leader</td>\n",
       "      <td>[98000001, 98000003, 98000004, 98000005, 98000...</td>\n",
       "      <td>0.714285714</td>\n",
       "      <td>...</td>\n",
       "      <td>4</td>\n",
       "      <td>Friday</td>\n",
       "      <td>Presence</td>\n",
       "      <td>None</td>\n",
       "      <td>None</td>\n",
       "      <td>Presence</td>\n",
       "      <td>None</td>\n",
       "      <td>None</td>\n",
       "      <td>None</td>\n",
       "      <td>None</td>\n",
       "    </tr>\n",
       "    <tr>\n",
       "      <th>3</th>\n",
       "      <td>98000002</td>\n",
       "      <td>Joan</td>\n",
       "      <td>Winter</td>\n",
       "      <td>61</td>\n",
       "      <td>F</td>\n",
       "      <td>Shift 1</td>\n",
       "      <td>Team 2</td>\n",
       "      <td>Team Leader</td>\n",
       "      <td>[98000001, 98000003, 98000004, 98000005, 98000...</td>\n",
       "      <td>0.714285714</td>\n",
       "      <td>...</td>\n",
       "      <td>4</td>\n",
       "      <td>Friday</td>\n",
       "      <td>Efficacy</td>\n",
       "      <td>None</td>\n",
       "      <td>1.023</td>\n",
       "      <td>Efficacy</td>\n",
       "      <td>None</td>\n",
       "      <td>0.8</td>\n",
       "      <td>None</td>\n",
       "      <td>None</td>\n",
       "    </tr>\n",
       "    <tr>\n",
       "      <th>4</th>\n",
       "      <td>98000003</td>\n",
       "      <td>Elizabeth</td>\n",
       "      <td>Martinez</td>\n",
       "      <td>20</td>\n",
       "      <td>F</td>\n",
       "      <td>Shift 1</td>\n",
       "      <td>Team 3</td>\n",
       "      <td>Team Leader</td>\n",
       "      <td>[98000001, 98000002, 98000004, 98000005, 98000...</td>\n",
       "      <td>0.714285714</td>\n",
       "      <td>...</td>\n",
       "      <td>4</td>\n",
       "      <td>Friday</td>\n",
       "      <td>Presence</td>\n",
       "      <td>None</td>\n",
       "      <td>None</td>\n",
       "      <td>Presence</td>\n",
       "      <td>None</td>\n",
       "      <td>None</td>\n",
       "      <td>None</td>\n",
       "      <td>None</td>\n",
       "    </tr>\n",
       "  </tbody>\n",
       "</table>\n",
       "<p>5 rows × 42 columns</p>\n",
       "</div>"
      ],
      "text/plain": [
       "     sub_ID  sub_fname sub_lname  sub_age sub_sex sub_shift sub_team  \\\n",
       "0  98000001    Rebecca     Bauer       40       F   Shift 1   Team 1   \n",
       "1  98000001    Rebecca     Bauer       40       F   Shift 1   Team 1   \n",
       "2  98000002       Joan    Winter       61       F   Shift 1   Team 2   \n",
       "3  98000002       Joan    Winter       61       F   Shift 1   Team 2   \n",
       "4  98000003  Elizabeth  Martinez       20       F   Shift 1   Team 3   \n",
       "\n",
       "      sub_role                                       sub_coll_IDs  \\\n",
       "0  Team Leader  [98000002, 98000003, 98000004, 98000005, 98000...   \n",
       "1  Team Leader  [98000002, 98000003, 98000004, 98000005, 98000...   \n",
       "2  Team Leader  [98000001, 98000003, 98000004, 98000005, 98000...   \n",
       "3  Team Leader  [98000001, 98000003, 98000004, 98000005, 98000...   \n",
       "4  Team Leader  [98000001, 98000002, 98000004, 98000005, 98000...   \n",
       "\n",
       "  sub_colls_same_sex_prtn  ...  event_weekday_num  event_weekday_name  \\\n",
       "0             0.714285714  ...                  4              Friday   \n",
       "1             0.714285714  ...                  4              Friday   \n",
       "2             0.714285714  ...                  4              Friday   \n",
       "3             0.714285714  ...                  4              Friday   \n",
       "4             0.714285714  ...                  4              Friday   \n",
       "\n",
       "   behav_comptype_h  behav_cause_h  actual_efficacy_h  record_comptype  \\\n",
       "0          Presence           None               None         Presence   \n",
       "1          Efficacy           None              1.489         Efficacy   \n",
       "2          Presence           None               None         Presence   \n",
       "3          Efficacy           None              1.023         Efficacy   \n",
       "4          Presence           None               None         Presence   \n",
       "\n",
       "   record_cause  recorded_efficacy recorded_note_from_sup record_conf_matrix_h  \n",
       "0          None               None                   None                 None  \n",
       "1          None                1.2                   None                 None  \n",
       "2          None               None                   None                 None  \n",
       "3          None                0.8                   None                 None  \n",
       "4          None               None                   None                 None  \n",
       "\n",
       "[5 rows x 42 columns]"
      ]
     },
     "execution_count": 3,
     "metadata": {},
     "output_type": "execute_result"
    }
   ],
   "source": [
    "workers.head(5)"
   ]
  },
  {
   "cell_type": "code",
   "execution_count": 4,
   "id": "e8fb2f5b",
   "metadata": {
    "scrolled": true
   },
   "outputs": [
    {
     "name": "stdout",
     "output_type": "stream",
     "text": [
      "<class 'pandas.core.frame.DataFrame'>\n",
      "RangeIndex: 411948 entries, 0 to 411947\n",
      "Data columns (total 42 columns):\n",
      " #   Column                   Non-Null Count   Dtype  \n",
      "---  ------                   --------------   -----  \n",
      " 0   sub_ID                   411948 non-null  int64  \n",
      " 1   sub_fname                411948 non-null  object \n",
      " 2   sub_lname                411948 non-null  object \n",
      " 3   sub_age                  411948 non-null  int64  \n",
      " 4   sub_sex                  411948 non-null  object \n",
      " 5   sub_shift                411948 non-null  object \n",
      " 6   sub_team                 411948 non-null  object \n",
      " 7   sub_role                 411948 non-null  object \n",
      " 8   sub_coll_IDs             411948 non-null  object \n",
      " 9   sub_colls_same_sex_prtn  411948 non-null  object \n",
      " 10  sub_health_h             411948 non-null  float64\n",
      " 11  sub_commitment_h         411948 non-null  float64\n",
      " 12  sub_perceptiveness_h     411948 non-null  float64\n",
      " 13  sub_dexterity_h          411948 non-null  float64\n",
      " 14  sub_sociality_h          411948 non-null  float64\n",
      " 15  sub_goodness_h           411948 non-null  float64\n",
      " 16  sub_strength_h           411948 non-null  float64\n",
      " 17  sub_openmindedness_h     411948 non-null  float64\n",
      " 18  sub_workstyle_h          411948 non-null  object \n",
      " 19  sup_ID                   411948 non-null  object \n",
      " 20  sup_fname                411948 non-null  object \n",
      " 21  sup_lname                411948 non-null  object \n",
      " 22  sup_age                  411948 non-null  object \n",
      " 23  sup_sub_age_diff         411948 non-null  object \n",
      " 24  sup_sex                  411948 non-null  object \n",
      " 25  sup_role                 411948 non-null  object \n",
      " 26  sup_commitment_h         411948 non-null  object \n",
      " 27  sup_perceptiveness_h     411948 non-null  object \n",
      " 28  sup_goodness_h           411948 non-null  object \n",
      " 29  event_date               411948 non-null  object \n",
      " 30  event_week_in_series     411948 non-null  int64  \n",
      " 31  event_day_in_series      411948 non-null  int64  \n",
      " 32  event_weekday_num        411948 non-null  int64  \n",
      " 33  event_weekday_name       411948 non-null  object \n",
      " 34  behav_comptype_h         411948 non-null  object \n",
      " 35  behav_cause_h            411948 non-null  object \n",
      " 36  actual_efficacy_h        411948 non-null  object \n",
      " 37  record_comptype          411948 non-null  object \n",
      " 38  record_cause             411948 non-null  object \n",
      " 39  recorded_efficacy        411948 non-null  object \n",
      " 40  recorded_note_from_sup   411590 non-null  object \n",
      " 41  record_conf_matrix_h     411948 non-null  object \n",
      "dtypes: float64(8), int64(5), object(29)\n",
      "memory usage: 132.0+ MB\n"
     ]
    }
   ],
   "source": [
    "workers.info()"
   ]
  },
  {
   "cell_type": "markdown",
   "id": "db95d88e",
   "metadata": {},
   "source": [
    "The dataframe consists of 42 features, all with data types of either float, integer or object."
   ]
  },
  {
   "cell_type": "code",
   "execution_count": 5,
   "id": "7b098785",
   "metadata": {},
   "outputs": [],
   "source": [
    "# Add column for Supervisor's full name for later\n",
    "workers['sup_full_name'] = workers['sup_fname'] + \" \" + workers['sup_lname']"
   ]
  },
  {
   "cell_type": "markdown",
   "id": "a63740b1",
   "metadata": {},
   "source": [
    "### Helpful tool: Lookup function\n",
    "Since there are 42 columns in this dataset, each with its own description, use this lookup function to quickly take a look at what the column heading may mean."
   ]
  },
  {
   "cell_type": "code",
   "execution_count": 23,
   "id": "186f1ec3",
   "metadata": {},
   "outputs": [],
   "source": [
    "# Get metadata file with column descriptions\n",
    "with open(\"../data/raw/metadata.json\") as file:\n",
    "    column_descriptions = json.load(file)\n",
    "\n",
    "# Define a lookup function for getting the description of a column name\n",
    "def get_column_desc(col_name, info=column_descriptions):\n",
    "    \"\"\"\n",
    "    Provides a lookup function for a description of the inputted list of column names. \n",
    "    \n",
    "    This function takes a list of column names as a list and returns a dictionary of column names \\ \n",
    "    and corresponding descriptions.\n",
    "    \n",
    "    Parameters:\n",
    "    col_name(list): List of column names you wish to lookup.\n",
    "    info(dict): A JSON file containing metadata of column descriptions.\n",
    "    \n",
    "    Returns: \n",
    "    dict: Returns column name and its description.\n",
    "    \n",
    "    \"\"\"\n",
    "    desc = dict()\n",
    "    for name in col_name:\n",
    "        desc[name] = info[name][\"Description\"]\n",
    "    return desc\n"
   ]
  },
  {
   "cell_type": "markdown",
   "id": "f1916797",
   "metadata": {},
   "source": [
    "### Getting an idea of the distribution of 'Events' (Idea, Feat, Resignation, etc.)"
   ]
  },
  {
   "cell_type": "markdown",
   "id": "5e68d6b1",
   "metadata": {},
   "source": [
    "There are two columns pertaining to an 'event': **`behav_comptype_h`**, which is hidden, and **`record_comptype`**. One is the actual underlying event performed by the worker, and the latter is the recorded event inputted by the supervisor. We will use the lookup function to get a better idea of the columns."
   ]
  },
  {
   "cell_type": "code",
   "execution_count": 7,
   "id": "d9166a20",
   "metadata": {},
   "outputs": [
    {
     "data": {
      "text/plain": [
       "{'behav_comptype_h': 'A string describing the underlying kind of behavior that the event’s subject actually performed on the given day and which is reflected in the row’s event. Possible values are “Presence”, “Absence”, “Resignation”, “Onboarding”, “Efficacy”, “Idea”, “Lapse”, “Feat”, “Slip”, “Teamwork”, “Disruption”, “Sacrifice”, and “Sabotage”. The value will be “None” in the case of a “Termination” event (which is solely an action on the part of the supervisor, not the subordinate; it includes a record component reflecting the HRM/ERP system entry made by the supervisor but no behavior component on the part of the subordinate).',\n",
       " 'record_comptype': 'A string describing the type of record made by the subject’s supervisor in the factory’s HRM/ERP system, in connection with the underlying behavior performed by the worker; it’s the record component of the event. Possible values are “Presence”, “Absence”, “Resignation”, “Termination”, “Onboarding”, “Efficacy”, “Idea”, “Lapse”, “Feat”, “Slip”, “Teamwork”, “Disruption”, “Sacrifice”, and “Sabotage”. It’s also possible for a supervisor to have overlooked a given qualitative behavior (e.g., a Feat or Teamwork) and thus to have made no record in the HRM/ERP system; in that case, this field’s value will be “None”.'}"
      ]
     },
     "execution_count": 7,
     "metadata": {},
     "output_type": "execute_result"
    }
   ],
   "source": [
    "# Get a description of the Column headings related to events\n",
    "get_column_desc(['behav_comptype_h', 'record_comptype'])"
   ]
  },
  {
   "cell_type": "markdown",
   "id": "d1d6325c",
   "metadata": {},
   "source": [
    "**Let's compare the two columns** "
   ]
  },
  {
   "cell_type": "code",
   "execution_count": 8,
   "id": "e1f6021e",
   "metadata": {
    "scrolled": false
   },
   "outputs": [
    {
     "data": {
      "text/html": [
       "<div>\n",
       "<style scoped>\n",
       "    .dataframe tbody tr th:only-of-type {\n",
       "        vertical-align: middle;\n",
       "    }\n",
       "\n",
       "    .dataframe tbody tr th {\n",
       "        vertical-align: top;\n",
       "    }\n",
       "\n",
       "    .dataframe thead th {\n",
       "        text-align: right;\n",
       "    }\n",
       "</style>\n",
       "<table border=\"1\" class=\"dataframe\">\n",
       "  <thead>\n",
       "    <tr style=\"text-align: right;\">\n",
       "      <th></th>\n",
       "      <th>Recorded by Supervisor</th>\n",
       "      <th>Actual Event</th>\n",
       "      <th>Difference</th>\n",
       "    </tr>\n",
       "  </thead>\n",
       "  <tbody>\n",
       "    <tr>\n",
       "      <th>Absence</th>\n",
       "      <td>6519</td>\n",
       "      <td>6524.0</td>\n",
       "      <td>-5.0</td>\n",
       "    </tr>\n",
       "    <tr>\n",
       "      <th>Disruption</th>\n",
       "      <td>781</td>\n",
       "      <td>927.0</td>\n",
       "      <td>-146.0</td>\n",
       "    </tr>\n",
       "    <tr>\n",
       "      <th>Efficacy</th>\n",
       "      <td>191272</td>\n",
       "      <td>191657.0</td>\n",
       "      <td>-385.0</td>\n",
       "    </tr>\n",
       "    <tr>\n",
       "      <th>Feat</th>\n",
       "      <td>3387</td>\n",
       "      <td>3937.0</td>\n",
       "      <td>-550.0</td>\n",
       "    </tr>\n",
       "    <tr>\n",
       "      <th>Idea</th>\n",
       "      <td>3334</td>\n",
       "      <td>3899.0</td>\n",
       "      <td>-565.0</td>\n",
       "    </tr>\n",
       "    <tr>\n",
       "      <th>Lapse</th>\n",
       "      <td>1344</td>\n",
       "      <td>1587.0</td>\n",
       "      <td>-243.0</td>\n",
       "    </tr>\n",
       "    <tr>\n",
       "      <th>None</th>\n",
       "      <td>3938</td>\n",
       "      <td>NaN</td>\n",
       "      <td>NaN</td>\n",
       "    </tr>\n",
       "    <tr>\n",
       "      <th>Onboarding</th>\n",
       "      <td>179</td>\n",
       "      <td>179.0</td>\n",
       "      <td>0.0</td>\n",
       "    </tr>\n",
       "    <tr>\n",
       "      <th>Presence</th>\n",
       "      <td>191272</td>\n",
       "      <td>191657.0</td>\n",
       "      <td>-385.0</td>\n",
       "    </tr>\n",
       "    <tr>\n",
       "      <th>Resignation</th>\n",
       "      <td>77</td>\n",
       "      <td>77.0</td>\n",
       "      <td>0.0</td>\n",
       "    </tr>\n",
       "    <tr>\n",
       "      <th>Sabotage</th>\n",
       "      <td>211</td>\n",
       "      <td>238.0</td>\n",
       "      <td>-27.0</td>\n",
       "    </tr>\n",
       "    <tr>\n",
       "      <th>Sacrifice</th>\n",
       "      <td>4605</td>\n",
       "      <td>5356.0</td>\n",
       "      <td>-751.0</td>\n",
       "    </tr>\n",
       "    <tr>\n",
       "      <th>Slip</th>\n",
       "      <td>837</td>\n",
       "      <td>994.0</td>\n",
       "      <td>-157.0</td>\n",
       "    </tr>\n",
       "    <tr>\n",
       "      <th>Teamwork</th>\n",
       "      <td>4090</td>\n",
       "      <td>4814.0</td>\n",
       "      <td>-724.0</td>\n",
       "    </tr>\n",
       "  </tbody>\n",
       "</table>\n",
       "</div>"
      ],
      "text/plain": [
       "             Recorded by Supervisor  Actual Event  Difference\n",
       "Absence                        6519        6524.0        -5.0\n",
       "Disruption                      781         927.0      -146.0\n",
       "Efficacy                     191272      191657.0      -385.0\n",
       "Feat                           3387        3937.0      -550.0\n",
       "Idea                           3334        3899.0      -565.0\n",
       "Lapse                          1344        1587.0      -243.0\n",
       "None                           3938           NaN         NaN\n",
       "Onboarding                      179         179.0         0.0\n",
       "Presence                     191272      191657.0      -385.0\n",
       "Resignation                      77          77.0         0.0\n",
       "Sabotage                        211         238.0       -27.0\n",
       "Sacrifice                      4605        5356.0      -751.0\n",
       "Slip                            837         994.0      -157.0\n",
       "Teamwork                       4090        4814.0      -724.0"
      ]
     },
     "execution_count": 8,
     "metadata": {},
     "output_type": "execute_result"
    }
   ],
   "source": [
    "# Removed records where behav_comptype_h is 'None' because that meant a termination event\n",
    "df_without_term_event = workers[(workers['behav_comptype_h'] != 'None')]\n",
    "\n",
    "\n",
    "recorded_event = df_without_term_event.groupby('record_comptype')['record_comptype'].count()\n",
    "actual_event = df_without_term_event.groupby('behav_comptype_h')['behav_comptype_h'].count()\n",
    "diff = recorded_event - actual_event\n",
    "\n",
    "# DF comparing actual vs recorded events \n",
    "events = pd.concat([recorded_event, actual_event, diff], axis=1)\n",
    "events.columns=['Recorded by Supervisor', 'Actual Event', 'Difference']\n",
    "events"
   ]
  },
  {
   "cell_type": "markdown",
   "id": "c0a3586a",
   "metadata": {},
   "source": [
    "Comparing the two, right away we can see that there are mismatches between what was **actually done vs. what was actually recorded by the supervisor**. For example, there were 550 mismatched records for employee 'Feats', 565 for 'Ideas' and 751 for 'Sacrifices', just to highlight a few.\n",
    "\n",
    "Consistently overperforming and not being recognized can lead to some potential frustration by the employee and is an interesting point to investigate. \n",
    "\n",
    "Let's probe a little bit further."
   ]
  },
  {
   "cell_type": "code",
   "execution_count": 9,
   "id": "b192fbd9",
   "metadata": {
    "scrolled": true
   },
   "outputs": [
    {
     "data": {
      "text/html": [
       "<div>\n",
       "<style scoped>\n",
       "    .dataframe tbody tr th:only-of-type {\n",
       "        vertical-align: middle;\n",
       "    }\n",
       "\n",
       "    .dataframe tbody tr th {\n",
       "        vertical-align: top;\n",
       "    }\n",
       "\n",
       "    .dataframe thead th {\n",
       "        text-align: right;\n",
       "    }\n",
       "</style>\n",
       "<table border=\"1\" class=\"dataframe\">\n",
       "  <thead>\n",
       "    <tr style=\"text-align: right;\">\n",
       "      <th></th>\n",
       "      <th>Actual Event</th>\n",
       "      <th>Recorded by Supervisor</th>\n",
       "    </tr>\n",
       "  </thead>\n",
       "  <tbody>\n",
       "    <tr>\n",
       "      <th>359</th>\n",
       "      <td>Idea</td>\n",
       "      <td>None</td>\n",
       "    </tr>\n",
       "    <tr>\n",
       "      <th>382</th>\n",
       "      <td>Feat</td>\n",
       "      <td>None</td>\n",
       "    </tr>\n",
       "    <tr>\n",
       "      <th>428</th>\n",
       "      <td>Sacrifice</td>\n",
       "      <td>None</td>\n",
       "    </tr>\n",
       "    <tr>\n",
       "      <th>431</th>\n",
       "      <td>Presence</td>\n",
       "      <td>None</td>\n",
       "    </tr>\n",
       "    <tr>\n",
       "      <th>432</th>\n",
       "      <td>Efficacy</td>\n",
       "      <td>None</td>\n",
       "    </tr>\n",
       "    <tr>\n",
       "      <th>...</th>\n",
       "      <td>...</td>\n",
       "      <td>...</td>\n",
       "    </tr>\n",
       "    <tr>\n",
       "      <th>411708</th>\n",
       "      <td>Teamwork</td>\n",
       "      <td>None</td>\n",
       "    </tr>\n",
       "    <tr>\n",
       "      <th>411713</th>\n",
       "      <td>Lapse</td>\n",
       "      <td>None</td>\n",
       "    </tr>\n",
       "    <tr>\n",
       "      <th>411813</th>\n",
       "      <td>Teamwork</td>\n",
       "      <td>None</td>\n",
       "    </tr>\n",
       "    <tr>\n",
       "      <th>411932</th>\n",
       "      <td>Teamwork</td>\n",
       "      <td>None</td>\n",
       "    </tr>\n",
       "    <tr>\n",
       "      <th>411939</th>\n",
       "      <td>Teamwork</td>\n",
       "      <td>None</td>\n",
       "    </tr>\n",
       "  </tbody>\n",
       "</table>\n",
       "<p>3938 rows × 2 columns</p>\n",
       "</div>"
      ],
      "text/plain": [
       "       Actual Event Recorded by Supervisor\n",
       "359            Idea                   None\n",
       "382            Feat                   None\n",
       "428       Sacrifice                   None\n",
       "431        Presence                   None\n",
       "432        Efficacy                   None\n",
       "...             ...                    ...\n",
       "411708     Teamwork                   None\n",
       "411713        Lapse                   None\n",
       "411813     Teamwork                   None\n",
       "411932     Teamwork                   None\n",
       "411939     Teamwork                   None\n",
       "\n",
       "[3938 rows x 2 columns]"
      ]
     },
     "execution_count": 9,
     "metadata": {},
     "output_type": "execute_result"
    }
   ],
   "source": [
    "# DataFrame showing mismatched events between Actual Event performed vs. what the supervisor recorded\n",
    "mismatched_events = df_without_term_event[df_without_term_event['record_comptype'] != df_without_term_event['behav_comptype_h']][['behav_comptype_h', 'record_comptype']]\n",
    "mismatched_events.rename(columns={'behav_comptype_h':'Actual Event', 'record_comptype':'Recorded by Supervisor'}, inplace=True)\n",
    "mismatched_events"
   ]
  },
  {
   "cell_type": "markdown",
   "id": "8bfafbdb",
   "metadata": {},
   "source": [
    "Comparing the two columns separately, we can see that there are about **3938 records** of mismatched events where the supervisor recorded something different than was performed for that given record. In a lot of cases, we can see that a supervisor just simply did not record a **positive** event like Sacrifice or Feat. That is a lot of mismatch!"
   ]
  },
  {
   "cell_type": "markdown",
   "id": "451d8f58",
   "metadata": {},
   "source": [
    "## **Exploratory Data Analysis**"
   ]
  },
  {
   "cell_type": "markdown",
   "id": "4a0ed1bd",
   "metadata": {},
   "source": [
    "Going into this exploratory analysis with the problem I'm trying to solve in mind, my initial thought is that my response variable will most likely be the records that have a **'Resignation'** event listed. Those records that involved a 'Termination' event are outside the scope of the question I'm trying to answer.\n",
    "\n",
    "Since I'm trying to predict what factors will contribute to an employee leaving (voluntarily), there will be several explanatory variables. My instinct is to divide and investigate them in three iterations: **explanatory variables related to the employee's role, performance, attitudes, etc.; explanatory variables related to the supervisor's; and a combination of the two.**\n",
    "\n"
   ]
  },
  {
   "cell_type": "markdown",
   "id": "70884258",
   "metadata": {},
   "source": [
    "### Firstly, how many employees resigned?"
   ]
  },
  {
   "cell_type": "code",
   "execution_count": 11,
   "id": "c2092b83",
   "metadata": {
    "scrolled": true
   },
   "outputs": [
    {
     "data": {
      "text/html": [
       "<div>\n",
       "<style scoped>\n",
       "    .dataframe tbody tr th:only-of-type {\n",
       "        vertical-align: middle;\n",
       "    }\n",
       "\n",
       "    .dataframe tbody tr th {\n",
       "        vertical-align: top;\n",
       "    }\n",
       "\n",
       "    .dataframe thead th {\n",
       "        text-align: right;\n",
       "    }\n",
       "</style>\n",
       "<table border=\"1\" class=\"dataframe\">\n",
       "  <thead>\n",
       "    <tr style=\"text-align: right;\">\n",
       "      <th></th>\n",
       "      <th>sub_ID</th>\n",
       "      <th>sub_fname</th>\n",
       "      <th>sub_lname</th>\n",
       "      <th>sub_age</th>\n",
       "      <th>sub_sex</th>\n",
       "      <th>sub_shift</th>\n",
       "      <th>sub_team</th>\n",
       "      <th>sub_role</th>\n",
       "      <th>sub_coll_IDs</th>\n",
       "      <th>sub_colls_same_sex_prtn</th>\n",
       "      <th>...</th>\n",
       "      <th>event_weekday_name</th>\n",
       "      <th>behav_comptype_h</th>\n",
       "      <th>behav_cause_h</th>\n",
       "      <th>actual_efficacy_h</th>\n",
       "      <th>record_comptype</th>\n",
       "      <th>record_cause</th>\n",
       "      <th>recorded_efficacy</th>\n",
       "      <th>recorded_note_from_sup</th>\n",
       "      <th>record_conf_matrix_h</th>\n",
       "      <th>sup_full_name</th>\n",
       "    </tr>\n",
       "  </thead>\n",
       "  <tbody>\n",
       "    <tr>\n",
       "      <th>1056</th>\n",
       "      <td>98000112</td>\n",
       "      <td>Dorothy</td>\n",
       "      <td>Reynolds</td>\n",
       "      <td>61</td>\n",
       "      <td>F</td>\n",
       "      <td>Shift 1</td>\n",
       "      <td>Team 5</td>\n",
       "      <td>Laborer</td>\n",
       "      <td>[98000106, 98000109, 98000110, 98000111, 98000...</td>\n",
       "      <td>0.526315789</td>\n",
       "      <td>...</td>\n",
       "      <td>Friday</td>\n",
       "      <td>Resignation</td>\n",
       "      <td>Poor Teammates</td>\n",
       "      <td>None</td>\n",
       "      <td>Resignation</td>\n",
       "      <td>None</td>\n",
       "      <td>None</td>\n",
       "      <td>NaN</td>\n",
       "      <td>None</td>\n",
       "      <td>Karen Bauer</td>\n",
       "    </tr>\n",
       "    <tr>\n",
       "      <th>1057</th>\n",
       "      <td>98000462</td>\n",
       "      <td>Mark</td>\n",
       "      <td>Bauer</td>\n",
       "      <td>63</td>\n",
       "      <td>M</td>\n",
       "      <td>Shift 3</td>\n",
       "      <td>Team 22</td>\n",
       "      <td>Laborer</td>\n",
       "      <td>[98000449, 98000450, 98000451, 98000452, 98000...</td>\n",
       "      <td>0.368421053</td>\n",
       "      <td>...</td>\n",
       "      <td>Friday</td>\n",
       "      <td>Resignation</td>\n",
       "      <td>Underrecorded Efficacy</td>\n",
       "      <td>None</td>\n",
       "      <td>Resignation</td>\n",
       "      <td>None</td>\n",
       "      <td>None</td>\n",
       "      <td>NaN</td>\n",
       "      <td>None</td>\n",
       "      <td>Eva Williams</td>\n",
       "    </tr>\n",
       "    <tr>\n",
       "      <th>1058</th>\n",
       "      <td>98000598</td>\n",
       "      <td>Francis</td>\n",
       "      <td>Weber</td>\n",
       "      <td>19</td>\n",
       "      <td>M</td>\n",
       "      <td>Shift 1</td>\n",
       "      <td>Team 5</td>\n",
       "      <td>Laborer</td>\n",
       "      <td>[98000106, 98000109, 98000110, 98000111, 98000...</td>\n",
       "      <td>0.421052632</td>\n",
       "      <td>...</td>\n",
       "      <td>Friday</td>\n",
       "      <td>None</td>\n",
       "      <td>None</td>\n",
       "      <td>None</td>\n",
       "      <td>Termination</td>\n",
       "      <td>Low Efficacy</td>\n",
       "      <td>None</td>\n",
       "      <td>NaN</td>\n",
       "      <td>None</td>\n",
       "      <td>Karen Bauer</td>\n",
       "    </tr>\n",
       "    <tr>\n",
       "      <th>2116</th>\n",
       "      <td>98000264</td>\n",
       "      <td>Mary</td>\n",
       "      <td>Ortiz</td>\n",
       "      <td>61</td>\n",
       "      <td>F</td>\n",
       "      <td>Shift 2</td>\n",
       "      <td>Team 12</td>\n",
       "      <td>Laborer</td>\n",
       "      <td>[98000246, 98000247, 98000248, 98000249, 98000...</td>\n",
       "      <td>0.789473684</td>\n",
       "      <td>...</td>\n",
       "      <td>Monday</td>\n",
       "      <td>Resignation</td>\n",
       "      <td>Recruited Away</td>\n",
       "      <td>None</td>\n",
       "      <td>Resignation</td>\n",
       "      <td>None</td>\n",
       "      <td>None</td>\n",
       "      <td>NaN</td>\n",
       "      <td>None</td>\n",
       "      <td>Sharon Walker</td>\n",
       "    </tr>\n",
       "    <tr>\n",
       "      <th>5272</th>\n",
       "      <td>98000081</td>\n",
       "      <td>Carol</td>\n",
       "      <td>Wieczorek</td>\n",
       "      <td>49</td>\n",
       "      <td>F</td>\n",
       "      <td>Shift 1</td>\n",
       "      <td>Team 3</td>\n",
       "      <td>Laborer</td>\n",
       "      <td>[98000066, 98000067, 98000068, 98000069, 98000...</td>\n",
       "      <td>0.473684211</td>\n",
       "      <td>...</td>\n",
       "      <td>Thursday</td>\n",
       "      <td>None</td>\n",
       "      <td>None</td>\n",
       "      <td>None</td>\n",
       "      <td>Termination</td>\n",
       "      <td>Multiple Sabotages</td>\n",
       "      <td>None</td>\n",
       "      <td>NaN</td>\n",
       "      <td>None</td>\n",
       "      <td>Elizabeth Martinez</td>\n",
       "    </tr>\n",
       "    <tr>\n",
       "      <th>...</th>\n",
       "      <td>...</td>\n",
       "      <td>...</td>\n",
       "      <td>...</td>\n",
       "      <td>...</td>\n",
       "      <td>...</td>\n",
       "      <td>...</td>\n",
       "      <td>...</td>\n",
       "      <td>...</td>\n",
       "      <td>...</td>\n",
       "      <td>...</td>\n",
       "      <td>...</td>\n",
       "      <td>...</td>\n",
       "      <td>...</td>\n",
       "      <td>...</td>\n",
       "      <td>...</td>\n",
       "      <td>...</td>\n",
       "      <td>...</td>\n",
       "      <td>...</td>\n",
       "      <td>...</td>\n",
       "      <td>...</td>\n",
       "      <td>...</td>\n",
       "    </tr>\n",
       "    <tr>\n",
       "      <th>390829</th>\n",
       "      <td>98000778</td>\n",
       "      <td>Dennis</td>\n",
       "      <td>Walker</td>\n",
       "      <td>48</td>\n",
       "      <td>M</td>\n",
       "      <td>Shift 2</td>\n",
       "      <td>Team 12</td>\n",
       "      <td>Laborer</td>\n",
       "      <td>[98000247, 98000249, 98000250, 98000251, 98000...</td>\n",
       "      <td>0.315789474</td>\n",
       "      <td>...</td>\n",
       "      <td>Thursday</td>\n",
       "      <td>None</td>\n",
       "      <td>None</td>\n",
       "      <td>None</td>\n",
       "      <td>Termination</td>\n",
       "      <td>Multiple Absences</td>\n",
       "      <td>None</td>\n",
       "      <td>NaN</td>\n",
       "      <td>None</td>\n",
       "      <td>Sharon Walker</td>\n",
       "    </tr>\n",
       "    <tr>\n",
       "      <th>400307</th>\n",
       "      <td>98000727</td>\n",
       "      <td>Robert</td>\n",
       "      <td>Novak</td>\n",
       "      <td>54</td>\n",
       "      <td>M</td>\n",
       "      <td>Shift 1</td>\n",
       "      <td>Team 8</td>\n",
       "      <td>Laborer</td>\n",
       "      <td>[98000166, 98000168, 98000170, 98000171, 98000...</td>\n",
       "      <td>0.631578947</td>\n",
       "      <td>...</td>\n",
       "      <td>Wednesday</td>\n",
       "      <td>Resignation</td>\n",
       "      <td>Recruited Away</td>\n",
       "      <td>None</td>\n",
       "      <td>Resignation</td>\n",
       "      <td>None</td>\n",
       "      <td>None</td>\n",
       "      <td>NaN</td>\n",
       "      <td>None</td>\n",
       "      <td>Jeffrey Washington</td>\n",
       "    </tr>\n",
       "    <tr>\n",
       "      <th>400308</th>\n",
       "      <td>98000779</td>\n",
       "      <td>Margaret</td>\n",
       "      <td>Castellano</td>\n",
       "      <td>34</td>\n",
       "      <td>F</td>\n",
       "      <td>Shift 3</td>\n",
       "      <td>Team 21</td>\n",
       "      <td>Laborer</td>\n",
       "      <td>[98000428, 98000429, 98000430, 98000431, 98000...</td>\n",
       "      <td>0.526315789</td>\n",
       "      <td>...</td>\n",
       "      <td>Wednesday</td>\n",
       "      <td>Resignation</td>\n",
       "      <td>Poor Teammates</td>\n",
       "      <td>None</td>\n",
       "      <td>Resignation</td>\n",
       "      <td>None</td>\n",
       "      <td>None</td>\n",
       "      <td>NaN</td>\n",
       "      <td>None</td>\n",
       "      <td>William Suzuki</td>\n",
       "    </tr>\n",
       "    <tr>\n",
       "      <th>407664</th>\n",
       "      <td>98000139</td>\n",
       "      <td>Benjamin</td>\n",
       "      <td>Rossi</td>\n",
       "      <td>54</td>\n",
       "      <td>M</td>\n",
       "      <td>Shift 1</td>\n",
       "      <td>Team 6</td>\n",
       "      <td>Laborer</td>\n",
       "      <td>[98000125, 98000127, 98000130, 98000131, 98000...</td>\n",
       "      <td>0.473684211</td>\n",
       "      <td>...</td>\n",
       "      <td>Friday</td>\n",
       "      <td>None</td>\n",
       "      <td>None</td>\n",
       "      <td>None</td>\n",
       "      <td>Termination</td>\n",
       "      <td>Multiple Sabotages</td>\n",
       "      <td>None</td>\n",
       "      <td>NaN</td>\n",
       "      <td>None</td>\n",
       "      <td>Elizabeth Robinson</td>\n",
       "    </tr>\n",
       "    <tr>\n",
       "      <th>407665</th>\n",
       "      <td>98000250</td>\n",
       "      <td>Tamara</td>\n",
       "      <td>Butler</td>\n",
       "      <td>40</td>\n",
       "      <td>F</td>\n",
       "      <td>Shift 2</td>\n",
       "      <td>Team 12</td>\n",
       "      <td>Laborer</td>\n",
       "      <td>[98000247, 98000249, 98000251, 98000255, 98000...</td>\n",
       "      <td>0.684210526</td>\n",
       "      <td>...</td>\n",
       "      <td>Friday</td>\n",
       "      <td>None</td>\n",
       "      <td>None</td>\n",
       "      <td>None</td>\n",
       "      <td>Termination</td>\n",
       "      <td>Multiple Sabotages</td>\n",
       "      <td>None</td>\n",
       "      <td>NaN</td>\n",
       "      <td>None</td>\n",
       "      <td>Sharon Walker</td>\n",
       "    </tr>\n",
       "  </tbody>\n",
       "</table>\n",
       "<p>179 rows × 43 columns</p>\n",
       "</div>"
      ],
      "text/plain": [
       "          sub_ID sub_fname   sub_lname  sub_age sub_sex sub_shift sub_team  \\\n",
       "1056    98000112   Dorothy    Reynolds       61       F   Shift 1   Team 5   \n",
       "1057    98000462      Mark       Bauer       63       M   Shift 3  Team 22   \n",
       "1058    98000598   Francis       Weber       19       M   Shift 1   Team 5   \n",
       "2116    98000264      Mary       Ortiz       61       F   Shift 2  Team 12   \n",
       "5272    98000081     Carol   Wieczorek       49       F   Shift 1   Team 3   \n",
       "...          ...       ...         ...      ...     ...       ...      ...   \n",
       "390829  98000778    Dennis      Walker       48       M   Shift 2  Team 12   \n",
       "400307  98000727    Robert       Novak       54       M   Shift 1   Team 8   \n",
       "400308  98000779  Margaret  Castellano       34       F   Shift 3  Team 21   \n",
       "407664  98000139  Benjamin       Rossi       54       M   Shift 1   Team 6   \n",
       "407665  98000250    Tamara      Butler       40       F   Shift 2  Team 12   \n",
       "\n",
       "       sub_role                                       sub_coll_IDs  \\\n",
       "1056    Laborer  [98000106, 98000109, 98000110, 98000111, 98000...   \n",
       "1057    Laborer  [98000449, 98000450, 98000451, 98000452, 98000...   \n",
       "1058    Laborer  [98000106, 98000109, 98000110, 98000111, 98000...   \n",
       "2116    Laborer  [98000246, 98000247, 98000248, 98000249, 98000...   \n",
       "5272    Laborer  [98000066, 98000067, 98000068, 98000069, 98000...   \n",
       "...         ...                                                ...   \n",
       "390829  Laborer  [98000247, 98000249, 98000250, 98000251, 98000...   \n",
       "400307  Laborer  [98000166, 98000168, 98000170, 98000171, 98000...   \n",
       "400308  Laborer  [98000428, 98000429, 98000430, 98000431, 98000...   \n",
       "407664  Laborer  [98000125, 98000127, 98000130, 98000131, 98000...   \n",
       "407665  Laborer  [98000247, 98000249, 98000251, 98000255, 98000...   \n",
       "\n",
       "       sub_colls_same_sex_prtn  ...  event_weekday_name  behav_comptype_h  \\\n",
       "1056               0.526315789  ...              Friday       Resignation   \n",
       "1057               0.368421053  ...              Friday       Resignation   \n",
       "1058               0.421052632  ...              Friday              None   \n",
       "2116               0.789473684  ...              Monday       Resignation   \n",
       "5272               0.473684211  ...            Thursday              None   \n",
       "...                        ...  ...                 ...               ...   \n",
       "390829             0.315789474  ...            Thursday              None   \n",
       "400307             0.631578947  ...           Wednesday       Resignation   \n",
       "400308             0.526315789  ...           Wednesday       Resignation   \n",
       "407664             0.473684211  ...              Friday              None   \n",
       "407665             0.684210526  ...              Friday              None   \n",
       "\n",
       "                 behav_cause_h  actual_efficacy_h  record_comptype  \\\n",
       "1056            Poor Teammates               None      Resignation   \n",
       "1057    Underrecorded Efficacy               None      Resignation   \n",
       "1058                      None               None      Termination   \n",
       "2116            Recruited Away               None      Resignation   \n",
       "5272                      None               None      Termination   \n",
       "...                        ...                ...              ...   \n",
       "390829                    None               None      Termination   \n",
       "400307          Recruited Away               None      Resignation   \n",
       "400308          Poor Teammates               None      Resignation   \n",
       "407664                    None               None      Termination   \n",
       "407665                    None               None      Termination   \n",
       "\n",
       "              record_cause  recorded_efficacy  recorded_note_from_sup  \\\n",
       "1056                  None               None                     NaN   \n",
       "1057                  None               None                     NaN   \n",
       "1058          Low Efficacy               None                     NaN   \n",
       "2116                  None               None                     NaN   \n",
       "5272    Multiple Sabotages               None                     NaN   \n",
       "...                    ...                ...                     ...   \n",
       "390829   Multiple Absences               None                     NaN   \n",
       "400307                None               None                     NaN   \n",
       "400308                None               None                     NaN   \n",
       "407664  Multiple Sabotages               None                     NaN   \n",
       "407665  Multiple Sabotages               None                     NaN   \n",
       "\n",
       "       record_conf_matrix_h       sup_full_name  \n",
       "1056                   None         Karen Bauer  \n",
       "1057                   None        Eva Williams  \n",
       "1058                   None         Karen Bauer  \n",
       "2116                   None       Sharon Walker  \n",
       "5272                   None  Elizabeth Martinez  \n",
       "...                     ...                 ...  \n",
       "390829                 None       Sharon Walker  \n",
       "400307                 None  Jeffrey Washington  \n",
       "400308                 None      William Suzuki  \n",
       "407664                 None  Elizabeth Robinson  \n",
       "407665                 None       Sharon Walker  \n",
       "\n",
       "[179 rows x 43 columns]"
      ]
     },
     "execution_count": 11,
     "metadata": {},
     "output_type": "execute_result"
    }
   ],
   "source": [
    "# Subset original dataframe for turnover events (Resignation and Termination)\n",
    "turnover = ['Resignation', 'Termination']\n",
    "turnover_events = workers[workers['record_comptype'].isin(turnover)]\n",
    "turnover_events"
   ]
  },
  {
   "cell_type": "markdown",
   "id": "257a6591",
   "metadata": {},
   "source": [
    "Over the course of 18 months, this factory had 179 turnover events. "
   ]
  },
  {
   "cell_type": "code",
   "execution_count": 24,
   "id": "247f1aa8",
   "metadata": {},
   "outputs": [
    {
     "data": {
      "text/plain": [
       "77"
      ]
     },
     "execution_count": 24,
     "metadata": {},
     "output_type": "execute_result"
    }
   ],
   "source": [
    "# Get resignations out of turnover events\n",
    "resignations = turnover_events[turnover_events['record_comptype'] == 'Resignation']\n",
    "\n",
    "len(resignations)"
   ]
  },
  {
   "cell_type": "markdown",
   "id": "9a412403",
   "metadata": {},
   "source": [
    "Of the 179 turnover events, 77 employees voluntarily resigned!"
   ]
  },
  {
   "cell_type": "markdown",
   "id": "2906338f",
   "metadata": {},
   "source": [
    "### For those employees that resigned, what were the underlying reasons (true hidden reason) for their resignation?"
   ]
  },
  {
   "cell_type": "code",
   "execution_count": 27,
   "id": "5ecc6849",
   "metadata": {
    "scrolled": false
   },
   "outputs": [
    {
     "data": {
      "image/png": "[encoded data removed]",
      "text/plain": [
       "<Figure size 640x480 with 1 Axes>"
      ]
     },
     "metadata": {},
     "output_type": "display_data"
    }
   ],
   "source": [
    "# Visualize hidden reasons for resignations\n",
    "sns.countplot(x='behav_cause_h', data=resignations)\n",
    "\n",
    "\n",
    "plt.title('True Reasons for Employee Resignations')\n",
    "plt.xlabel('Top Reasons')\n",
    "plt.ylabel('Count')\n",
    "\n",
    "plt.xticks(rotation=45)\n",
    "plt.show()"
   ]
  },
  {
   "cell_type": "markdown",
   "id": "f92846b3",
   "metadata": {},
   "source": [
    "Interestingly, of the 77 resignations, there seems to be only 5 major categories of reasons the employees resigned, with one of the top reasons being low commitment. \n",
    "\n",
    "It seems like the resignations can be grouped into 3 categories: employee traits-based reasons, supervisor-related reasons and lastly teammate-related reasons. This gives us a hint at what to focus in on, but in the meantime let's probe from a top-down view."
   ]
  },
  {
   "cell_type": "markdown",
   "id": "470a24c5",
   "metadata": {},
   "source": [
    "# What do resigned employees have in common?\n",
    "What are some explanatory variables related to the employee that might have correlation with a Resignation event?\n",
    "\n",
    "We can draw comparisons between **Age, Sex, Shift, Team, and Role**. Furthermore, the 'hidden' employee traits: **health, commitment, perceptiveness, dexterity, sociality, strength, goodness, open-mindedness, and workstyle** all seem to be some interesting features to probe."
   ]
  },
  {
   "cell_type": "markdown",
   "id": "d98b757a",
   "metadata": {},
   "source": [
    "### **What do these columns mean?**\n",
    "Run the code below to familiarize yourself with the column descriptions of interest below."
   ]
  },
  {
   "cell_type": "code",
   "execution_count": 28,
   "id": "fcb23c46",
   "metadata": {},
   "outputs": [],
   "source": [
    "# Column descriptions related to employee role in factory\n",
    "work_desc = ['sub_age', 'sub_team', 'sub_sex', 'sub_shift', 'sub_role']\n",
    "# get_column_desc(work_desc)"
   ]
  },
  {
   "cell_type": "code",
   "execution_count": 29,
   "id": "89185129",
   "metadata": {},
   "outputs": [],
   "source": [
    "# Column descriptions related to employee hidden traits\n",
    "employee_traits_1 = ['sub_health_h', 'sub_commitment_h', 'sub_perceptiveness_h', 'sub_dexterity_h', \\\n",
    "                  'sub_sociality_h', 'sub_goodness_h', 'sub_strength_h', 'sub_health_h', 'sub_openmindedness_h']\n",
    "# get_column_desc(employee_traits_1)"
   ]
  },
  {
   "cell_type": "markdown",
   "id": "5c4eba8b",
   "metadata": {},
   "source": [
    "Separated the traits for better readability."
   ]
  },
  {
   "cell_type": "code",
   "execution_count": 30,
   "id": "797400f6",
   "metadata": {
    "scrolled": true
   },
   "outputs": [],
   "source": [
    "employee_traits_2 = ['sub_workstyle_h', 'actual_efficacy_h', 'behav_cause_h', 'behav_comptype_h']\n",
    "# get_column_desc(employee_traits_2)"
   ]
  },
  {
   "cell_type": "markdown",
   "id": "21b23b6c",
   "metadata": {},
   "source": [
    "## Hidden Employee Traits\n",
    "\n",
    "Since the values listed in the columns that denote hidden traits for each employee directly affects the kind of events they may have (a person with a high perceptiveness score is more likely to have an Idea event, for example), I was curious to see if employees that resigned had values that fell within a certain range.\n"
   ]
  },
  {
   "cell_type": "code",
   "execution_count": 17,
   "id": "3af3f133",
   "metadata": {},
   "outputs": [],
   "source": [
    "# Extract traits to compare\n",
    "worker_traits_1 = ['sub_health_h','sub_commitment_h', 'sub_perceptiveness_h','sub_dexterity_h']\n",
    "worker_traits_2 = ['sub_sociality_h','sub_goodness_h','sub_strength_h', 'sub_openmindedness_h']\n",
    "traits = ['sub_health_h','sub_commitment_h', 'sub_perceptiveness_h','sub_dexterity_h', \\\n",
    "         'sub_sociality_h','sub_goodness_h','sub_strength_h', 'sub_openmindedness_h']\n",
    "num_of_cols = [0,1,2,3]"
   ]
  },
  {
   "cell_type": "code",
   "execution_count": 18,
   "id": "cf043b3e",
   "metadata": {
    "scrolled": false
   },
   "outputs": [
    {
     "data": {
      "image/png": "[encoded data removed]",
      "text/plain": [
       "<Figure size 1000x1000 with 8 Axes>"
      ]
     },
     "metadata": {},
     "output_type": "display_data"
    }
   ],
   "source": [
    "# Plot histograms for each hidden trait\n",
    "\n",
    "sns.set_style('whitegrid')\n",
    "\n",
    "fig, ax = plt.subplots(2,4, figsize=(10,10))\n",
    "\n",
    "for i, feat in zip(num_of_cols, worker_traits_1):\n",
    "    ax[0,i].hist(x=resignations[feat], bins=9, density=True)\n",
    "    ax[0,i].set_xlabel(f'{feat}')\n",
    "    ax[0,i].set_ylabel('Frequency')\n",
    "    \n",
    "for i, feat in zip(num_of_cols, worker_traits_2):\n",
    "    ax[1,i].hist(x=resignations[feat], bins=9, density=True)\n",
    "    ax[1,i].set_xlabel(f'{feat}')\n",
    "    ax[1,i].set_ylabel('Frequency')\n",
    "\n",
    "fig.suptitle('Distribution of Hidden Traits for Resigned Employees')\n",
    "fig.tight_layout()\n",
    "plt.show()"
   ]
  },
  {
   "cell_type": "markdown",
   "id": "af742922",
   "metadata": {},
   "source": [
    "From these plots, we can estimate that almost across the board, an employee that resigned typically had values for these traits that ranged between 0.6 - 0.8. \n",
    "\n",
    "Perhaps, we can visualize these better in a boxplot. "
   ]
  },
  {
   "cell_type": "code",
   "execution_count": 19,
   "id": "837130d3",
   "metadata": {},
   "outputs": [
    {
     "name": "stderr",
     "output_type": "stream",
     "text": [
      "/Users/kylerodriguez/miniconda3/envs/employee-attrition/lib/python3.10/site-packages/seaborn/categorical.py:82: FutureWarning: iteritems is deprecated and will be removed in a future version. Use .items instead.\n",
      "  plot_data = [np.asarray(s, float) for k, s in iter_data]\n",
      "/Users/kylerodriguez/miniconda3/envs/employee-attrition/lib/python3.10/site-packages/seaborn/categorical.py:82: FutureWarning: iteritems is deprecated and will be removed in a future version. Use .items instead.\n",
      "  plot_data = [np.asarray(s, float) for k, s in iter_data]\n"
     ]
    },
    {
     "data": {
      "image/png": "[encoded data removed]",
      "text/plain": [
       "<Figure size 1500x1500 with 2 Axes>"
      ]
     },
     "metadata": {},
     "output_type": "display_data"
    }
   ],
   "source": [
    "resigned_traits = resignations[traits]\n",
    "\n",
    "# Boxplots visualizing trait scores of Resigned employees\n",
    "fig, ax = plt.subplots(2,1,figsize=(15,15))\n",
    "sns.boxplot(data=resigned_traits[worker_traits_1], ax=ax[0])\n",
    "sns.boxplot(data=resigned_traits[worker_traits_2], ax=ax[1])\n",
    "fig.suptitle('Boxplots of Hidden Traits for Resigned Employees')\n",
    "plt.show()"
   ]
  },
  {
   "cell_type": "markdown",
   "id": "938e03bd",
   "metadata": {},
   "source": [
    "Just like we saw in the histograms, the scores in the IQR for these traits all seem to fall between 0.7 - 0.9. Furthermore, the **median scores seem to hover around 0.75 across the board.**"
   ]
  },
  {
   "cell_type": "code",
   "execution_count": 20,
   "id": "36b6b52d",
   "metadata": {},
   "outputs": [
    {
     "data": {
      "text/html": [
       "<div>\n",
       "<style scoped>\n",
       "    .dataframe tbody tr th:only-of-type {\n",
       "        vertical-align: middle;\n",
       "    }\n",
       "\n",
       "    .dataframe tbody tr th {\n",
       "        vertical-align: top;\n",
       "    }\n",
       "\n",
       "    .dataframe thead th {\n",
       "        text-align: right;\n",
       "    }\n",
       "</style>\n",
       "<table border=\"1\" class=\"dataframe\">\n",
       "  <thead>\n",
       "    <tr style=\"text-align: right;\">\n",
       "      <th></th>\n",
       "      <th>sub_health_h</th>\n",
       "      <th>sub_commitment_h</th>\n",
       "      <th>sub_perceptiveness_h</th>\n",
       "      <th>sub_dexterity_h</th>\n",
       "      <th>sub_sociality_h</th>\n",
       "      <th>sub_goodness_h</th>\n",
       "      <th>sub_strength_h</th>\n",
       "      <th>sub_openmindedness_h</th>\n",
       "    </tr>\n",
       "  </thead>\n",
       "  <tbody>\n",
       "    <tr>\n",
       "      <th>count</th>\n",
       "      <td>77.000000</td>\n",
       "      <td>77.000000</td>\n",
       "      <td>77.000000</td>\n",
       "      <td>77.000000</td>\n",
       "      <td>77.000000</td>\n",
       "      <td>77.000000</td>\n",
       "      <td>77.000000</td>\n",
       "      <td>77.000000</td>\n",
       "    </tr>\n",
       "    <tr>\n",
       "      <th>mean</th>\n",
       "      <td>0.722584</td>\n",
       "      <td>0.731805</td>\n",
       "      <td>0.739649</td>\n",
       "      <td>0.727987</td>\n",
       "      <td>0.750844</td>\n",
       "      <td>0.756506</td>\n",
       "      <td>0.734701</td>\n",
       "      <td>0.740818</td>\n",
       "    </tr>\n",
       "    <tr>\n",
       "      <th>std</th>\n",
       "      <td>0.155644</td>\n",
       "      <td>0.152455</td>\n",
       "      <td>0.147753</td>\n",
       "      <td>0.152054</td>\n",
       "      <td>0.170599</td>\n",
       "      <td>0.169799</td>\n",
       "      <td>0.151227</td>\n",
       "      <td>0.168952</td>\n",
       "    </tr>\n",
       "    <tr>\n",
       "      <th>min</th>\n",
       "      <td>0.323000</td>\n",
       "      <td>0.318000</td>\n",
       "      <td>0.342000</td>\n",
       "      <td>0.360000</td>\n",
       "      <td>0.152000</td>\n",
       "      <td>0.346000</td>\n",
       "      <td>0.394000</td>\n",
       "      <td>0.320000</td>\n",
       "    </tr>\n",
       "    <tr>\n",
       "      <th>25%</th>\n",
       "      <td>0.648000</td>\n",
       "      <td>0.622000</td>\n",
       "      <td>0.648000</td>\n",
       "      <td>0.638000</td>\n",
       "      <td>0.688000</td>\n",
       "      <td>0.661000</td>\n",
       "      <td>0.639000</td>\n",
       "      <td>0.608000</td>\n",
       "    </tr>\n",
       "    <tr>\n",
       "      <th>50%</th>\n",
       "      <td>0.754000</td>\n",
       "      <td>0.728000</td>\n",
       "      <td>0.776000</td>\n",
       "      <td>0.746000</td>\n",
       "      <td>0.772000</td>\n",
       "      <td>0.786000</td>\n",
       "      <td>0.733000</td>\n",
       "      <td>0.750000</td>\n",
       "    </tr>\n",
       "    <tr>\n",
       "      <th>75%</th>\n",
       "      <td>0.814000</td>\n",
       "      <td>0.866000</td>\n",
       "      <td>0.844000</td>\n",
       "      <td>0.833000</td>\n",
       "      <td>0.889000</td>\n",
       "      <td>0.898000</td>\n",
       "      <td>0.872000</td>\n",
       "      <td>0.868000</td>\n",
       "    </tr>\n",
       "    <tr>\n",
       "      <th>max</th>\n",
       "      <td>0.977000</td>\n",
       "      <td>0.999000</td>\n",
       "      <td>0.997000</td>\n",
       "      <td>0.992000</td>\n",
       "      <td>0.995000</td>\n",
       "      <td>1.000000</td>\n",
       "      <td>0.994000</td>\n",
       "      <td>0.998000</td>\n",
       "    </tr>\n",
       "  </tbody>\n",
       "</table>\n",
       "</div>"
      ],
      "text/plain": [
       "       sub_health_h  sub_commitment_h  sub_perceptiveness_h  sub_dexterity_h  \\\n",
       "count     77.000000         77.000000             77.000000        77.000000   \n",
       "mean       0.722584          0.731805              0.739649         0.727987   \n",
       "std        0.155644          0.152455              0.147753         0.152054   \n",
       "min        0.323000          0.318000              0.342000         0.360000   \n",
       "25%        0.648000          0.622000              0.648000         0.638000   \n",
       "50%        0.754000          0.728000              0.776000         0.746000   \n",
       "75%        0.814000          0.866000              0.844000         0.833000   \n",
       "max        0.977000          0.999000              0.997000         0.992000   \n",
       "\n",
       "       sub_sociality_h  sub_goodness_h  sub_strength_h  sub_openmindedness_h  \n",
       "count        77.000000       77.000000       77.000000             77.000000  \n",
       "mean          0.750844        0.756506        0.734701              0.740818  \n",
       "std           0.170599        0.169799        0.151227              0.168952  \n",
       "min           0.152000        0.346000        0.394000              0.320000  \n",
       "25%           0.688000        0.661000        0.639000              0.608000  \n",
       "50%           0.772000        0.786000        0.733000              0.750000  \n",
       "75%           0.889000        0.898000        0.872000              0.868000  \n",
       "max           0.995000        1.000000        0.994000              0.998000  "
      ]
     },
     "execution_count": 20,
     "metadata": {},
     "output_type": "execute_result"
    }
   ],
   "source": [
    "# Summary statistics for just the traits of resigned employees\n",
    "resigned_traits.describe()"
   ]
  },
  {
   "cell_type": "markdown",
   "id": "be336dc9",
   "metadata": {},
   "source": [
    "Looking at the actual numbers, we confirmed our interpretations of the graph. The scores all sit in the 0.6 - 0.9 range, and the median scores all hover around 0.75 across the board. \n",
    "\n",
    "It's interesting to note that it seems like employees that resigned were neither over- nor under-achievers in terms of these traits.  "
   ]
  },
  {
   "cell_type": "markdown",
   "id": "07b82383",
   "metadata": {},
   "source": [
    "## Employees Age, Sex, Shift, Role and Teams\n",
    "\n",
    "What does the distribution of resigned employees look like across these categories?"
   ]
  },
  {
   "cell_type": "code",
   "execution_count": 32,
   "id": "d6069b2b",
   "metadata": {
    "scrolled": false
   },
   "outputs": [
    {
     "data": {
      "image/png": "[encoded data removed]",
      "text/plain": [
       "<Figure size 1500x1000 with 3 Axes>"
      ]
     },
     "metadata": {},
     "output_type": "display_data"
    }
   ],
   "source": [
    "# Bar plots visualizing the Sex, Shift and Roles of Resigned Employees\n",
    "sns.set_style('whitegrid')\n",
    "\n",
    "fig, axes = plt.subplots(1, 3, figsize=(15, 10))\n",
    "index = 2\n",
    "for axis in axes:\n",
    "    sns.countplot(x=resignations[work_desc[index]], ax=axis)\n",
    "    index = index+1\n",
    "  \n",
    "fig.suptitle('Count of Resigned Employees Sex, Shift and Role')\n",
    "plt.show()"
   ]
  },
  {
   "cell_type": "markdown",
   "id": "4e2dbc7e",
   "metadata": {},
   "source": [
    "From the plots above, we can see that there were more Female workers that resigned compared to Male workers. Is this because there is a larger population of female workers in the workforce?\n",
    "\n",
    "Secondly, though there was slightly more resignations from Shift 3, the number of resignations seem to be average across the shifts.\n",
    "\n",
    "Lastly, there is a disproportionate amount of Laborers that resigned, as opposed to Team Leaders. "
   ]
  },
  {
   "cell_type": "code",
   "execution_count": 33,
   "id": "7a02b17a",
   "metadata": {
    "scrolled": false
   },
   "outputs": [
    {
     "data": {
      "image/png": "[encoded data removed]",
      "text/plain": [
       "<Figure size 300x300 with 1 Axes>"
      ]
     },
     "metadata": {},
     "output_type": "display_data"
    }
   ],
   "source": [
    "# Count plot visualizing workforce sex proportion\n",
    "fig, ax = plt.subplots(figsize=(3,3))\n",
    "sns.countplot(x=workers['sub_sex'])\n",
    "plt.title('Proportion of Female to Male Workers in Entire Workforce')\n",
    "plt.xlabel('Sex')\n",
    "plt.show()"
   ]
  },
  {
   "cell_type": "markdown",
   "id": "78668b1a",
   "metadata": {},
   "source": [
    "There are more female workers in the workforce, so the number of resignations may just be proportional to the workforce makeup."
   ]
  },
  {
   "cell_type": "code",
   "execution_count": 34,
   "id": "9d1e7258",
   "metadata": {},
   "outputs": [
    {
     "data": {
      "image/png": "[encoded data removed]",
      "text/plain": [
       "<Figure size 800x800 with 1 Axes>"
      ]
     },
     "metadata": {},
     "output_type": "display_data"
    }
   ],
   "source": [
    "# Visualize the Distribution of Ages for Resigned Employees\n",
    "fig, ax = plt.subplots(figsize=(8,8))\n",
    "sns.stripplot(data=resignations, x='sub_shift', y='sub_team', hue='sub_sex', order=['Shift 1', 'Shift 2', 'Shift 3'])\n",
    "\n",
    "plt.xlabel('Shift')\n",
    "plt.ylabel('Team')\n",
    "plt.legend(title='Sex', loc='lower right')\n",
    "fig.suptitle('A Striplot Showing the Number of Resigned Employees By Shift per Team and By Sex')\n",
    "plt.show()"
   ]
  },
  {
   "cell_type": "markdown",
   "id": "fccb0a99",
   "metadata": {},
   "source": [
    "Interestingly, it appears that certain teams tended to have more resignations depending on the shift. "
   ]
  },
  {
   "cell_type": "markdown",
   "id": "4174b80f",
   "metadata": {},
   "source": [
    "### For those that resigned, did they consistently have 'good' events like Idea, Feat, Teamwork and Sacrifice vs. the rest of workers?"
   ]
  },
  {
   "cell_type": "code",
   "execution_count": 35,
   "id": "94e66ea2",
   "metadata": {},
   "outputs": [],
   "source": [
    "resigned_ID = resignations.sub_ID.unique().tolist()"
   ]
  },
  {
   "cell_type": "markdown",
   "id": "78abdc55",
   "metadata": {},
   "source": [
    "### For those employees that resigned, what were the underlying reasons (true hidden reason) for their resignation?"
   ]
  },
  {
   "cell_type": "code",
   "execution_count": 36,
   "id": "8325e309",
   "metadata": {},
   "outputs": [
    {
     "data": {
      "image/png": "[encoded data removed]",
      "text/plain": [
       "<Figure size 640x480 with 1 Axes>"
      ]
     },
     "metadata": {},
     "output_type": "display_data"
    }
   ],
   "source": [
    "sns.countplot(x='behav_cause_h', data=resignations)\n",
    "plt.xticks(rotation=45)\n",
    "plt.show()"
   ]
  },
  {
   "cell_type": "markdown",
   "id": "487d168d",
   "metadata": {},
   "source": [
    "### Explanatory Variables Related to Supervisor"
   ]
  },
  {
   "cell_type": "markdown",
   "id": "1014266c",
   "metadata": {},
   "source": [
    "It's a common saying that employees don't leave their jobs, they leave their managers. In the spirit of this saying, what explanatory variables related to the supervisor might contribute to an employee resigning?\n",
    "\n",
    "From first glance, some variables include: Age, Age Difference, Sex, Role, Perceptiveness, and Goodness. In addition, variables like recorded comptype, recorded cause, recorded efficacy and recorded note from supervisor seem interesting."
   ]
  },
  {
   "cell_type": "code",
   "execution_count": 37,
   "id": "8d8558d0",
   "metadata": {
    "scrolled": true
   },
   "outputs": [
    {
     "data": {
      "text/plain": [
       "array(['Susan Dahl', 'Marvin Sandoval', 'Tamara Chao', 'Rebecca Bauer',\n",
       "       'Joan Winter', 'Elizabeth Martinez', 'Alice Zimmerman',\n",
       "       'Karen Bauer', 'Elizabeth Robinson', 'Harold Taylor',\n",
       "       'Nathan Garcia', 'Michael Young', 'Jason Patel',\n",
       "       'Robert Grigoryan', 'Douglas Bauer', 'Sharon Walker', 'None None',\n",
       "       'Nathan Hansen', 'Eric Mitchell', 'Luis Moore', 'Claudia Cooper',\n",
       "       'Karen Howard', 'Jeffrey Ruiz', 'Sharon Wieczorek',\n",
       "       'Daniel Flores', 'William Suzuki', 'Eva Williams', 'Sharon Nguyen',\n",
       "       'Linda Virtanen', 'Tamara Stepanyan', 'Helen Barnes',\n",
       "       'Jeffrey Washington', 'George Parker', 'Sean Ortiz'], dtype=object)"
      ]
     },
     "execution_count": 37,
     "metadata": {},
     "output_type": "execute_result"
    }
   ],
   "source": [
    "# List of Supervisors\n",
    "workers['sup_full_name'].unique()"
   ]
  },
  {
   "cell_type": "code",
   "execution_count": 38,
   "id": "848e3a4e",
   "metadata": {
    "scrolled": false
   },
   "outputs": [
    {
     "data": {
      "text/plain": [
       "sub_team\n",
       "Team 1                                     [Rebecca Bauer]\n",
       "Team 10                                      [Jason Patel]\n",
       "Team 11                                    [Douglas Bauer]\n",
       "Team 12                                    [Sharon Walker]\n",
       "Team 13                                    [Nathan Hansen]\n",
       "Team 14         [Eric Mitchell, George Parker, Sean Ortiz]\n",
       "Team 15                                       [Luis Moore]\n",
       "Team 16                                   [Claudia Cooper]\n",
       "Team 17                                     [Karen Howard]\n",
       "Team 18                                     [Jeffrey Ruiz]\n",
       "Team 19                                 [Sharon Wieczorek]\n",
       "Team 2                                       [Joan Winter]\n",
       "Team 20                                    [Daniel Flores]\n",
       "Team 21                                   [William Suzuki]\n",
       "Team 22                                     [Eva Williams]\n",
       "Team 23    [Sharon Nguyen, Tamara Stepanyan, Helen Barnes]\n",
       "Team 24                                   [Linda Virtanen]\n",
       "Team 3                                [Elizabeth Martinez]\n",
       "Team 4                                   [Alice Zimmerman]\n",
       "Team 5                                       [Karen Bauer]\n",
       "Team 6                                [Elizabeth Robinson]\n",
       "Team 7                                     [Harold Taylor]\n",
       "Team 8                 [Nathan Garcia, Jeffrey Washington]\n",
       "Team 9                                     [Michael Young]\n",
       "Name: sup_full_name, dtype: object"
      ]
     },
     "execution_count": 38,
     "metadata": {},
     "output_type": "execute_result"
    }
   ],
   "source": [
    "# Supervisors in charge of teams\n",
    "team_leaders = workers[workers['sup_role'] == 'Team Leader']\n",
    "team_leaders.groupby(['sub_team'])['sup_full_name'].unique()"
   ]
  },
  {
   "cell_type": "markdown",
   "id": "7f4a1e4c",
   "metadata": {},
   "source": [
    "Why do Teams 14, 23, and 8 have different supervisors? Let's probe a bit further."
   ]
  },
  {
   "cell_type": "code",
   "execution_count": 39,
   "id": "2a338148",
   "metadata": {
    "scrolled": true
   },
   "outputs": [
    {
     "data": {
      "text/html": [
       "<div>\n",
       "<style scoped>\n",
       "    .dataframe tbody tr th:only-of-type {\n",
       "        vertical-align: middle;\n",
       "    }\n",
       "\n",
       "    .dataframe tbody tr th {\n",
       "        vertical-align: top;\n",
       "    }\n",
       "\n",
       "    .dataframe thead th {\n",
       "        text-align: right;\n",
       "    }\n",
       "</style>\n",
       "<table border=\"1\" class=\"dataframe\">\n",
       "  <thead>\n",
       "    <tr style=\"text-align: right;\">\n",
       "      <th></th>\n",
       "      <th>sub_ID</th>\n",
       "      <th>sub_fname</th>\n",
       "      <th>sub_lname</th>\n",
       "      <th>sub_age</th>\n",
       "      <th>sub_sex</th>\n",
       "      <th>sub_shift</th>\n",
       "      <th>sub_team</th>\n",
       "      <th>sub_role</th>\n",
       "      <th>sub_coll_IDs</th>\n",
       "      <th>sub_colls_same_sex_prtn</th>\n",
       "      <th>...</th>\n",
       "      <th>event_weekday_name</th>\n",
       "      <th>behav_comptype_h</th>\n",
       "      <th>behav_cause_h</th>\n",
       "      <th>actual_efficacy_h</th>\n",
       "      <th>record_comptype</th>\n",
       "      <th>record_cause</th>\n",
       "      <th>recorded_efficacy</th>\n",
       "      <th>recorded_note_from_sup</th>\n",
       "      <th>record_conf_matrix_h</th>\n",
       "      <th>sup_full_name</th>\n",
       "    </tr>\n",
       "  </thead>\n",
       "  <tbody>\n",
       "    <tr>\n",
       "      <th>120388</th>\n",
       "      <td>98000662</td>\n",
       "      <td>Tamara</td>\n",
       "      <td>Stepanyan</td>\n",
       "      <td>42</td>\n",
       "      <td>F</td>\n",
       "      <td>Shift 3</td>\n",
       "      <td>Team 23</td>\n",
       "      <td>Team Leader</td>\n",
       "      <td>[98000017, 98000018, 98000019, 98000021, 98000...</td>\n",
       "      <td>0.571428571</td>\n",
       "      <td>...</td>\n",
       "      <td>Wednesday</td>\n",
       "      <td>Resignation</td>\n",
       "      <td>Poor Teammates</td>\n",
       "      <td>None</td>\n",
       "      <td>Resignation</td>\n",
       "      <td>None</td>\n",
       "      <td>None</td>\n",
       "      <td>NaN</td>\n",
       "      <td>None</td>\n",
       "      <td>Tamara Chao</td>\n",
       "    </tr>\n",
       "    <tr>\n",
       "      <th>256582</th>\n",
       "      <td>98000714</td>\n",
       "      <td>George</td>\n",
       "      <td>Parker</td>\n",
       "      <td>50</td>\n",
       "      <td>M</td>\n",
       "      <td>Shift 2</td>\n",
       "      <td>Team 14</td>\n",
       "      <td>Team Leader</td>\n",
       "      <td>[98000009, 98000010, 98000011, 98000012, 98000...</td>\n",
       "      <td>0.714285714</td>\n",
       "      <td>...</td>\n",
       "      <td>Tuesday</td>\n",
       "      <td>Resignation</td>\n",
       "      <td>Poor Teammates</td>\n",
       "      <td>None</td>\n",
       "      <td>Resignation</td>\n",
       "      <td>None</td>\n",
       "      <td>None</td>\n",
       "      <td>NaN</td>\n",
       "      <td>None</td>\n",
       "      <td>Marvin Sandoval</td>\n",
       "    </tr>\n",
       "  </tbody>\n",
       "</table>\n",
       "<p>2 rows × 43 columns</p>\n",
       "</div>"
      ],
      "text/plain": [
       "          sub_ID sub_fname  sub_lname  sub_age sub_sex sub_shift sub_team  \\\n",
       "120388  98000662    Tamara  Stepanyan       42       F   Shift 3  Team 23   \n",
       "256582  98000714    George     Parker       50       M   Shift 2  Team 14   \n",
       "\n",
       "           sub_role                                       sub_coll_IDs  \\\n",
       "120388  Team Leader  [98000017, 98000018, 98000019, 98000021, 98000...   \n",
       "256582  Team Leader  [98000009, 98000010, 98000011, 98000012, 98000...   \n",
       "\n",
       "       sub_colls_same_sex_prtn  ...  event_weekday_name  behav_comptype_h  \\\n",
       "120388             0.571428571  ...           Wednesday       Resignation   \n",
       "256582             0.714285714  ...             Tuesday       Resignation   \n",
       "\n",
       "         behav_cause_h  actual_efficacy_h  record_comptype  record_cause  \\\n",
       "120388  Poor Teammates               None      Resignation          None   \n",
       "256582  Poor Teammates               None      Resignation          None   \n",
       "\n",
       "        recorded_efficacy  recorded_note_from_sup record_conf_matrix_h  \\\n",
       "120388               None                     NaN                 None   \n",
       "256582               None                     NaN                 None   \n",
       "\n",
       "          sup_full_name  \n",
       "120388      Tamara Chao  \n",
       "256582  Marvin Sandoval  \n",
       "\n",
       "[2 rows x 43 columns]"
      ]
     },
     "execution_count": 39,
     "metadata": {},
     "output_type": "execute_result"
    }
   ],
   "source": [
    "# Team Leaders that resigned\n",
    "resignations[resignations['sub_role'] == 'Team Leader']"
   ]
  },
  {
   "cell_type": "code",
   "execution_count": 40,
   "id": "de4a8f1f",
   "metadata": {},
   "outputs": [
    {
     "data": {
      "text/html": [
       "<div>\n",
       "<style scoped>\n",
       "    .dataframe tbody tr th:only-of-type {\n",
       "        vertical-align: middle;\n",
       "    }\n",
       "\n",
       "    .dataframe tbody tr th {\n",
       "        vertical-align: top;\n",
       "    }\n",
       "\n",
       "    .dataframe thead th {\n",
       "        text-align: right;\n",
       "    }\n",
       "</style>\n",
       "<table border=\"1\" class=\"dataframe\">\n",
       "  <thead>\n",
       "    <tr style=\"text-align: right;\">\n",
       "      <th></th>\n",
       "      <th>sub_ID</th>\n",
       "      <th>sub_fname</th>\n",
       "      <th>sub_lname</th>\n",
       "      <th>sub_age</th>\n",
       "      <th>sub_sex</th>\n",
       "      <th>sub_shift</th>\n",
       "      <th>sub_team</th>\n",
       "      <th>sub_role</th>\n",
       "      <th>sub_coll_IDs</th>\n",
       "      <th>sub_colls_same_sex_prtn</th>\n",
       "      <th>...</th>\n",
       "      <th>event_weekday_name</th>\n",
       "      <th>behav_comptype_h</th>\n",
       "      <th>behav_cause_h</th>\n",
       "      <th>actual_efficacy_h</th>\n",
       "      <th>record_comptype</th>\n",
       "      <th>record_cause</th>\n",
       "      <th>recorded_efficacy</th>\n",
       "      <th>recorded_note_from_sup</th>\n",
       "      <th>record_conf_matrix_h</th>\n",
       "      <th>sup_full_name</th>\n",
       "    </tr>\n",
       "  </thead>\n",
       "  <tbody>\n",
       "    <tr>\n",
       "      <th>102358</th>\n",
       "      <td>98000023</td>\n",
       "      <td>Sharon</td>\n",
       "      <td>Nguyen</td>\n",
       "      <td>36</td>\n",
       "      <td>F</td>\n",
       "      <td>Shift 3</td>\n",
       "      <td>Team 23</td>\n",
       "      <td>Team Leader</td>\n",
       "      <td>[98000017, 98000018, 98000019, 98000021, 98000...</td>\n",
       "      <td>0.571428571</td>\n",
       "      <td>...</td>\n",
       "      <td>Monday</td>\n",
       "      <td>None</td>\n",
       "      <td>None</td>\n",
       "      <td>None</td>\n",
       "      <td>Termination</td>\n",
       "      <td>Multiple Lapses</td>\n",
       "      <td>None</td>\n",
       "      <td>NaN</td>\n",
       "      <td>None</td>\n",
       "      <td>Tamara Chao</td>\n",
       "    </tr>\n",
       "    <tr>\n",
       "      <th>139460</th>\n",
       "      <td>98000008</td>\n",
       "      <td>Nathan</td>\n",
       "      <td>Garcia</td>\n",
       "      <td>62</td>\n",
       "      <td>M</td>\n",
       "      <td>Shift 1</td>\n",
       "      <td>Team 8</td>\n",
       "      <td>Team Leader</td>\n",
       "      <td>[98000001, 98000002, 98000003, 98000004, 98000...</td>\n",
       "      <td>0.142857143</td>\n",
       "      <td>...</td>\n",
       "      <td>Monday</td>\n",
       "      <td>None</td>\n",
       "      <td>None</td>\n",
       "      <td>None</td>\n",
       "      <td>Termination</td>\n",
       "      <td>Multiple Lapses</td>\n",
       "      <td>None</td>\n",
       "      <td>NaN</td>\n",
       "      <td>None</td>\n",
       "      <td>Susan Dahl</td>\n",
       "    </tr>\n",
       "    <tr>\n",
       "      <th>239701</th>\n",
       "      <td>98000553</td>\n",
       "      <td>Eric</td>\n",
       "      <td>Mitchell</td>\n",
       "      <td>22</td>\n",
       "      <td>M</td>\n",
       "      <td>Shift 2</td>\n",
       "      <td>Team 14</td>\n",
       "      <td>Team Leader</td>\n",
       "      <td>[98000009, 98000010, 98000011, 98000012, 98000...</td>\n",
       "      <td>0.714285714</td>\n",
       "      <td>...</td>\n",
       "      <td>Monday</td>\n",
       "      <td>None</td>\n",
       "      <td>None</td>\n",
       "      <td>None</td>\n",
       "      <td>Termination</td>\n",
       "      <td>Multiple Sabotages</td>\n",
       "      <td>None</td>\n",
       "      <td>NaN</td>\n",
       "      <td>None</td>\n",
       "      <td>Marvin Sandoval</td>\n",
       "    </tr>\n",
       "  </tbody>\n",
       "</table>\n",
       "<p>3 rows × 43 columns</p>\n",
       "</div>"
      ],
      "text/plain": [
       "          sub_ID sub_fname sub_lname  sub_age sub_sex sub_shift sub_team  \\\n",
       "102358  98000023    Sharon    Nguyen       36       F   Shift 3  Team 23   \n",
       "139460  98000008    Nathan    Garcia       62       M   Shift 1   Team 8   \n",
       "239701  98000553      Eric  Mitchell       22       M   Shift 2  Team 14   \n",
       "\n",
       "           sub_role                                       sub_coll_IDs  \\\n",
       "102358  Team Leader  [98000017, 98000018, 98000019, 98000021, 98000...   \n",
       "139460  Team Leader  [98000001, 98000002, 98000003, 98000004, 98000...   \n",
       "239701  Team Leader  [98000009, 98000010, 98000011, 98000012, 98000...   \n",
       "\n",
       "       sub_colls_same_sex_prtn  ...  event_weekday_name  behav_comptype_h  \\\n",
       "102358             0.571428571  ...              Monday              None   \n",
       "139460             0.142857143  ...              Monday              None   \n",
       "239701             0.714285714  ...              Monday              None   \n",
       "\n",
       "        behav_cause_h  actual_efficacy_h  record_comptype        record_cause  \\\n",
       "102358           None               None      Termination     Multiple Lapses   \n",
       "139460           None               None      Termination     Multiple Lapses   \n",
       "239701           None               None      Termination  Multiple Sabotages   \n",
       "\n",
       "        recorded_efficacy  recorded_note_from_sup record_conf_matrix_h  \\\n",
       "102358               None                     NaN                 None   \n",
       "139460               None                     NaN                 None   \n",
       "239701               None                     NaN                 None   \n",
       "\n",
       "          sup_full_name  \n",
       "102358      Tamara Chao  \n",
       "139460       Susan Dahl  \n",
       "239701  Marvin Sandoval  \n",
       "\n",
       "[3 rows x 43 columns]"
      ]
     },
     "execution_count": 40,
     "metadata": {},
     "output_type": "execute_result"
    }
   ],
   "source": [
    "# Team Leaders that were fired\n",
    "workers[(workers['sub_role'] == 'Team Leader') & (workers['record_comptype'] == 'Termination')]"
   ]
  },
  {
   "cell_type": "markdown",
   "id": "9b824ad5",
   "metadata": {},
   "source": [
    "It appears that those teams had different supervisors because the team leaders were either fired or resigned."
   ]
  },
  {
   "cell_type": "code",
   "execution_count": 41,
   "id": "a5100ae6",
   "metadata": {},
   "outputs": [
    {
     "data": {
      "image/png": "[encoded data removed]",
      "text/plain": [
       "<Figure size 640x480 with 1 Axes>"
      ]
     },
     "metadata": {},
     "output_type": "display_data"
    }
   ],
   "source": [
    "# Resignations by Teams\n",
    "counts, edges, bars = plt.hist(resignations['sub_team'], bins=np.arange(22)-0.5)\n",
    "plt.xticks(rotation=90)\n",
    "plt.bar_label(bars)\n",
    "plt.xlabel('Teams')\n",
    "plt.ylabel('Count')\n",
    "plt.title('Resignation Count by Teams')\n",
    "plt.show()"
   ]
  },
  {
   "cell_type": "markdown",
   "id": "5a05aebe",
   "metadata": {},
   "source": [
    "It seems like these three teams (8, 14, and 23) also had the most number of resignations. So far, it appears as if some resignations may have been influenced by team leader turnover, or that this is an indication that these managers were bad managers."
   ]
  },
  {
   "cell_type": "markdown",
   "id": "0b54f573",
   "metadata": {},
   "source": [
    "## Team Leader Traits for Resigned Employees"
   ]
  },
  {
   "cell_type": "code",
   "execution_count": null,
   "id": "ffbc206b",
   "metadata": {},
   "outputs": [],
   "source": []
  },
  {
   "cell_type": "code",
   "execution_count": 42,
   "id": "e83ac247",
   "metadata": {},
   "outputs": [],
   "source": [
    "sup_traits_1 = ['sup_age', 'sup_sub_age_diff', 'sup_sex']\n",
    "sup_traits_2 = ['sup_role', 'sup_perceptiveness_h', 'sup_goodness_h']\n",
    "sup_traits = sup_traits_1 + sup_traits_2\n",
    "resigned_sup_traits = resignations[sup_traits]"
   ]
  },
  {
   "cell_type": "code",
   "execution_count": 43,
   "id": "5ab2d83e",
   "metadata": {},
   "outputs": [
    {
     "name": "stderr",
     "output_type": "stream",
     "text": [
      "/Users/kylerodriguez/miniconda3/envs/employee-attrition/lib/python3.10/site-packages/seaborn/categorical.py:82: FutureWarning: iteritems is deprecated and will be removed in a future version. Use .items instead.\n",
      "  plot_data = [np.asarray(s, float) for k, s in iter_data]\n"
     ]
    },
    {
     "ename": "ValueError",
     "evalue": "min() arg is an empty sequence",
     "output_type": "error",
     "traceback": [
      "\u001b[0;31m---------------------------------------------------------------------------\u001b[0m",
      "\u001b[0;31mValueError\u001b[0m                                Traceback (most recent call last)",
      "Cell \u001b[0;32mIn[43], line 3\u001b[0m\n\u001b[1;32m      1\u001b[0m \u001b[38;5;66;03m# Boxplots visualizing trait scores of Resigned employees\u001b[39;00m\n\u001b[1;32m      2\u001b[0m fig, ax \u001b[38;5;241m=\u001b[39m plt\u001b[38;5;241m.\u001b[39msubplots(\u001b[38;5;241m2\u001b[39m,\u001b[38;5;241m3\u001b[39m,figsize\u001b[38;5;241m=\u001b[39m(\u001b[38;5;241m15\u001b[39m,\u001b[38;5;241m15\u001b[39m))\n\u001b[0;32m----> 3\u001b[0m \u001b[43msns\u001b[49m\u001b[38;5;241;43m.\u001b[39;49m\u001b[43mboxplot\u001b[49m\u001b[43m(\u001b[49m\u001b[43mdata\u001b[49m\u001b[38;5;241;43m=\u001b[39;49m\u001b[43mresigned_sup_traits\u001b[49m\u001b[43m[\u001b[49m\u001b[43msup_traits_1\u001b[49m\u001b[43m]\u001b[49m\u001b[43m,\u001b[49m\u001b[43m \u001b[49m\u001b[43max\u001b[49m\u001b[38;5;241;43m=\u001b[39;49m\u001b[43max\u001b[49m\u001b[43m[\u001b[49m\u001b[38;5;241;43m0\u001b[39;49m\u001b[43m]\u001b[49m\u001b[43m)\u001b[49m\n\u001b[1;32m      4\u001b[0m sns\u001b[38;5;241m.\u001b[39mboxplot(data\u001b[38;5;241m=\u001b[39mresigned_sup_traits[sup_traits_2], ax\u001b[38;5;241m=\u001b[39max[\u001b[38;5;241m1\u001b[39m])\n\u001b[1;32m      5\u001b[0m fig\u001b[38;5;241m.\u001b[39msuptitle(\u001b[38;5;124m'\u001b[39m\u001b[38;5;124mBoxplots of Hidden Traits for Resigned Employees\u001b[39m\u001b[38;5;124m'\u001b[39m)\n",
      "File \u001b[0;32m~/miniconda3/envs/employee-attrition/lib/python3.10/site-packages/seaborn/_decorators.py:46\u001b[0m, in \u001b[0;36m_deprecate_positional_args.<locals>.inner_f\u001b[0;34m(*args, **kwargs)\u001b[0m\n\u001b[1;32m     36\u001b[0m     warnings\u001b[38;5;241m.\u001b[39mwarn(\n\u001b[1;32m     37\u001b[0m         \u001b[38;5;124m\"\u001b[39m\u001b[38;5;124mPass the following variable\u001b[39m\u001b[38;5;132;01m{}\u001b[39;00m\u001b[38;5;124m as \u001b[39m\u001b[38;5;132;01m{}\u001b[39;00m\u001b[38;5;124mkeyword arg\u001b[39m\u001b[38;5;132;01m{}\u001b[39;00m\u001b[38;5;124m: \u001b[39m\u001b[38;5;132;01m{}\u001b[39;00m\u001b[38;5;124m. \u001b[39m\u001b[38;5;124m\"\u001b[39m\n\u001b[1;32m     38\u001b[0m         \u001b[38;5;124m\"\u001b[39m\u001b[38;5;124mFrom version 0.12, the only valid positional argument \u001b[39m\u001b[38;5;124m\"\u001b[39m\n\u001b[0;32m   (...)\u001b[0m\n\u001b[1;32m     43\u001b[0m         \u001b[38;5;167;01mFutureWarning\u001b[39;00m\n\u001b[1;32m     44\u001b[0m     )\n\u001b[1;32m     45\u001b[0m kwargs\u001b[38;5;241m.\u001b[39mupdate({k: arg \u001b[38;5;28;01mfor\u001b[39;00m k, arg \u001b[38;5;129;01min\u001b[39;00m \u001b[38;5;28mzip\u001b[39m(sig\u001b[38;5;241m.\u001b[39mparameters, args)})\n\u001b[0;32m---> 46\u001b[0m \u001b[38;5;28;01mreturn\u001b[39;00m \u001b[43mf\u001b[49m\u001b[43m(\u001b[49m\u001b[38;5;241;43m*\u001b[39;49m\u001b[38;5;241;43m*\u001b[39;49m\u001b[43mkwargs\u001b[49m\u001b[43m)\u001b[49m\n",
      "File \u001b[0;32m~/miniconda3/envs/employee-attrition/lib/python3.10/site-packages/seaborn/categorical.py:2243\u001b[0m, in \u001b[0;36mboxplot\u001b[0;34m(x, y, hue, data, order, hue_order, orient, color, palette, saturation, width, dodge, fliersize, linewidth, whis, ax, **kwargs)\u001b[0m\n\u001b[1;32m   2231\u001b[0m \u001b[38;5;129m@_deprecate_positional_args\u001b[39m\n\u001b[1;32m   2232\u001b[0m \u001b[38;5;28;01mdef\u001b[39;00m \u001b[38;5;21mboxplot\u001b[39m(\n\u001b[1;32m   2233\u001b[0m     \u001b[38;5;241m*\u001b[39m,\n\u001b[0;32m   (...)\u001b[0m\n\u001b[1;32m   2240\u001b[0m     \u001b[38;5;241m*\u001b[39m\u001b[38;5;241m*\u001b[39mkwargs\n\u001b[1;32m   2241\u001b[0m ):\n\u001b[0;32m-> 2243\u001b[0m     plotter \u001b[38;5;241m=\u001b[39m \u001b[43m_BoxPlotter\u001b[49m\u001b[43m(\u001b[49m\u001b[43mx\u001b[49m\u001b[43m,\u001b[49m\u001b[43m \u001b[49m\u001b[43my\u001b[49m\u001b[43m,\u001b[49m\u001b[43m \u001b[49m\u001b[43mhue\u001b[49m\u001b[43m,\u001b[49m\u001b[43m \u001b[49m\u001b[43mdata\u001b[49m\u001b[43m,\u001b[49m\u001b[43m \u001b[49m\u001b[43morder\u001b[49m\u001b[43m,\u001b[49m\u001b[43m \u001b[49m\u001b[43mhue_order\u001b[49m\u001b[43m,\u001b[49m\n\u001b[1;32m   2244\u001b[0m \u001b[43m                          \u001b[49m\u001b[43morient\u001b[49m\u001b[43m,\u001b[49m\u001b[43m \u001b[49m\u001b[43mcolor\u001b[49m\u001b[43m,\u001b[49m\u001b[43m \u001b[49m\u001b[43mpalette\u001b[49m\u001b[43m,\u001b[49m\u001b[43m \u001b[49m\u001b[43msaturation\u001b[49m\u001b[43m,\u001b[49m\n\u001b[1;32m   2245\u001b[0m \u001b[43m                          \u001b[49m\u001b[43mwidth\u001b[49m\u001b[43m,\u001b[49m\u001b[43m \u001b[49m\u001b[43mdodge\u001b[49m\u001b[43m,\u001b[49m\u001b[43m \u001b[49m\u001b[43mfliersize\u001b[49m\u001b[43m,\u001b[49m\u001b[43m \u001b[49m\u001b[43mlinewidth\u001b[49m\u001b[43m)\u001b[49m\n\u001b[1;32m   2247\u001b[0m     \u001b[38;5;28;01mif\u001b[39;00m ax \u001b[38;5;129;01mis\u001b[39;00m \u001b[38;5;28;01mNone\u001b[39;00m:\n\u001b[1;32m   2248\u001b[0m         ax \u001b[38;5;241m=\u001b[39m plt\u001b[38;5;241m.\u001b[39mgca()\n",
      "File \u001b[0;32m~/miniconda3/envs/employee-attrition/lib/python3.10/site-packages/seaborn/categorical.py:407\u001b[0m, in \u001b[0;36m_BoxPlotter.__init__\u001b[0;34m(self, x, y, hue, data, order, hue_order, orient, color, palette, saturation, width, dodge, fliersize, linewidth)\u001b[0m\n\u001b[1;32m    402\u001b[0m \u001b[38;5;28;01mdef\u001b[39;00m \u001b[38;5;21m__init__\u001b[39m(\u001b[38;5;28mself\u001b[39m, x, y, hue, data, order, hue_order,\n\u001b[1;32m    403\u001b[0m              orient, color, palette, saturation,\n\u001b[1;32m    404\u001b[0m              width, dodge, fliersize, linewidth):\n\u001b[1;32m    406\u001b[0m     \u001b[38;5;28mself\u001b[39m\u001b[38;5;241m.\u001b[39mestablish_variables(x, y, hue, data, orient, order, hue_order)\n\u001b[0;32m--> 407\u001b[0m     \u001b[38;5;28;43mself\u001b[39;49m\u001b[38;5;241;43m.\u001b[39;49m\u001b[43mestablish_colors\u001b[49m\u001b[43m(\u001b[49m\u001b[43mcolor\u001b[49m\u001b[43m,\u001b[49m\u001b[43m \u001b[49m\u001b[43mpalette\u001b[49m\u001b[43m,\u001b[49m\u001b[43m \u001b[49m\u001b[43msaturation\u001b[49m\u001b[43m)\u001b[49m\n\u001b[1;32m    409\u001b[0m     \u001b[38;5;28mself\u001b[39m\u001b[38;5;241m.\u001b[39mdodge \u001b[38;5;241m=\u001b[39m dodge\n\u001b[1;32m    410\u001b[0m     \u001b[38;5;28mself\u001b[39m\u001b[38;5;241m.\u001b[39mwidth \u001b[38;5;241m=\u001b[39m width\n",
      "File \u001b[0;32m~/miniconda3/envs/employee-attrition/lib/python3.10/site-packages/seaborn/categorical.py:319\u001b[0m, in \u001b[0;36m_CategoricalPlotter.establish_colors\u001b[0;34m(self, color, palette, saturation)\u001b[0m\n\u001b[1;32m    317\u001b[0m \u001b[38;5;66;03m# Determine the gray color to use for the lines framing the plot\u001b[39;00m\n\u001b[1;32m    318\u001b[0m light_vals \u001b[38;5;241m=\u001b[39m [colorsys\u001b[38;5;241m.\u001b[39mrgb_to_hls(\u001b[38;5;241m*\u001b[39mc)[\u001b[38;5;241m1\u001b[39m] \u001b[38;5;28;01mfor\u001b[39;00m c \u001b[38;5;129;01min\u001b[39;00m rgb_colors]\n\u001b[0;32m--> 319\u001b[0m lum \u001b[38;5;241m=\u001b[39m \u001b[38;5;28;43mmin\u001b[39;49m\u001b[43m(\u001b[49m\u001b[43mlight_vals\u001b[49m\u001b[43m)\u001b[49m \u001b[38;5;241m*\u001b[39m \u001b[38;5;241m.6\u001b[39m\n\u001b[1;32m    320\u001b[0m gray \u001b[38;5;241m=\u001b[39m mpl\u001b[38;5;241m.\u001b[39mcolors\u001b[38;5;241m.\u001b[39mrgb2hex((lum, lum, lum))\n\u001b[1;32m    322\u001b[0m \u001b[38;5;66;03m# Assign object attributes\u001b[39;00m\n",
      "\u001b[0;31mValueError\u001b[0m: min() arg is an empty sequence"
     ]
    },
    {
     "data": {
      "image/png": "[encoded data removed]",
      "text/plain": [
       "<Figure size 1500x1500 with 6 Axes>"
      ]
     },
     "metadata": {},
     "output_type": "display_data"
    }
   ],
   "source": [
    "# Boxplots visualizing trait scores of Resigned employees\n",
    "fig, ax = plt.subplots(2,3,figsize=(15,15))\n",
    "sns.boxplot(data=resigned_sup_traits[sup_traits_1], ax=ax[0])\n",
    "sns.boxplot(data=resigned_sup_traits[sup_traits_2], ax=ax[1])\n",
    "fig.suptitle('Boxplots of Hidden Traits for Resigned Employees')\n",
    "plt.show()"
   ]
  },
  {
   "cell_type": "markdown",
   "id": "afc95e00",
   "metadata": {},
   "source": [
    "### What day of the week was an employee most likely to resign?"
   ]
  },
  {
   "cell_type": "code",
   "execution_count": null,
   "id": "6aacc5d7",
   "metadata": {},
   "outputs": [],
   "source": [
    "g = sns.catplot(x='event_weekday_name', data=workers[workers['record_comptype'] == 'Resignation'], kind='count')\n",
    "g.fig.suptitle(\"Proportion of Resignation Events by Weekday\")\n",
    "g.set(xlabel=\"Weekday\", ylabel=\"Count\")\n",
    "plt.show()"
   ]
  },
  {
   "cell_type": "markdown",
   "id": "f3bcbac1",
   "metadata": {},
   "source": [
    "From the plot, it appears that a Resignation event happened the most on a Tuesday, followed by Wednesday/Friday"
   ]
  },
  {
   "cell_type": "markdown",
   "id": "f915065b",
   "metadata": {},
   "source": [
    "### Did those who resign consistently perform events like Idea, Feat, Sacrifice and Teamwork?\n",
    "\n",
    "Countplot?"
   ]
  },
  {
   "cell_type": "markdown",
   "id": "a2598a24",
   "metadata": {},
   "source": [
    "### For those who resigned, are there from a particular team or shift, under a specific manager? If so, what kind of traits do these managers have? Does that make them bad managers?\n",
    "\n",
    "Countplot for team/shift. Boxplot for manager traits?"
   ]
  },
  {
   "cell_type": "markdown",
   "id": "50a3ce0d",
   "metadata": {},
   "source": [
    "### For those who resigned, were their actual efficacy consistently misrecorded? \n",
    "\n",
    "side-by-side bar chart?"
   ]
  },
  {
   "cell_type": "code",
   "execution_count": null,
   "id": "e12f51bd",
   "metadata": {},
   "outputs": [],
   "source": []
  }
 ],
 "metadata": {
  "kernelspec": {
   "display_name": "Python [conda env:employee-attrition] *",
   "language": "python",
   "name": "conda-env-employee-attrition-py"
  },
  "language_info": {
   "codemirror_mode": {
    "name": "ipython",
    "version": 3
   },
   "file_extension": ".py",
   "mimetype": "text/x-python",
   "name": "python",
   "nbconvert_exporter": "python",
   "pygments_lexer": "ipython3",
   "version": "3.10.10"
  }
 },
 "nbformat": 4,
 "nbformat_minor": 5
}
