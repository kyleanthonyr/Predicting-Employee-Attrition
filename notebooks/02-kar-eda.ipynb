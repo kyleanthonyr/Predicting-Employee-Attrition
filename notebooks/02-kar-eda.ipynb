{
 "cells": [
  {
   "cell_type": "markdown",
   "id": "6c17f88d",
   "metadata": {},
   "source": [
    "## Employee Attrition: Will my employee leave?\n",
    "\n",
    "### How can we identify employees at-risk for voluntary resignation based on their performance, job satisfaction, supervisor's behaviours etc.?\n",
    "**Context**:\n",
    "\n",
    "It's estimated that losing an employee can cost a company 1.5-2x the employee’s salary. Depending on the individual’s level of seniority, the financial burden fluctuates. For hourly workers, it costs an average of $1,500 per employee. For technical positions, the cost jumps to 100-150% of salary. At the high end, C-suite turnover can cost up to 213% of the employee’s salary.\n",
    "\n",
    "Not only are you forced to dedicate time and resources to recruiting, onboarding and training a new hire after an employee leaves, but it’s estimated that two thirds of all sunk costs due to turnover are intangible, including lost productivity and knowledge, and internal strain on employees while the roles remain unfilled. \n",
    "\n",
    "Being able to predict, and possibly minimize, employee turnover by identifying employees that may be at-risk for leaving voluntarily could help to reduce the cost of replacement hire due to turnover and increase employee retention.\n",
    "\n",
    "Specifically, the question I'm seeking to answer is, \"**What contributing factors increase the likelihood of an employee leaving voluntarily?**\", and can we use those to determine when, and if, an employee might resign?"
   ]
  },
  {
   "cell_type": "markdown",
   "id": "ab5596c2",
   "metadata": {},
   "source": [
    "### Imports"
   ]
  },
  {
   "cell_type": "code",
   "execution_count": 1,
   "id": "0e305678",
   "metadata": {},
   "outputs": [],
   "source": [
    "import numpy as np\n",
    "import pandas as pd\n",
    "\n",
    "import matplotlib.pyplot as plt\n",
    "import seaborn as sns\n",
    "\n",
    "import json\n",
    "sns.set_style('whitegrid')"
   ]
  },
  {
   "cell_type": "markdown",
   "id": "9f2e0048",
   "metadata": {},
   "source": [
    "### **Dataset**"
   ]
  },
  {
   "cell_type": "code",
   "execution_count": 2,
   "id": "79f3d970",
   "metadata": {},
   "outputs": [],
   "source": [
    "# Dataset \n",
    "workers = pd.read_csv(\"../data/raw/factory_workers.csv\", sep=',', encoding=\"mac_roman\")"
   ]
  },
  {
   "cell_type": "markdown",
   "id": "924e3c47",
   "metadata": {},
   "source": [
    "### Understanding the Dataset \n",
    "This synthetic dataset contains 18 months’ worth of daily performance and attrition data (411,948 observations) for a factory whose organizational structure comprises 508 workers. Due to employee turnover, a total of 687 persons appear in the dataset. The dataset’s observations cover both regular daily events (like workers’ attendance and daily level of Efficacy) and special one-time events (like accidents, an employee’s termination, or the onboarding of a new employee). A unique feature of the dataset is diverse causal relationships “hidden” within the data that are waiting to be uncovered through machine learning.\n",
    "\n",
    "Each record represents a type of **event that occurred on a particular day in relation to a particular worker**. It’s possible for a given worker to have more than one event (and row) for the same day. There are 14 kinds of events:\n",
    "\n",
    "- Presence: worker showed up to work\n",
    "\n",
    "- Absence: worker did not show up to work\n",
    "\n",
    "- Efficacy: reflects the degree of efficiency and productivity that an employee demonstrated over the course of the given workday. There are two related elements: the actual Efficacy that the employee generated on the given day, and the recorded Efficacy that the worker’s supervisor entered into the factory’s HRM/ERP system for the employee for that day. \n",
    "\n",
    "- Resignation: on the given date, an employee quit his or her job (i.e., the employee experienced a voluntary separation). After resigning, the employee was no longer a part of the workforce and did not generate any future behaviors. Only Laborers and Team Leaders are liable to experience a Resignation event\n",
    "\n",
    "- Termination: the employee was fired by the organization (i.e., the employee experienced an involuntary separation).\n",
    "\n",
    "- Onboarding: subject is a newly hired employee who began work on the given date. In order to maintain a stable size for the factory’s workforce, a new employee is hired whenever an existing employee has resigned or been terminated.\n",
    "\n",
    "- Idea: when an employee imagines some innovative new approach to solving a long-standing problem or otherwise improving the factory’s functioning. Workers with a high Perceptiveness stat are more likely to have an Idea.\n",
    "\n",
    "- Lapse: when a worker makes some severe mental mistake that negatively impacts the factory’s functioning (e.g., by omitting some step from a business process or ordering the wrong parts). Workers with a low Perceptiveness stat are more likely to have a lapse.\n",
    "\n",
    "- Feat: when an employee performs some exceptional act dependent on physical skill (e.g., expertly manipulating some high-precision tool or sorting objects into bins with remarkable speed). Workers with a high Dexterity stat are more likely to generate a Feat.\n",
    "\n",
    "- Slip: when an employee experiences some accident or misstep resulting from a lack of physical adroitness (e.g., knocking over a storage rack or dropping some delicate instrument). Workers with a low Dexterity stat are more likely to generate a Slip behavior.\n",
    "\n",
    "- Teamwork: when an employee goes to exceptional lengths to encourage, teach, or otherwise support his or her colleagues in some way. Workers with a high Sociality stat are more likely to generate this event\n",
    "\n",
    "- Disruption: occurs when an employee quarrels with colleagues, belligerently rejects a supervisor’s request, or otherwise displays a hostile attitude toward his or her coworkers. Workers with a low Sociality stat are more likely to generate this event. \n",
    "\n",
    "- Sacrifice: when a worker performs – of his or her own initiative – some action that’s unpleasant or inconvenient for the employee but which spares others from suffering the same hardship (e.g., volunteering to take on some grueling or unpleasant assignment that no one else wants to do). Workers with a high Goodness stat are more likely to generate a Sacrifice behavior.\n",
    "\n",
    "- Sabotage: when an employee knowingly performs some act (typically, with the hope that he or she won’t be observed while doing so) that will damage equipment, spoil products, or otherwise lessen the organization’s productivity or harm its brand image. Workers with a low Goodness stat are more likely to generate a Sabotage behavior"
   ]
  },
  {
   "cell_type": "code",
   "execution_count": 3,
   "id": "481e80e0",
   "metadata": {
    "scrolled": false
   },
   "outputs": [
    {
     "data": {
      "text/html": [
       "<div>\n",
       "<style scoped>\n",
       "    .dataframe tbody tr th:only-of-type {\n",
       "        vertical-align: middle;\n",
       "    }\n",
       "\n",
       "    .dataframe tbody tr th {\n",
       "        vertical-align: top;\n",
       "    }\n",
       "\n",
       "    .dataframe thead th {\n",
       "        text-align: right;\n",
       "    }\n",
       "</style>\n",
       "<table border=\"1\" class=\"dataframe\">\n",
       "  <thead>\n",
       "    <tr style=\"text-align: right;\">\n",
       "      <th></th>\n",
       "      <th>sub_ID</th>\n",
       "      <th>sub_fname</th>\n",
       "      <th>sub_lname</th>\n",
       "      <th>sub_age</th>\n",
       "      <th>sub_sex</th>\n",
       "      <th>sub_shift</th>\n",
       "      <th>sub_team</th>\n",
       "      <th>sub_role</th>\n",
       "      <th>sub_coll_IDs</th>\n",
       "      <th>sub_colls_same_sex_prtn</th>\n",
       "      <th>...</th>\n",
       "      <th>event_weekday_num</th>\n",
       "      <th>event_weekday_name</th>\n",
       "      <th>behav_comptype_h</th>\n",
       "      <th>behav_cause_h</th>\n",
       "      <th>actual_efficacy_h</th>\n",
       "      <th>record_comptype</th>\n",
       "      <th>record_cause</th>\n",
       "      <th>recorded_efficacy</th>\n",
       "      <th>recorded_note_from_sup</th>\n",
       "      <th>record_conf_matrix_h</th>\n",
       "    </tr>\n",
       "  </thead>\n",
       "  <tbody>\n",
       "    <tr>\n",
       "      <th>0</th>\n",
       "      <td>98000001</td>\n",
       "      <td>Rebecca</td>\n",
       "      <td>Bauer</td>\n",
       "      <td>40</td>\n",
       "      <td>F</td>\n",
       "      <td>Shift 1</td>\n",
       "      <td>Team 1</td>\n",
       "      <td>Team Leader</td>\n",
       "      <td>[98000002, 98000003, 98000004, 98000005, 98000...</td>\n",
       "      <td>0.714285714</td>\n",
       "      <td>...</td>\n",
       "      <td>4</td>\n",
       "      <td>Friday</td>\n",
       "      <td>Presence</td>\n",
       "      <td>None</td>\n",
       "      <td>None</td>\n",
       "      <td>Presence</td>\n",
       "      <td>None</td>\n",
       "      <td>None</td>\n",
       "      <td>None</td>\n",
       "      <td>None</td>\n",
       "    </tr>\n",
       "    <tr>\n",
       "      <th>1</th>\n",
       "      <td>98000001</td>\n",
       "      <td>Rebecca</td>\n",
       "      <td>Bauer</td>\n",
       "      <td>40</td>\n",
       "      <td>F</td>\n",
       "      <td>Shift 1</td>\n",
       "      <td>Team 1</td>\n",
       "      <td>Team Leader</td>\n",
       "      <td>[98000002, 98000003, 98000004, 98000005, 98000...</td>\n",
       "      <td>0.714285714</td>\n",
       "      <td>...</td>\n",
       "      <td>4</td>\n",
       "      <td>Friday</td>\n",
       "      <td>Efficacy</td>\n",
       "      <td>None</td>\n",
       "      <td>1.489</td>\n",
       "      <td>Efficacy</td>\n",
       "      <td>None</td>\n",
       "      <td>1.2</td>\n",
       "      <td>None</td>\n",
       "      <td>None</td>\n",
       "    </tr>\n",
       "    <tr>\n",
       "      <th>2</th>\n",
       "      <td>98000002</td>\n",
       "      <td>Joan</td>\n",
       "      <td>Winter</td>\n",
       "      <td>61</td>\n",
       "      <td>F</td>\n",
       "      <td>Shift 1</td>\n",
       "      <td>Team 2</td>\n",
       "      <td>Team Leader</td>\n",
       "      <td>[98000001, 98000003, 98000004, 98000005, 98000...</td>\n",
       "      <td>0.714285714</td>\n",
       "      <td>...</td>\n",
       "      <td>4</td>\n",
       "      <td>Friday</td>\n",
       "      <td>Presence</td>\n",
       "      <td>None</td>\n",
       "      <td>None</td>\n",
       "      <td>Presence</td>\n",
       "      <td>None</td>\n",
       "      <td>None</td>\n",
       "      <td>None</td>\n",
       "      <td>None</td>\n",
       "    </tr>\n",
       "    <tr>\n",
       "      <th>3</th>\n",
       "      <td>98000002</td>\n",
       "      <td>Joan</td>\n",
       "      <td>Winter</td>\n",
       "      <td>61</td>\n",
       "      <td>F</td>\n",
       "      <td>Shift 1</td>\n",
       "      <td>Team 2</td>\n",
       "      <td>Team Leader</td>\n",
       "      <td>[98000001, 98000003, 98000004, 98000005, 98000...</td>\n",
       "      <td>0.714285714</td>\n",
       "      <td>...</td>\n",
       "      <td>4</td>\n",
       "      <td>Friday</td>\n",
       "      <td>Efficacy</td>\n",
       "      <td>None</td>\n",
       "      <td>1.023</td>\n",
       "      <td>Efficacy</td>\n",
       "      <td>None</td>\n",
       "      <td>0.8</td>\n",
       "      <td>None</td>\n",
       "      <td>None</td>\n",
       "    </tr>\n",
       "    <tr>\n",
       "      <th>4</th>\n",
       "      <td>98000003</td>\n",
       "      <td>Elizabeth</td>\n",
       "      <td>Martinez</td>\n",
       "      <td>20</td>\n",
       "      <td>F</td>\n",
       "      <td>Shift 1</td>\n",
       "      <td>Team 3</td>\n",
       "      <td>Team Leader</td>\n",
       "      <td>[98000001, 98000002, 98000004, 98000005, 98000...</td>\n",
       "      <td>0.714285714</td>\n",
       "      <td>...</td>\n",
       "      <td>4</td>\n",
       "      <td>Friday</td>\n",
       "      <td>Presence</td>\n",
       "      <td>None</td>\n",
       "      <td>None</td>\n",
       "      <td>Presence</td>\n",
       "      <td>None</td>\n",
       "      <td>None</td>\n",
       "      <td>None</td>\n",
       "      <td>None</td>\n",
       "    </tr>\n",
       "  </tbody>\n",
       "</table>\n",
       "<p>5 rows × 42 columns</p>\n",
       "</div>"
      ],
      "text/plain": [
       "     sub_ID  sub_fname sub_lname  sub_age sub_sex sub_shift sub_team  \\\n",
       "0  98000001    Rebecca     Bauer       40       F   Shift 1   Team 1   \n",
       "1  98000001    Rebecca     Bauer       40       F   Shift 1   Team 1   \n",
       "2  98000002       Joan    Winter       61       F   Shift 1   Team 2   \n",
       "3  98000002       Joan    Winter       61       F   Shift 1   Team 2   \n",
       "4  98000003  Elizabeth  Martinez       20       F   Shift 1   Team 3   \n",
       "\n",
       "      sub_role                                       sub_coll_IDs  \\\n",
       "0  Team Leader  [98000002, 98000003, 98000004, 98000005, 98000...   \n",
       "1  Team Leader  [98000002, 98000003, 98000004, 98000005, 98000...   \n",
       "2  Team Leader  [98000001, 98000003, 98000004, 98000005, 98000...   \n",
       "3  Team Leader  [98000001, 98000003, 98000004, 98000005, 98000...   \n",
       "4  Team Leader  [98000001, 98000002, 98000004, 98000005, 98000...   \n",
       "\n",
       "  sub_colls_same_sex_prtn  ...  event_weekday_num  event_weekday_name  \\\n",
       "0             0.714285714  ...                  4              Friday   \n",
       "1             0.714285714  ...                  4              Friday   \n",
       "2             0.714285714  ...                  4              Friday   \n",
       "3             0.714285714  ...                  4              Friday   \n",
       "4             0.714285714  ...                  4              Friday   \n",
       "\n",
       "   behav_comptype_h  behav_cause_h  actual_efficacy_h  record_comptype  \\\n",
       "0          Presence           None               None         Presence   \n",
       "1          Efficacy           None              1.489         Efficacy   \n",
       "2          Presence           None               None         Presence   \n",
       "3          Efficacy           None              1.023         Efficacy   \n",
       "4          Presence           None               None         Presence   \n",
       "\n",
       "   record_cause  recorded_efficacy recorded_note_from_sup record_conf_matrix_h  \n",
       "0          None               None                   None                 None  \n",
       "1          None                1.2                   None                 None  \n",
       "2          None               None                   None                 None  \n",
       "3          None                0.8                   None                 None  \n",
       "4          None               None                   None                 None  \n",
       "\n",
       "[5 rows x 42 columns]"
      ]
     },
     "execution_count": 3,
     "metadata": {},
     "output_type": "execute_result"
    }
   ],
   "source": [
    "workers.head(5)"
   ]
  },
  {
   "cell_type": "code",
   "execution_count": 4,
   "id": "e8fb2f5b",
   "metadata": {
    "scrolled": true
   },
   "outputs": [
    {
     "name": "stdout",
     "output_type": "stream",
     "text": [
      "<class 'pandas.core.frame.DataFrame'>\n",
      "RangeIndex: 411948 entries, 0 to 411947\n",
      "Data columns (total 42 columns):\n",
      " #   Column                   Non-Null Count   Dtype  \n",
      "---  ------                   --------------   -----  \n",
      " 0   sub_ID                   411948 non-null  int64  \n",
      " 1   sub_fname                411948 non-null  object \n",
      " 2   sub_lname                411948 non-null  object \n",
      " 3   sub_age                  411948 non-null  int64  \n",
      " 4   sub_sex                  411948 non-null  object \n",
      " 5   sub_shift                411948 non-null  object \n",
      " 6   sub_team                 411948 non-null  object \n",
      " 7   sub_role                 411948 non-null  object \n",
      " 8   sub_coll_IDs             411948 non-null  object \n",
      " 9   sub_colls_same_sex_prtn  411948 non-null  object \n",
      " 10  sub_health_h             411948 non-null  float64\n",
      " 11  sub_commitment_h         411948 non-null  float64\n",
      " 12  sub_perceptiveness_h     411948 non-null  float64\n",
      " 13  sub_dexterity_h          411948 non-null  float64\n",
      " 14  sub_sociality_h          411948 non-null  float64\n",
      " 15  sub_goodness_h           411948 non-null  float64\n",
      " 16  sub_strength_h           411948 non-null  float64\n",
      " 17  sub_openmindedness_h     411948 non-null  float64\n",
      " 18  sub_workstyle_h          411948 non-null  object \n",
      " 19  sup_ID                   411948 non-null  object \n",
      " 20  sup_fname                411948 non-null  object \n",
      " 21  sup_lname                411948 non-null  object \n",
      " 22  sup_age                  411948 non-null  object \n",
      " 23  sup_sub_age_diff         411948 non-null  object \n",
      " 24  sup_sex                  411948 non-null  object \n",
      " 25  sup_role                 411948 non-null  object \n",
      " 26  sup_commitment_h         411948 non-null  object \n",
      " 27  sup_perceptiveness_h     411948 non-null  object \n",
      " 28  sup_goodness_h           411948 non-null  object \n",
      " 29  event_date               411948 non-null  object \n",
      " 30  event_week_in_series     411948 non-null  int64  \n",
      " 31  event_day_in_series      411948 non-null  int64  \n",
      " 32  event_weekday_num        411948 non-null  int64  \n",
      " 33  event_weekday_name       411948 non-null  object \n",
      " 34  behav_comptype_h         411948 non-null  object \n",
      " 35  behav_cause_h            411948 non-null  object \n",
      " 36  actual_efficacy_h        411948 non-null  object \n",
      " 37  record_comptype          411948 non-null  object \n",
      " 38  record_cause             411948 non-null  object \n",
      " 39  recorded_efficacy        411948 non-null  object \n",
      " 40  recorded_note_from_sup   411590 non-null  object \n",
      " 41  record_conf_matrix_h     411948 non-null  object \n",
      "dtypes: float64(8), int64(5), object(29)\n",
      "memory usage: 132.0+ MB\n"
     ]
    }
   ],
   "source": [
    "workers.info()"
   ]
  },
  {
   "cell_type": "markdown",
   "id": "db95d88e",
   "metadata": {},
   "source": [
    "The dataframe consists of 42 features, all with data types of either float, integer or object."
   ]
  },
  {
   "cell_type": "markdown",
   "id": "a63740b1",
   "metadata": {},
   "source": [
    "### Helpful tool: Lookup function\n",
    "Since there are 42 columns in this dataset, each with its own description, use this lookup function to quickly take a look at what the column heading may mean."
   ]
  },
  {
   "cell_type": "code",
   "execution_count": 19,
   "id": "186f1ec3",
   "metadata": {},
   "outputs": [],
   "source": [
    "# Get Column description function\n",
    "with open(\"../data/raw/metadata.json\") as file:\n",
    "    column_descriptions = json.load(file)\n",
    "\n",
    "# Define a lookup function for getting the description of a column name\n",
    "def get_column_desc(col_name, info=column_descriptions):\n",
    "    \"\"\"\n",
    "    Provides a lookup function for a description of the inputted list of column names. \n",
    "    \n",
    "    This function takes a list of column names as a list and returns a dictionary of column names \\ \n",
    "    and corresponding descriptions.\n",
    "    \n",
    "    Parameters:\n",
    "    col_name(list): List of column names you wish to lookup.\n",
    "    info(dict): A JSON file containing metadata.\n",
    "    \n",
    "    Returns: \n",
    "    dict: Returns column name and its description.\n",
    "    \n",
    "    \"\"\"\n",
    "    desc = dict()\n",
    "    for name in col_name:\n",
    "        desc[name] = info[name][\"Description\"]\n",
    "    return desc\n"
   ]
  },
  {
   "cell_type": "markdown",
   "id": "f1916797",
   "metadata": {},
   "source": [
    "### Getting an idea of the distribution of 'Events' (Idea, Feat, Resignation, etc.)"
   ]
  },
  {
   "cell_type": "markdown",
   "id": "5e68d6b1",
   "metadata": {},
   "source": [
    "There are two columns pertaining to an 'event': **`behav_comptype_h`**, which is hidden, and **`record_comptype`**. One is the actual underlying event performed by the worker, and the latter is the recorded event inputted by the supervisor. We will use the lookup function to get a better idea of the columns."
   ]
  },
  {
   "cell_type": "code",
   "execution_count": 6,
   "id": "d9166a20",
   "metadata": {},
   "outputs": [
    {
     "data": {
      "text/plain": [
       "{'behav_comptype_h': 'A string describing the underlying kind of behavior that the event’s subject actually performed on the given day and which is reflected in the row’s event. Possible values are “Presence”, “Absence”, “Resignation”, “Onboarding”, “Efficacy”, “Idea”, “Lapse”, “Feat”, “Slip”, “Teamwork”, “Disruption”, “Sacrifice”, and “Sabotage”. The value will be “None” in the case of a “Termination” event (which is solely an action on the part of the supervisor, not the subordinate; it includes a record component reflecting the HRM/ERP system entry made by the supervisor but no behavior component on the part of the subordinate).',\n",
       " 'record_comptype': 'A string describing the type of record made by the subject’s supervisor in the factory’s HRM/ERP system, in connection with the underlying behavior performed by the worker; it’s the record component of the event. Possible values are “Presence”, “Absence”, “Resignation”, “Termination”, “Onboarding”, “Efficacy”, “Idea”, “Lapse”, “Feat”, “Slip”, “Teamwork”, “Disruption”, “Sacrifice”, and “Sabotage”. It’s also possible for a supervisor to have overlooked a given qualitative behavior (e.g., a Feat or Teamwork) and thus to have made no record in the HRM/ERP system; in that case, this field’s value will be “None”.'}"
      ]
     },
     "execution_count": 6,
     "metadata": {},
     "output_type": "execute_result"
    }
   ],
   "source": [
    "# Get a description of the Column headings related to events\n",
    "get_column_desc(['behav_comptype_h', 'record_comptype'])"
   ]
  },
  {
   "cell_type": "markdown",
   "id": "d1d6325c",
   "metadata": {},
   "source": [
    "**Let's compare the two columns** "
   ]
  },
  {
   "cell_type": "code",
   "execution_count": 20,
   "id": "e1f6021e",
   "metadata": {
    "scrolled": false
   },
   "outputs": [
    {
     "data": {
      "text/html": [
       "<div>\n",
       "<style scoped>\n",
       "    .dataframe tbody tr th:only-of-type {\n",
       "        vertical-align: middle;\n",
       "    }\n",
       "\n",
       "    .dataframe tbody tr th {\n",
       "        vertical-align: top;\n",
       "    }\n",
       "\n",
       "    .dataframe thead th {\n",
       "        text-align: right;\n",
       "    }\n",
       "</style>\n",
       "<table border=\"1\" class=\"dataframe\">\n",
       "  <thead>\n",
       "    <tr style=\"text-align: right;\">\n",
       "      <th></th>\n",
       "      <th>Recorded by Supervisor</th>\n",
       "      <th>Actual Event</th>\n",
       "      <th>Difference</th>\n",
       "    </tr>\n",
       "  </thead>\n",
       "  <tbody>\n",
       "    <tr>\n",
       "      <th>Absence</th>\n",
       "      <td>6519</td>\n",
       "      <td>6524.0</td>\n",
       "      <td>-5.0</td>\n",
       "    </tr>\n",
       "    <tr>\n",
       "      <th>Disruption</th>\n",
       "      <td>781</td>\n",
       "      <td>927.0</td>\n",
       "      <td>-146.0</td>\n",
       "    </tr>\n",
       "    <tr>\n",
       "      <th>Efficacy</th>\n",
       "      <td>191272</td>\n",
       "      <td>191657.0</td>\n",
       "      <td>-385.0</td>\n",
       "    </tr>\n",
       "    <tr>\n",
       "      <th>Feat</th>\n",
       "      <td>3387</td>\n",
       "      <td>3937.0</td>\n",
       "      <td>-550.0</td>\n",
       "    </tr>\n",
       "    <tr>\n",
       "      <th>Idea</th>\n",
       "      <td>3334</td>\n",
       "      <td>3899.0</td>\n",
       "      <td>-565.0</td>\n",
       "    </tr>\n",
       "    <tr>\n",
       "      <th>Lapse</th>\n",
       "      <td>1344</td>\n",
       "      <td>1587.0</td>\n",
       "      <td>-243.0</td>\n",
       "    </tr>\n",
       "    <tr>\n",
       "      <th>None</th>\n",
       "      <td>3938</td>\n",
       "      <td>NaN</td>\n",
       "      <td>NaN</td>\n",
       "    </tr>\n",
       "    <tr>\n",
       "      <th>Onboarding</th>\n",
       "      <td>179</td>\n",
       "      <td>179.0</td>\n",
       "      <td>0.0</td>\n",
       "    </tr>\n",
       "    <tr>\n",
       "      <th>Presence</th>\n",
       "      <td>191272</td>\n",
       "      <td>191657.0</td>\n",
       "      <td>-385.0</td>\n",
       "    </tr>\n",
       "    <tr>\n",
       "      <th>Resignation</th>\n",
       "      <td>77</td>\n",
       "      <td>77.0</td>\n",
       "      <td>0.0</td>\n",
       "    </tr>\n",
       "    <tr>\n",
       "      <th>Sabotage</th>\n",
       "      <td>211</td>\n",
       "      <td>238.0</td>\n",
       "      <td>-27.0</td>\n",
       "    </tr>\n",
       "    <tr>\n",
       "      <th>Sacrifice</th>\n",
       "      <td>4605</td>\n",
       "      <td>5356.0</td>\n",
       "      <td>-751.0</td>\n",
       "    </tr>\n",
       "    <tr>\n",
       "      <th>Slip</th>\n",
       "      <td>837</td>\n",
       "      <td>994.0</td>\n",
       "      <td>-157.0</td>\n",
       "    </tr>\n",
       "    <tr>\n",
       "      <th>Teamwork</th>\n",
       "      <td>4090</td>\n",
       "      <td>4814.0</td>\n",
       "      <td>-724.0</td>\n",
       "    </tr>\n",
       "  </tbody>\n",
       "</table>\n",
       "</div>"
      ],
      "text/plain": [
       "             Recorded by Supervisor  Actual Event  Difference\n",
       "Absence                        6519        6524.0        -5.0\n",
       "Disruption                      781         927.0      -146.0\n",
       "Efficacy                     191272      191657.0      -385.0\n",
       "Feat                           3387        3937.0      -550.0\n",
       "Idea                           3334        3899.0      -565.0\n",
       "Lapse                          1344        1587.0      -243.0\n",
       "None                           3938           NaN         NaN\n",
       "Onboarding                      179         179.0         0.0\n",
       "Presence                     191272      191657.0      -385.0\n",
       "Resignation                      77          77.0         0.0\n",
       "Sabotage                        211         238.0       -27.0\n",
       "Sacrifice                      4605        5356.0      -751.0\n",
       "Slip                            837         994.0      -157.0\n",
       "Teamwork                       4090        4814.0      -724.0"
      ]
     },
     "execution_count": 20,
     "metadata": {},
     "output_type": "execute_result"
    }
   ],
   "source": [
    "# Removed records where behav_comptype_h is 'None' because that meant a termination event\n",
    "df_without_term_event = workers[(workers['behav_comptype_h'] != 'None')]\n",
    "recorded_event = df_without_term_event.groupby('record_comptype')['record_comptype'].count()\n",
    "actual_event = df_without_term_event.groupby('behav_comptype_h')['behav_comptype_h'].count()\n",
    "diff = recorded_event - actual_event\n",
    "\n",
    "# DF comparing actual vs recorded events \n",
    "events = pd.concat([recorded_event, actual_event, diff], axis=1)\n",
    "events.columns=['Recorded by Supervisor', 'Actual Event', 'Difference']\n",
    "events"
   ]
  },
  {
   "cell_type": "markdown",
   "id": "c0a3586a",
   "metadata": {},
   "source": [
    "Comparing the two, right away we can see that there is a mismatch between what was **actually done vs. what was actually recorded by the supervisor**. For example, there were 550 mismatched records for employee 'Feats', 565 for 'Ideas' and 751 for 'Sacrifices', just to highlight a few.\n",
    "\n",
    "Consistently overperforming and not being recognized can lead to some potential frustration by the employee and is an interesting point to investigate. \n",
    "\n",
    "Let's probe a little bit further."
   ]
  },
  {
   "cell_type": "code",
   "execution_count": 8,
   "id": "b192fbd9",
   "metadata": {
    "scrolled": true
   },
   "outputs": [
    {
     "data": {
      "text/html": [
       "<div>\n",
       "<style scoped>\n",
       "    .dataframe tbody tr th:only-of-type {\n",
       "        vertical-align: middle;\n",
       "    }\n",
       "\n",
       "    .dataframe tbody tr th {\n",
       "        vertical-align: top;\n",
       "    }\n",
       "\n",
       "    .dataframe thead th {\n",
       "        text-align: right;\n",
       "    }\n",
       "</style>\n",
       "<table border=\"1\" class=\"dataframe\">\n",
       "  <thead>\n",
       "    <tr style=\"text-align: right;\">\n",
       "      <th></th>\n",
       "      <th>Actual Event</th>\n",
       "      <th>Recorded by Supervisor</th>\n",
       "    </tr>\n",
       "  </thead>\n",
       "  <tbody>\n",
       "    <tr>\n",
       "      <th>359</th>\n",
       "      <td>Idea</td>\n",
       "      <td>None</td>\n",
       "    </tr>\n",
       "    <tr>\n",
       "      <th>382</th>\n",
       "      <td>Feat</td>\n",
       "      <td>None</td>\n",
       "    </tr>\n",
       "    <tr>\n",
       "      <th>428</th>\n",
       "      <td>Sacrifice</td>\n",
       "      <td>None</td>\n",
       "    </tr>\n",
       "    <tr>\n",
       "      <th>431</th>\n",
       "      <td>Presence</td>\n",
       "      <td>None</td>\n",
       "    </tr>\n",
       "    <tr>\n",
       "      <th>432</th>\n",
       "      <td>Efficacy</td>\n",
       "      <td>None</td>\n",
       "    </tr>\n",
       "    <tr>\n",
       "      <th>...</th>\n",
       "      <td>...</td>\n",
       "      <td>...</td>\n",
       "    </tr>\n",
       "    <tr>\n",
       "      <th>411708</th>\n",
       "      <td>Teamwork</td>\n",
       "      <td>None</td>\n",
       "    </tr>\n",
       "    <tr>\n",
       "      <th>411713</th>\n",
       "      <td>Lapse</td>\n",
       "      <td>None</td>\n",
       "    </tr>\n",
       "    <tr>\n",
       "      <th>411813</th>\n",
       "      <td>Teamwork</td>\n",
       "      <td>None</td>\n",
       "    </tr>\n",
       "    <tr>\n",
       "      <th>411932</th>\n",
       "      <td>Teamwork</td>\n",
       "      <td>None</td>\n",
       "    </tr>\n",
       "    <tr>\n",
       "      <th>411939</th>\n",
       "      <td>Teamwork</td>\n",
       "      <td>None</td>\n",
       "    </tr>\n",
       "  </tbody>\n",
       "</table>\n",
       "<p>3938 rows × 2 columns</p>\n",
       "</div>"
      ],
      "text/plain": [
       "       Actual Event Recorded by Supervisor\n",
       "359            Idea                   None\n",
       "382            Feat                   None\n",
       "428       Sacrifice                   None\n",
       "431        Presence                   None\n",
       "432        Efficacy                   None\n",
       "...             ...                    ...\n",
       "411708     Teamwork                   None\n",
       "411713        Lapse                   None\n",
       "411813     Teamwork                   None\n",
       "411932     Teamwork                   None\n",
       "411939     Teamwork                   None\n",
       "\n",
       "[3938 rows x 2 columns]"
      ]
     },
     "execution_count": 8,
     "metadata": {},
     "output_type": "execute_result"
    }
   ],
   "source": [
    "# DataFrame showing mismatched events between Actual Event performed vs. what the supervisor recorded\n",
    "mismatched_events = df_without_term_event[df_without_term_event['record_comptype'] != df_without_term_event['behav_comptype_h']][['behav_comptype_h', 'record_comptype']]\n",
    "mismatched_events.rename(columns={'behav_comptype_h':'Actual Event', 'record_comptype':'Recorded by Supervisor'}, inplace=True)\n",
    "mismatched_events"
   ]
  },
  {
   "cell_type": "markdown",
   "id": "8bfafbdb",
   "metadata": {},
   "source": [
    "Comparing the two columns separately, we can see that there are about **3938 records** of mismatched events where the supervisor recorded something different than was performed for that given record. In a lot of cases, we can see tha a supervisor just simply did not record a **positive** event like Sacrifice or Feat. That is a lot of mismatch!"
   ]
  },
  {
   "cell_type": "code",
   "execution_count": 9,
   "id": "49b9c8f6",
   "metadata": {
    "scrolled": true
   },
   "outputs": [
    {
     "data": {
      "text/plain": [
       "\"\\n# Visualize a count of the different events excluding Presence and Efficacy for Actual Event\\nworkers_no_pres_or_eff = workers[(workers['record_comptype'] != 'Presence') & (workers['record_comptype'] != 'Efficacy')]\\n\\ng = sns.catplot(x='behav_comptype_h', data=workers_no_pres_or_eff, kind='count')\\n#Places counts at top of bar\\nfor ax in g.axes.flat:\\n    ax.bar_label(ax.containers[0])\\ng.fig.suptitle('Count of Event Types')\\ng.fig.subplots_adjust(top=0.9)\\nplt.xticks(rotation=90)\\nplt.show()\\n\""
      ]
     },
     "execution_count": 9,
     "metadata": {},
     "output_type": "execute_result"
    }
   ],
   "source": [
    "\"\"\"\n",
    "# Visualize a count of the different events excluding Presence and Efficacy for Actual Event\n",
    "workers_no_pres_or_eff = workers[(workers['record_comptype'] != 'Presence') & (workers['record_comptype'] != 'Efficacy')]\n",
    "\n",
    "g = sns.catplot(x='behav_comptype_h', data=workers_no_pres_or_eff, kind='count')\n",
    "#Places counts at top of bar\n",
    "for ax in g.axes.flat:\n",
    "    ax.bar_label(ax.containers[0])\n",
    "g.fig.suptitle('Count of Event Types')\n",
    "g.fig.subplots_adjust(top=0.9)\n",
    "plt.xticks(rotation=90)\n",
    "plt.show()\n",
    "\"\"\""
   ]
  },
  {
   "cell_type": "code",
   "execution_count": 10,
   "id": "ed4a0a8a",
   "metadata": {},
   "outputs": [
    {
     "data": {
      "text/plain": [
       "\"\\nVisualize a count of the different events excluding Presence and Efficacy for Recorded Event by Sup\\nworkers_no_pres_or_eff = workers[(workers['record_comptype'] != 'Presence') & (workers['record_comptype'] != 'Efficacy')]\\n\\ng = sns.catplot(x='record_comptype', data=workers_no_pres_or_eff, kind='count')\\n#Places counts at top of bar\\nfor ax in g.axes.flat:\\n    ax.bar_label(ax.containers[0])\\ng.fig.suptitle('Count of Event Types')\\ng.fig.subplots_adjust(top=0.9)\\nplt.xticks(rotation=90)\\nplt.show()\\n\""
      ]
     },
     "execution_count": 10,
     "metadata": {},
     "output_type": "execute_result"
    }
   ],
   "source": [
    "\"\"\"\n",
    "Visualize a count of the different events excluding Presence and Efficacy for Recorded Event by Sup\n",
    "workers_no_pres_or_eff = workers[(workers['record_comptype'] != 'Presence') & (workers['record_comptype'] != 'Efficacy')]\n",
    "\n",
    "g = sns.catplot(x='record_comptype', data=workers_no_pres_or_eff, kind='count')\n",
    "#Places counts at top of bar\n",
    "for ax in g.axes.flat:\n",
    "    ax.bar_label(ax.containers[0])\n",
    "g.fig.suptitle('Count of Event Types')\n",
    "g.fig.subplots_adjust(top=0.9)\n",
    "plt.xticks(rotation=90)\n",
    "plt.show()\n",
    "\"\"\""
   ]
  },
  {
   "cell_type": "markdown",
   "id": "451d8f58",
   "metadata": {},
   "source": [
    "## **Graphical Exploratory Data Analysis**"
   ]
  },
  {
   "cell_type": "markdown",
   "id": "4a0ed1bd",
   "metadata": {},
   "source": [
    "Going into this exploratory analysis with the problem I'm trying to solve in mind, my initial thought is that my response variable will most likely be the records that have a **'Resignation'** event listed. Those records that involved a 'Termination' event are outside the scope of the question I'm trying to answer.\n",
    "\n",
    "Since I'm trying to predict what factors will contribute to an employee leaving (voluntarily), there will be several explanatory variables. My instinct is to divide and investigate them in three iterations: **explanatory variables related to the employee's role, performance, attitudes, etc.; explanatory variables related to the supervisor's; and a combination of the two.**\n",
    "\n"
   ]
  },
  {
   "cell_type": "markdown",
   "id": "70884258",
   "metadata": {},
   "source": [
    "### Firstly, how many employees resigned?"
   ]
  },
  {
   "cell_type": "code",
   "execution_count": 11,
   "id": "c2092b83",
   "metadata": {
    "scrolled": true
   },
   "outputs": [
    {
     "data": {
      "text/html": [
       "<div>\n",
       "<style scoped>\n",
       "    .dataframe tbody tr th:only-of-type {\n",
       "        vertical-align: middle;\n",
       "    }\n",
       "\n",
       "    .dataframe tbody tr th {\n",
       "        vertical-align: top;\n",
       "    }\n",
       "\n",
       "    .dataframe thead th {\n",
       "        text-align: right;\n",
       "    }\n",
       "</style>\n",
       "<table border=\"1\" class=\"dataframe\">\n",
       "  <thead>\n",
       "    <tr style=\"text-align: right;\">\n",
       "      <th></th>\n",
       "      <th>sub_ID</th>\n",
       "      <th>sub_fname</th>\n",
       "      <th>sub_lname</th>\n",
       "      <th>sub_age</th>\n",
       "      <th>sub_sex</th>\n",
       "      <th>sub_shift</th>\n",
       "      <th>sub_team</th>\n",
       "      <th>sub_role</th>\n",
       "      <th>sub_coll_IDs</th>\n",
       "      <th>sub_colls_same_sex_prtn</th>\n",
       "      <th>...</th>\n",
       "      <th>event_weekday_num</th>\n",
       "      <th>event_weekday_name</th>\n",
       "      <th>behav_comptype_h</th>\n",
       "      <th>behav_cause_h</th>\n",
       "      <th>actual_efficacy_h</th>\n",
       "      <th>record_comptype</th>\n",
       "      <th>record_cause</th>\n",
       "      <th>recorded_efficacy</th>\n",
       "      <th>recorded_note_from_sup</th>\n",
       "      <th>record_conf_matrix_h</th>\n",
       "    </tr>\n",
       "  </thead>\n",
       "  <tbody>\n",
       "    <tr>\n",
       "      <th>1056</th>\n",
       "      <td>98000112</td>\n",
       "      <td>Dorothy</td>\n",
       "      <td>Reynolds</td>\n",
       "      <td>61</td>\n",
       "      <td>F</td>\n",
       "      <td>Shift 1</td>\n",
       "      <td>Team 5</td>\n",
       "      <td>Laborer</td>\n",
       "      <td>[98000106, 98000109, 98000110, 98000111, 98000...</td>\n",
       "      <td>0.526315789</td>\n",
       "      <td>...</td>\n",
       "      <td>4</td>\n",
       "      <td>Friday</td>\n",
       "      <td>Resignation</td>\n",
       "      <td>Poor Teammates</td>\n",
       "      <td>None</td>\n",
       "      <td>Resignation</td>\n",
       "      <td>None</td>\n",
       "      <td>None</td>\n",
       "      <td>NaN</td>\n",
       "      <td>None</td>\n",
       "    </tr>\n",
       "    <tr>\n",
       "      <th>1057</th>\n",
       "      <td>98000462</td>\n",
       "      <td>Mark</td>\n",
       "      <td>Bauer</td>\n",
       "      <td>63</td>\n",
       "      <td>M</td>\n",
       "      <td>Shift 3</td>\n",
       "      <td>Team 22</td>\n",
       "      <td>Laborer</td>\n",
       "      <td>[98000449, 98000450, 98000451, 98000452, 98000...</td>\n",
       "      <td>0.368421053</td>\n",
       "      <td>...</td>\n",
       "      <td>4</td>\n",
       "      <td>Friday</td>\n",
       "      <td>Resignation</td>\n",
       "      <td>Underrecorded Efficacy</td>\n",
       "      <td>None</td>\n",
       "      <td>Resignation</td>\n",
       "      <td>None</td>\n",
       "      <td>None</td>\n",
       "      <td>NaN</td>\n",
       "      <td>None</td>\n",
       "    </tr>\n",
       "    <tr>\n",
       "      <th>1058</th>\n",
       "      <td>98000598</td>\n",
       "      <td>Francis</td>\n",
       "      <td>Weber</td>\n",
       "      <td>19</td>\n",
       "      <td>M</td>\n",
       "      <td>Shift 1</td>\n",
       "      <td>Team 5</td>\n",
       "      <td>Laborer</td>\n",
       "      <td>[98000106, 98000109, 98000110, 98000111, 98000...</td>\n",
       "      <td>0.421052632</td>\n",
       "      <td>...</td>\n",
       "      <td>4</td>\n",
       "      <td>Friday</td>\n",
       "      <td>None</td>\n",
       "      <td>None</td>\n",
       "      <td>None</td>\n",
       "      <td>Termination</td>\n",
       "      <td>Low Efficacy</td>\n",
       "      <td>None</td>\n",
       "      <td>NaN</td>\n",
       "      <td>None</td>\n",
       "    </tr>\n",
       "    <tr>\n",
       "      <th>2116</th>\n",
       "      <td>98000264</td>\n",
       "      <td>Mary</td>\n",
       "      <td>Ortiz</td>\n",
       "      <td>61</td>\n",
       "      <td>F</td>\n",
       "      <td>Shift 2</td>\n",
       "      <td>Team 12</td>\n",
       "      <td>Laborer</td>\n",
       "      <td>[98000246, 98000247, 98000248, 98000249, 98000...</td>\n",
       "      <td>0.789473684</td>\n",
       "      <td>...</td>\n",
       "      <td>0</td>\n",
       "      <td>Monday</td>\n",
       "      <td>Resignation</td>\n",
       "      <td>Recruited Away</td>\n",
       "      <td>None</td>\n",
       "      <td>Resignation</td>\n",
       "      <td>None</td>\n",
       "      <td>None</td>\n",
       "      <td>NaN</td>\n",
       "      <td>None</td>\n",
       "    </tr>\n",
       "    <tr>\n",
       "      <th>5272</th>\n",
       "      <td>98000081</td>\n",
       "      <td>Carol</td>\n",
       "      <td>Wieczorek</td>\n",
       "      <td>49</td>\n",
       "      <td>F</td>\n",
       "      <td>Shift 1</td>\n",
       "      <td>Team 3</td>\n",
       "      <td>Laborer</td>\n",
       "      <td>[98000066, 98000067, 98000068, 98000069, 98000...</td>\n",
       "      <td>0.473684211</td>\n",
       "      <td>...</td>\n",
       "      <td>3</td>\n",
       "      <td>Thursday</td>\n",
       "      <td>None</td>\n",
       "      <td>None</td>\n",
       "      <td>None</td>\n",
       "      <td>Termination</td>\n",
       "      <td>Multiple Sabotages</td>\n",
       "      <td>None</td>\n",
       "      <td>NaN</td>\n",
       "      <td>None</td>\n",
       "    </tr>\n",
       "    <tr>\n",
       "      <th>...</th>\n",
       "      <td>...</td>\n",
       "      <td>...</td>\n",
       "      <td>...</td>\n",
       "      <td>...</td>\n",
       "      <td>...</td>\n",
       "      <td>...</td>\n",
       "      <td>...</td>\n",
       "      <td>...</td>\n",
       "      <td>...</td>\n",
       "      <td>...</td>\n",
       "      <td>...</td>\n",
       "      <td>...</td>\n",
       "      <td>...</td>\n",
       "      <td>...</td>\n",
       "      <td>...</td>\n",
       "      <td>...</td>\n",
       "      <td>...</td>\n",
       "      <td>...</td>\n",
       "      <td>...</td>\n",
       "      <td>...</td>\n",
       "      <td>...</td>\n",
       "    </tr>\n",
       "    <tr>\n",
       "      <th>390829</th>\n",
       "      <td>98000778</td>\n",
       "      <td>Dennis</td>\n",
       "      <td>Walker</td>\n",
       "      <td>48</td>\n",
       "      <td>M</td>\n",
       "      <td>Shift 2</td>\n",
       "      <td>Team 12</td>\n",
       "      <td>Laborer</td>\n",
       "      <td>[98000247, 98000249, 98000250, 98000251, 98000...</td>\n",
       "      <td>0.315789474</td>\n",
       "      <td>...</td>\n",
       "      <td>3</td>\n",
       "      <td>Thursday</td>\n",
       "      <td>None</td>\n",
       "      <td>None</td>\n",
       "      <td>None</td>\n",
       "      <td>Termination</td>\n",
       "      <td>Multiple Absences</td>\n",
       "      <td>None</td>\n",
       "      <td>NaN</td>\n",
       "      <td>None</td>\n",
       "    </tr>\n",
       "    <tr>\n",
       "      <th>400307</th>\n",
       "      <td>98000727</td>\n",
       "      <td>Robert</td>\n",
       "      <td>Novak</td>\n",
       "      <td>54</td>\n",
       "      <td>M</td>\n",
       "      <td>Shift 1</td>\n",
       "      <td>Team 8</td>\n",
       "      <td>Laborer</td>\n",
       "      <td>[98000166, 98000168, 98000170, 98000171, 98000...</td>\n",
       "      <td>0.631578947</td>\n",
       "      <td>...</td>\n",
       "      <td>2</td>\n",
       "      <td>Wednesday</td>\n",
       "      <td>Resignation</td>\n",
       "      <td>Recruited Away</td>\n",
       "      <td>None</td>\n",
       "      <td>Resignation</td>\n",
       "      <td>None</td>\n",
       "      <td>None</td>\n",
       "      <td>NaN</td>\n",
       "      <td>None</td>\n",
       "    </tr>\n",
       "    <tr>\n",
       "      <th>400308</th>\n",
       "      <td>98000779</td>\n",
       "      <td>Margaret</td>\n",
       "      <td>Castellano</td>\n",
       "      <td>34</td>\n",
       "      <td>F</td>\n",
       "      <td>Shift 3</td>\n",
       "      <td>Team 21</td>\n",
       "      <td>Laborer</td>\n",
       "      <td>[98000428, 98000429, 98000430, 98000431, 98000...</td>\n",
       "      <td>0.526315789</td>\n",
       "      <td>...</td>\n",
       "      <td>2</td>\n",
       "      <td>Wednesday</td>\n",
       "      <td>Resignation</td>\n",
       "      <td>Poor Teammates</td>\n",
       "      <td>None</td>\n",
       "      <td>Resignation</td>\n",
       "      <td>None</td>\n",
       "      <td>None</td>\n",
       "      <td>NaN</td>\n",
       "      <td>None</td>\n",
       "    </tr>\n",
       "    <tr>\n",
       "      <th>407664</th>\n",
       "      <td>98000139</td>\n",
       "      <td>Benjamin</td>\n",
       "      <td>Rossi</td>\n",
       "      <td>54</td>\n",
       "      <td>M</td>\n",
       "      <td>Shift 1</td>\n",
       "      <td>Team 6</td>\n",
       "      <td>Laborer</td>\n",
       "      <td>[98000125, 98000127, 98000130, 98000131, 98000...</td>\n",
       "      <td>0.473684211</td>\n",
       "      <td>...</td>\n",
       "      <td>4</td>\n",
       "      <td>Friday</td>\n",
       "      <td>None</td>\n",
       "      <td>None</td>\n",
       "      <td>None</td>\n",
       "      <td>Termination</td>\n",
       "      <td>Multiple Sabotages</td>\n",
       "      <td>None</td>\n",
       "      <td>NaN</td>\n",
       "      <td>None</td>\n",
       "    </tr>\n",
       "    <tr>\n",
       "      <th>407665</th>\n",
       "      <td>98000250</td>\n",
       "      <td>Tamara</td>\n",
       "      <td>Butler</td>\n",
       "      <td>40</td>\n",
       "      <td>F</td>\n",
       "      <td>Shift 2</td>\n",
       "      <td>Team 12</td>\n",
       "      <td>Laborer</td>\n",
       "      <td>[98000247, 98000249, 98000251, 98000255, 98000...</td>\n",
       "      <td>0.684210526</td>\n",
       "      <td>...</td>\n",
       "      <td>4</td>\n",
       "      <td>Friday</td>\n",
       "      <td>None</td>\n",
       "      <td>None</td>\n",
       "      <td>None</td>\n",
       "      <td>Termination</td>\n",
       "      <td>Multiple Sabotages</td>\n",
       "      <td>None</td>\n",
       "      <td>NaN</td>\n",
       "      <td>None</td>\n",
       "    </tr>\n",
       "  </tbody>\n",
       "</table>\n",
       "<p>179 rows × 42 columns</p>\n",
       "</div>"
      ],
      "text/plain": [
       "          sub_ID sub_fname   sub_lname  sub_age sub_sex sub_shift sub_team  \\\n",
       "1056    98000112   Dorothy    Reynolds       61       F   Shift 1   Team 5   \n",
       "1057    98000462      Mark       Bauer       63       M   Shift 3  Team 22   \n",
       "1058    98000598   Francis       Weber       19       M   Shift 1   Team 5   \n",
       "2116    98000264      Mary       Ortiz       61       F   Shift 2  Team 12   \n",
       "5272    98000081     Carol   Wieczorek       49       F   Shift 1   Team 3   \n",
       "...          ...       ...         ...      ...     ...       ...      ...   \n",
       "390829  98000778    Dennis      Walker       48       M   Shift 2  Team 12   \n",
       "400307  98000727    Robert       Novak       54       M   Shift 1   Team 8   \n",
       "400308  98000779  Margaret  Castellano       34       F   Shift 3  Team 21   \n",
       "407664  98000139  Benjamin       Rossi       54       M   Shift 1   Team 6   \n",
       "407665  98000250    Tamara      Butler       40       F   Shift 2  Team 12   \n",
       "\n",
       "       sub_role                                       sub_coll_IDs  \\\n",
       "1056    Laborer  [98000106, 98000109, 98000110, 98000111, 98000...   \n",
       "1057    Laborer  [98000449, 98000450, 98000451, 98000452, 98000...   \n",
       "1058    Laborer  [98000106, 98000109, 98000110, 98000111, 98000...   \n",
       "2116    Laborer  [98000246, 98000247, 98000248, 98000249, 98000...   \n",
       "5272    Laborer  [98000066, 98000067, 98000068, 98000069, 98000...   \n",
       "...         ...                                                ...   \n",
       "390829  Laborer  [98000247, 98000249, 98000250, 98000251, 98000...   \n",
       "400307  Laborer  [98000166, 98000168, 98000170, 98000171, 98000...   \n",
       "400308  Laborer  [98000428, 98000429, 98000430, 98000431, 98000...   \n",
       "407664  Laborer  [98000125, 98000127, 98000130, 98000131, 98000...   \n",
       "407665  Laborer  [98000247, 98000249, 98000251, 98000255, 98000...   \n",
       "\n",
       "       sub_colls_same_sex_prtn  ...  event_weekday_num  event_weekday_name  \\\n",
       "1056               0.526315789  ...                  4              Friday   \n",
       "1057               0.368421053  ...                  4              Friday   \n",
       "1058               0.421052632  ...                  4              Friday   \n",
       "2116               0.789473684  ...                  0              Monday   \n",
       "5272               0.473684211  ...                  3            Thursday   \n",
       "...                        ...  ...                ...                 ...   \n",
       "390829             0.315789474  ...                  3            Thursday   \n",
       "400307             0.631578947  ...                  2           Wednesday   \n",
       "400308             0.526315789  ...                  2           Wednesday   \n",
       "407664             0.473684211  ...                  4              Friday   \n",
       "407665             0.684210526  ...                  4              Friday   \n",
       "\n",
       "        behav_comptype_h           behav_cause_h  actual_efficacy_h  \\\n",
       "1056         Resignation          Poor Teammates               None   \n",
       "1057         Resignation  Underrecorded Efficacy               None   \n",
       "1058                None                    None               None   \n",
       "2116         Resignation          Recruited Away               None   \n",
       "5272                None                    None               None   \n",
       "...                  ...                     ...                ...   \n",
       "390829              None                    None               None   \n",
       "400307       Resignation          Recruited Away               None   \n",
       "400308       Resignation          Poor Teammates               None   \n",
       "407664              None                    None               None   \n",
       "407665              None                    None               None   \n",
       "\n",
       "        record_comptype        record_cause  recorded_efficacy  \\\n",
       "1056        Resignation                None               None   \n",
       "1057        Resignation                None               None   \n",
       "1058        Termination        Low Efficacy               None   \n",
       "2116        Resignation                None               None   \n",
       "5272        Termination  Multiple Sabotages               None   \n",
       "...                 ...                 ...                ...   \n",
       "390829      Termination   Multiple Absences               None   \n",
       "400307      Resignation                None               None   \n",
       "400308      Resignation                None               None   \n",
       "407664      Termination  Multiple Sabotages               None   \n",
       "407665      Termination  Multiple Sabotages               None   \n",
       "\n",
       "       recorded_note_from_sup record_conf_matrix_h  \n",
       "1056                      NaN                 None  \n",
       "1057                      NaN                 None  \n",
       "1058                      NaN                 None  \n",
       "2116                      NaN                 None  \n",
       "5272                      NaN                 None  \n",
       "...                       ...                  ...  \n",
       "390829                    NaN                 None  \n",
       "400307                    NaN                 None  \n",
       "400308                    NaN                 None  \n",
       "407664                    NaN                 None  \n",
       "407665                    NaN                 None  \n",
       "\n",
       "[179 rows x 42 columns]"
      ]
     },
     "execution_count": 11,
     "metadata": {},
     "output_type": "execute_result"
    }
   ],
   "source": [
    "# Subset original dataframe for turnover events (Resignation and Termination)\n",
    "turnover = ['Resignation', 'Termination']\n",
    "turnover_events = workers[workers['record_comptype'].isin(turnover)]\n",
    "turnover_events"
   ]
  },
  {
   "cell_type": "markdown",
   "id": "257a6591",
   "metadata": {},
   "source": [
    "Over the course of 18 months, this factory had 179 turnover events. "
   ]
  },
  {
   "cell_type": "code",
   "execution_count": 12,
   "id": "247f1aa8",
   "metadata": {},
   "outputs": [
    {
     "data": {
      "text/plain": [
       "77"
      ]
     },
     "execution_count": 12,
     "metadata": {},
     "output_type": "execute_result"
    }
   ],
   "source": [
    "resignations = turnover_events[turnover_events['record_comptype'] == 'Resignation']\n",
    "\n",
    "len(resignations)"
   ]
  },
  {
   "cell_type": "markdown",
   "id": "9a412403",
   "metadata": {},
   "source": [
    "Of the 179 turnover events, 77 employees voluntarily resigned!"
   ]
  },
  {
   "cell_type": "markdown",
   "id": "470a24c5",
   "metadata": {},
   "source": [
    "# Is there anything in common with those employees that resigned?\n",
    "What are some explanatory variables related to the employee that might have correlation with a Resignation event?\n",
    "\n",
    "**Age, Sex, Shift, Team, and Role. Some 'hidden' traits include the employee's health, commitment, perceptiveness, dexterity, sociality, strength, goodness, open-mindedness, and workstyle all seem to be some interesting features.**"
   ]
  },
  {
   "cell_type": "markdown",
   "id": "d98b757a",
   "metadata": {},
   "source": [
    "**What do these columns mean?**"
   ]
  },
  {
   "cell_type": "code",
   "execution_count": 71,
   "id": "fcb23c46",
   "metadata": {},
   "outputs": [
    {
     "data": {
      "text/plain": [
       "{'sub_age': 'The age of the event’s subject.',\n",
       " 'sub_team': 'The name of the team on which the event’s subject works. For an employee working on Shift 1, possible values are “Team 1” through “Team 8” (for persons filling the role of Team Leader or Laborer) or “unassigned” (for the Shift Manager, who isn’t assigned to a single team but instead oversees all of the shift’s teams). Similarly, Shift 2 includes “Team 9” through “Team 16”, and Shift 3 includes “Team 17” through “Team 24”. The factory’s three Shift Managers and one Production Director also have “unassigned” as a value, as they aren’t members of a particular team.',\n",
       " 'sub_sex': 'The sex (“M” or “F”) of the employee who is the event’s subject.',\n",
       " 'sub_shift': 'The name of the shift on which the event’s subject works. Possible values are “Shift 1”, “Shift 2”, “Shift 3”, or “unassigned” (for the factory’s lone Production Director, who isn’t assigned to a single shift but instead oversees all of the shifts).',\n",
       " 'sub_role': 'The organizational role of the employee who is the event’s subject. Values include “Production Director,” of which there is exactly 1; “Shift Manager,” of which there are 3; “Team Leader,” of which there are 24; and “Laborer,” of which there are 480.'}"
      ]
     },
     "execution_count": 71,
     "metadata": {},
     "output_type": "execute_result"
    }
   ],
   "source": [
    "# Column descriptions related to employee role in factory\n",
    "work_desc = ['sub_age', 'sub_team', 'sub_sex', 'sub_shift', 'sub_role']\n",
    "get_column_desc(work_desc)"
   ]
  },
  {
   "cell_type": "code",
   "execution_count": 14,
   "id": "89185129",
   "metadata": {},
   "outputs": [
    {
     "data": {
      "text/plain": [
       "{'sub_health_h': 'A float between 0.0 and 1.0 representing the (hidden) Health stat of the event’s subject.',\n",
       " 'sub_commitment_h': 'A float between 0.0 and 1.0 representing the (hidden) Commitment stat of the event’s subject.',\n",
       " 'sub_perceptiveness_h': 'A float between 0.0 and 1.0 representing the (hidden) Perceptiveness stat of the event’s subject.',\n",
       " 'sub_dexterity_h': 'A float between 0.0 and 1.0 representing the (hidden) Dexterity stat of the event’s subject.',\n",
       " 'sub_sociality_h': 'A float between 0.0 and 1.0 representing the (hidden) Sociality stat of the event’s subject.',\n",
       " 'sub_goodness_h': 'A float between 0.0 and 1.0 representing the (hidden) Goodness stat of the event’s subject.',\n",
       " 'sub_strength_h': 'A float between 0.0 and 1.0 representing the (hidden) Strength stat of the event’s subject.',\n",
       " 'sub_openmindedness_h': 'A float between 0.0 and 1.0 representing the (hidden) Open-mindedness stat of the event’s subject.'}"
      ]
     },
     "execution_count": 14,
     "metadata": {},
     "output_type": "execute_result"
    }
   ],
   "source": [
    "# Column descriptions related to employee hidden traits\n",
    "employee_traits_1 = ['sub_health_h', 'sub_commitment_h', 'sub_perceptiveness_h', 'sub_dexterity_h', \\\n",
    "                   'sub_sociality_h', 'sub_goodness_h', 'sub_strength_h', 'sub_health_h', 'sub_openmindedness_h']\n",
    "get_column_desc(employee_traits_1)"
   ]
  },
  {
   "cell_type": "markdown",
   "id": "5c4eba8b",
   "metadata": {},
   "source": [
    "Separated the traits for better readability."
   ]
  },
  {
   "cell_type": "code",
   "execution_count": 15,
   "id": "797400f6",
   "metadata": {
    "scrolled": true
   },
   "outputs": [
    {
     "data": {
      "text/plain": [
       "{'sub_workstyle_h': 'The subject’s “Workstyle group” influences his or her Efficacy (which will be elevated, average, or reduced and either stable or variable); number of Disruptions (either elevated, average, or reduced); and number of Ideas (elevated, average, or reduced). Possible values are “Group A”, “Group B”, “Group C”, “Group D”, and “Group E”. Each Workstyle group has its own characteristic pattern of influences.',\n",
       " 'actual_efficacy_h': 'In the case of an Efficacy event, this float indicates the actual level of Efficacy that was displayed by the subject on the given day. The minimum value is 0.0; the maximum value is theoretically unlimited. For other event types, this field’s value will be “None”.',\n",
       " 'behav_cause_h': 'In the case of a Resignation event, this string indicates the subject’s actual (hidden) reason for quitting his or her job. For other event types, the value is “None”.',\n",
       " 'behav_comptype_h': 'A string describing the underlying kind of behavior that the event’s subject actually performed on the given day and which is reflected in the row’s event. Possible values are “Presence”, “Absence”, “Resignation”, “Onboarding”, “Efficacy”, “Idea”, “Lapse”, “Feat”, “Slip”, “Teamwork”, “Disruption”, “Sacrifice”, and “Sabotage”. The value will be “None” in the case of a “Termination” event (which is solely an action on the part of the supervisor, not the subordinate; it includes a record component reflecting the HRM/ERP system entry made by the supervisor but no behavior component on the part of the subordinate).'}"
      ]
     },
     "execution_count": 15,
     "metadata": {},
     "output_type": "execute_result"
    }
   ],
   "source": [
    "employee_traits_2 = ['sub_workstyle_h', 'actual_efficacy_h', 'behav_cause_h', 'behav_comptype_h']\n",
    "get_column_desc(employee_traits_2)"
   ]
  },
  {
   "cell_type": "markdown",
   "id": "21b23b6c",
   "metadata": {},
   "source": [
    "## Employee Traits\n",
    "\n",
    "Since the value listed in the hidden traits for each employee directly affects the kind of events they may have, I was curious to see whether, of those employees that resigned, did they typically have a value for these hidden traits in a certain range?\n",
    "\n",
    "Example: a person with a high perceptiveness score is more likely to have an Idea event. "
   ]
  },
  {
   "cell_type": "code",
   "execution_count": 24,
   "id": "3af3f133",
   "metadata": {},
   "outputs": [],
   "source": [
    "# Extract traits to compare\n",
    "worker_traits_1 = ['sub_health_h','sub_commitment_h', 'sub_perceptiveness_h','sub_dexterity_h']\n",
    "worker_traits_2 = ['sub_sociality_h','sub_goodness_h','sub_strength_h', 'sub_openmindedness_h']\n",
    "traits = ['sub_health_h','sub_commitment_h', 'sub_perceptiveness_h','sub_dexterity_h', \\\n",
    "         'sub_sociality_h','sub_goodness_h','sub_strength_h', 'sub_openmindedness_h']\n",
    "num_of_cols = [0,1,2,3]"
   ]
  },
  {
   "cell_type": "code",
   "execution_count": 82,
   "id": "cf043b3e",
   "metadata": {
    "scrolled": false
   },
   "outputs": [
    {
     "data": {
      "image/png": "[encoded data removed]",
      "text/plain": [
       "<Figure size 1000x1000 with 8 Axes>"
      ]
     },
     "metadata": {},
     "output_type": "display_data"
    }
   ],
   "source": [
    "# Plot histograms for each hidden trait\n",
    "\n",
    "sns.set_style('whitegrid')\n",
    "\n",
    "fig, ax = plt.subplots(2,4, figsize=(10,10))\n",
    "\n",
    "for i, feat in zip(num_of_cols, worker_traits_1):\n",
    "    ax[0,i].hist(x=resignations[feat], bins=9, density=True)\n",
    "    ax[0,i].set_xlabel(f'{feat}')\n",
    "    ax[0,i].set_ylabel('Frequency')\n",
    "    \n",
    "for i, feat in zip(num_of_cols, worker_traits_2):\n",
    "    ax[1,i].hist(x=resignations[feat], bins=9, density=True)\n",
    "    ax[1,i].set_xlabel(f'{feat}')\n",
    "    ax[1,i].set_ylabel('Frequency')\n",
    "\n",
    "fig.suptitle('Distribution of Hidden Traits for Resigned Employees')\n",
    "fig.tight_layout()\n",
    "plt.show()"
   ]
  },
  {
   "cell_type": "markdown",
   "id": "af742922",
   "metadata": {},
   "source": [
    "From these plots, we can estimate that almost across the board, an employee that resigned typically had values for these traits that ranged between 0.6 - 0.8. \n",
    "\n",
    "Perhaps, we can visualize these better in a boxplot. "
   ]
  },
  {
   "cell_type": "code",
   "execution_count": 78,
   "id": "837130d3",
   "metadata": {},
   "outputs": [
    {
     "name": "stderr",
     "output_type": "stream",
     "text": [
      "/Users/kylerodriguez/miniconda3/envs/employee-attrition/lib/python3.10/site-packages/seaborn/categorical.py:82: FutureWarning: iteritems is deprecated and will be removed in a future version. Use .items instead.\n",
      "  plot_data = [np.asarray(s, float) for k, s in iter_data]\n",
      "/Users/kylerodriguez/miniconda3/envs/employee-attrition/lib/python3.10/site-packages/seaborn/categorical.py:82: FutureWarning: iteritems is deprecated and will be removed in a future version. Use .items instead.\n",
      "  plot_data = [np.asarray(s, float) for k, s in iter_data]\n"
     ]
    },
    {
     "data": {
      "image/png": "[encoded data removed]",
      "text/plain": [
       "<Figure size 1500x1500 with 2 Axes>"
      ]
     },
     "metadata": {},
     "output_type": "display_data"
    }
   ],
   "source": [
    "# Boxplots visualizing trait scores of Resigned employees\n",
    "fig, ax = plt.subplots(2,1,figsize=(15, 15))\n",
    "sns.boxplot(data=resigned_traits[worker_traits_1], ax=ax[0])\n",
    "sns.boxplot(data=resigned_traits[worker_traits_2], ax=ax[1])\n",
    "fig.suptitle('Boxplots of Hidden Traits for Resigned Employees')\n",
    "plt.show()"
   ]
  },
  {
   "cell_type": "markdown",
   "id": "938e03bd",
   "metadata": {},
   "source": [
    "Just like we saw in the histograms, the scores in the IQR for these traits all seem to fall between 0.7 - 0.9. Furthermore, the **medians scores seem to hover around 0.75 across the board.**"
   ]
  },
  {
   "cell_type": "code",
   "execution_count": 58,
   "id": "36b6b52d",
   "metadata": {},
   "outputs": [
    {
     "data": {
      "text/html": [
       "<div>\n",
       "<style scoped>\n",
       "    .dataframe tbody tr th:only-of-type {\n",
       "        vertical-align: middle;\n",
       "    }\n",
       "\n",
       "    .dataframe tbody tr th {\n",
       "        vertical-align: top;\n",
       "    }\n",
       "\n",
       "    .dataframe thead th {\n",
       "        text-align: right;\n",
       "    }\n",
       "</style>\n",
       "<table border=\"1\" class=\"dataframe\">\n",
       "  <thead>\n",
       "    <tr style=\"text-align: right;\">\n",
       "      <th></th>\n",
       "      <th>sub_health_h</th>\n",
       "      <th>sub_commitment_h</th>\n",
       "      <th>sub_perceptiveness_h</th>\n",
       "      <th>sub_dexterity_h</th>\n",
       "      <th>sub_sociality_h</th>\n",
       "      <th>sub_goodness_h</th>\n",
       "      <th>sub_strength_h</th>\n",
       "      <th>sub_openmindedness_h</th>\n",
       "    </tr>\n",
       "  </thead>\n",
       "  <tbody>\n",
       "    <tr>\n",
       "      <th>count</th>\n",
       "      <td>77.000000</td>\n",
       "      <td>77.000000</td>\n",
       "      <td>77.000000</td>\n",
       "      <td>77.000000</td>\n",
       "      <td>77.000000</td>\n",
       "      <td>77.000000</td>\n",
       "      <td>77.000000</td>\n",
       "      <td>77.000000</td>\n",
       "    </tr>\n",
       "    <tr>\n",
       "      <th>mean</th>\n",
       "      <td>0.722584</td>\n",
       "      <td>0.731805</td>\n",
       "      <td>0.739649</td>\n",
       "      <td>0.727987</td>\n",
       "      <td>0.750844</td>\n",
       "      <td>0.756506</td>\n",
       "      <td>0.734701</td>\n",
       "      <td>0.740818</td>\n",
       "    </tr>\n",
       "    <tr>\n",
       "      <th>std</th>\n",
       "      <td>0.155644</td>\n",
       "      <td>0.152455</td>\n",
       "      <td>0.147753</td>\n",
       "      <td>0.152054</td>\n",
       "      <td>0.170599</td>\n",
       "      <td>0.169799</td>\n",
       "      <td>0.151227</td>\n",
       "      <td>0.168952</td>\n",
       "    </tr>\n",
       "    <tr>\n",
       "      <th>min</th>\n",
       "      <td>0.323000</td>\n",
       "      <td>0.318000</td>\n",
       "      <td>0.342000</td>\n",
       "      <td>0.360000</td>\n",
       "      <td>0.152000</td>\n",
       "      <td>0.346000</td>\n",
       "      <td>0.394000</td>\n",
       "      <td>0.320000</td>\n",
       "    </tr>\n",
       "    <tr>\n",
       "      <th>25%</th>\n",
       "      <td>0.648000</td>\n",
       "      <td>0.622000</td>\n",
       "      <td>0.648000</td>\n",
       "      <td>0.638000</td>\n",
       "      <td>0.688000</td>\n",
       "      <td>0.661000</td>\n",
       "      <td>0.639000</td>\n",
       "      <td>0.608000</td>\n",
       "    </tr>\n",
       "    <tr>\n",
       "      <th>50%</th>\n",
       "      <td>0.754000</td>\n",
       "      <td>0.728000</td>\n",
       "      <td>0.776000</td>\n",
       "      <td>0.746000</td>\n",
       "      <td>0.772000</td>\n",
       "      <td>0.786000</td>\n",
       "      <td>0.733000</td>\n",
       "      <td>0.750000</td>\n",
       "    </tr>\n",
       "    <tr>\n",
       "      <th>75%</th>\n",
       "      <td>0.814000</td>\n",
       "      <td>0.866000</td>\n",
       "      <td>0.844000</td>\n",
       "      <td>0.833000</td>\n",
       "      <td>0.889000</td>\n",
       "      <td>0.898000</td>\n",
       "      <td>0.872000</td>\n",
       "      <td>0.868000</td>\n",
       "    </tr>\n",
       "    <tr>\n",
       "      <th>max</th>\n",
       "      <td>0.977000</td>\n",
       "      <td>0.999000</td>\n",
       "      <td>0.997000</td>\n",
       "      <td>0.992000</td>\n",
       "      <td>0.995000</td>\n",
       "      <td>1.000000</td>\n",
       "      <td>0.994000</td>\n",
       "      <td>0.998000</td>\n",
       "    </tr>\n",
       "  </tbody>\n",
       "</table>\n",
       "</div>"
      ],
      "text/plain": [
       "       sub_health_h  sub_commitment_h  sub_perceptiveness_h  sub_dexterity_h  \\\n",
       "count     77.000000         77.000000             77.000000        77.000000   \n",
       "mean       0.722584          0.731805              0.739649         0.727987   \n",
       "std        0.155644          0.152455              0.147753         0.152054   \n",
       "min        0.323000          0.318000              0.342000         0.360000   \n",
       "25%        0.648000          0.622000              0.648000         0.638000   \n",
       "50%        0.754000          0.728000              0.776000         0.746000   \n",
       "75%        0.814000          0.866000              0.844000         0.833000   \n",
       "max        0.977000          0.999000              0.997000         0.992000   \n",
       "\n",
       "       sub_sociality_h  sub_goodness_h  sub_strength_h  sub_openmindedness_h  \n",
       "count        77.000000       77.000000       77.000000             77.000000  \n",
       "mean          0.750844        0.756506        0.734701              0.740818  \n",
       "std           0.170599        0.169799        0.151227              0.168952  \n",
       "min           0.152000        0.346000        0.394000              0.320000  \n",
       "25%           0.688000        0.661000        0.639000              0.608000  \n",
       "50%           0.772000        0.786000        0.733000              0.750000  \n",
       "75%           0.889000        0.898000        0.872000              0.868000  \n",
       "max           0.995000        1.000000        0.994000              0.998000  "
      ]
     },
     "execution_count": 58,
     "metadata": {},
     "output_type": "execute_result"
    }
   ],
   "source": [
    "# Summary statistics for just the traits of resigned employees\n",
    "resigned_traits = resignations[traits]\n",
    "resigned_traits.describe()"
   ]
  },
  {
   "cell_type": "markdown",
   "id": "be336dc9",
   "metadata": {},
   "source": [
    "Looking at the actual numbers, we confirmed our interpretations of the graph. The scores all sit in the 0.6 - 0.9 range, and the median scores all hover around 0.75 across the board. \n",
    "\n",
    "It's interesting to note that it seems like employees that resigned were neither over- nor under-achievers in terms of these traits.  "
   ]
  },
  {
   "cell_type": "markdown",
   "id": "07b82383",
   "metadata": {},
   "source": [
    "## Employees Age, Sex, Shift, Role and Teams\n",
    "\n",
    "What does the distribution of resigned employees look like across these categories?"
   ]
  },
  {
   "cell_type": "code",
   "execution_count": 77,
   "id": "d6069b2b",
   "metadata": {
    "scrolled": false
   },
   "outputs": [
    {
     "data": {
      "image/png": "[encoded data removed]",
      "text/plain": [
       "<Figure size 1500x1000 with 3 Axes>"
      ]
     },
     "metadata": {},
     "output_type": "display_data"
    }
   ],
   "source": [
    "sns.set_style('whitegrid')\n",
    "fig, axes = plt.subplots(1, 3, figsize=(15, 10))\n",
    "index = 2\n",
    "for axis in axes:\n",
    "  sns.countplot(x=resignations[work_desc[index]], ax=axis)\n",
    "  index = index+1\n",
    "fig.suptitle('Count of Resigned Employees Sex, Shift and Role')\n",
    "plt.show()"
   ]
  },
  {
   "cell_type": "markdown",
   "id": "4e2dbc7e",
   "metadata": {},
   "source": [
    "From the plots above, we can see that there were more Female workers that resigned compared to Male workers. Is this because there is a larger population of female workers in the workforce?\n",
    "\n",
    "Secondly, though there was slighly more resignations from Shift 3, the number of resignations seem to be average across the shifts.\n",
    "\n",
    "Lastly, there is a disproportionate amount of Laborers that resigned, as opposed to Team Leaders. "
   ]
  },
  {
   "cell_type": "code",
   "execution_count": 125,
   "id": "7a02b17a",
   "metadata": {
    "scrolled": false
   },
   "outputs": [
    {
     "data": {
      "image/png": "[encoded data removed]",
      "text/plain": [
       "<Figure size 300x300 with 1 Axes>"
      ]
     },
     "metadata": {},
     "output_type": "display_data"
    }
   ],
   "source": [
    "fig, ax = plt.subplots(figsize=(3,3))\n",
    "sns.countplot(x=workers['sub_sex'])\n",
    "plt.show()"
   ]
  },
  {
   "cell_type": "markdown",
   "id": "78668b1a",
   "metadata": {},
   "source": [
    "There are more female workers in the workforce, so the number of resignations may just be proportional to the workforce makeup."
   ]
  },
  {
   "cell_type": "code",
   "execution_count": 152,
   "id": "9d1e7258",
   "metadata": {},
   "outputs": [
    {
     "data": {
      "image/png": "[encoded data removed]",
      "text/plain": [
       "<Figure size 800x800 with 1 Axes>"
      ]
     },
     "metadata": {},
     "output_type": "display_data"
    }
   ],
   "source": [
    "# Visualize the Distribution of Ages for Resigned Employees\n",
    "fig, ax = plt.subplots(figsize=(8,8))\n",
    "sns.stripplot(data=resignations, x='sub_shift', y='sub_team', hue='sub_sex')\n",
    "\n",
    "\n",
    "plt.xlabel('Shift')\n",
    "plt.ylabel('Team')\n",
    "fig.suptitle('A Striplot Showing the Number of Resigned Employees By Shift per Team and By Sex')\n",
    "plt.show()"
   ]
  },
  {
   "cell_type": "code",
   "execution_count": null,
   "id": "8f3aceac",
   "metadata": {},
   "outputs": [],
   "source": []
  },
  {
   "cell_type": "markdown",
   "id": "487d168d",
   "metadata": {},
   "source": [
    "### Explanatory Variables Related to Supervisor"
   ]
  },
  {
   "cell_type": "markdown",
   "id": "1014266c",
   "metadata": {},
   "source": [
    "It's a common saying that employees don't leave their jobs, they leave their managers. In the spirit of this saying, what explanatory variables related to the supervisor might contribute to an employee resigning?\n",
    "\n",
    "From first glance, some variables include: Age, Age Difference, Sex, Role, Perceptiveness, and Goodness. In addition, variables like recorded comptype, recorded cause, recorded efficacy and recorded note from supervisor seem interesting."
   ]
  },
  {
   "cell_type": "markdown",
   "id": "e0d9a7d8",
   "metadata": {},
   "source": [
    "**Understanding the Potential Variables**"
   ]
  },
  {
   "cell_type": "code",
   "execution_count": null,
   "id": "e83ac247",
   "metadata": {},
   "outputs": [],
   "source": [
    "sup_traits = ['sup_age', 'sup_sub_age_diff', 'sup_sex', 'sup_role', 'sup_perceptiveness_h', 'sup_goodness_h']\n",
    "get_column_desc(sup_traits)"
   ]
  },
  {
   "cell_type": "code",
   "execution_count": null,
   "id": "5ab2d83e",
   "metadata": {},
   "outputs": [],
   "source": [
    "sup_records = ['recorded_efficacy', 'record_cause', 'record_comptype', 'recorded_note_from_sup']\n",
    "get_column_desc(sup_records)"
   ]
  },
  {
   "cell_type": "code",
   "execution_count": null,
   "id": "5c7aa0e4",
   "metadata": {
    "scrolled": true
   },
   "outputs": [],
   "source": []
  },
  {
   "cell_type": "markdown",
   "id": "afc95e00",
   "metadata": {},
   "source": [
    "### What day of the week was an employee most likely to resign?"
   ]
  },
  {
   "cell_type": "code",
   "execution_count": null,
   "id": "6aacc5d7",
   "metadata": {},
   "outputs": [],
   "source": [
    "g = sns.catplot(x='event_weekday_name', data=workers[workers['record_comptype'] == 'Resignation'], kind='count')\n",
    "g.fig.suptitle(\"Proportion of Resignation Events by Weekday\")\n",
    "g.set(xlabel=\"Weekday\", ylabel=\"Count\")\n",
    "plt.show()"
   ]
  },
  {
   "cell_type": "markdown",
   "id": "f3bcbac1",
   "metadata": {},
   "source": [
    "From the plot, it appears that a Resignation event happened the most on a Tuesday, followed by Wednesday/Friday"
   ]
  },
  {
   "cell_type": "markdown",
   "id": "3f08e876",
   "metadata": {},
   "source": [
    "### Of those that resigned, is there a general profile in terms of health, commitment, goodness, strength etc., for them vs those who did not resign?\n",
    "\n",
    "Use boxplots? Maybe swarmplot?"
   ]
  },
  {
   "cell_type": "markdown",
   "id": "f915065b",
   "metadata": {},
   "source": [
    "### Did those who resign consistently perform events like Idea, Feat, Sacrifice and Teamwork?\n",
    "\n",
    "Countplot?"
   ]
  },
  {
   "cell_type": "markdown",
   "id": "a2598a24",
   "metadata": {},
   "source": [
    "### For those who resigned, are there from a particular team or shift, under a specific manager? If so, what kind of traits do these managers have? Does that make them bad managers?\n",
    "\n",
    "Countplot for team/shift. Boxplot for manager traits?"
   ]
  },
  {
   "cell_type": "markdown",
   "id": "50a3ce0d",
   "metadata": {},
   "source": [
    "### For those who resigned, were their actual efficacy consistently misrecorded? \n",
    "\n",
    "side-by-side bar chart?"
   ]
  },
  {
   "cell_type": "code",
   "execution_count": null,
   "id": "e12f51bd",
   "metadata": {},
   "outputs": [],
   "source": []
  }
 ],
 "metadata": {
  "kernelspec": {
   "display_name": "Python [conda env:employee-attrition] *",
   "language": "python",
   "name": "conda-env-employee-attrition-py"
  },
  "language_info": {
   "codemirror_mode": {
    "name": "ipython",
    "version": 3
   },
   "file_extension": ".py",
   "mimetype": "text/x-python",
   "name": "python",
   "nbconvert_exporter": "python",
   "pygments_lexer": "ipython3",
   "version": "3.10.10"
  }
 },
 "nbformat": 4,
 "nbformat_minor": 5
}
