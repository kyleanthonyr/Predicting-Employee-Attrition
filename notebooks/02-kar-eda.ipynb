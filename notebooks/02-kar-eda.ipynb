{
 "cells": [
  {
   "cell_type": "markdown",
   "id": "6c17f88d",
   "metadata": {},
   "source": [
    "## Employee Attrition: Will my employee leave?\n",
    "\n",
    "### How can we identify at-risk employees for voluntary resignation based on their performance, job satisfaction, and salary, etc., which contributes to attrition?\n",
    "**Context**\n",
    "It's estimated that losing an employee can cost a company 1.5-2x the employee’s salary. Depending on the individual’s level of seniority, the financial burden fluctuates. For hourly workers, it costs an average of $1,500 per employee. For technical positions, the cost jumps to 100-150% of salary. At the high end, C-suite turnover can cost up to 213% of the employee’s salary.\n",
    "\n",
    "Not only are you forced to dedicate time and resources to recruiting, onboarding and training a new hire after an employee leaves, but it’s estimated that two thirds of all sunk costs due to turnover are intangible, including lost productivity and knowledge, and internal strain on employees while the roles remain unfilled. \n",
    "\n",
    "Being able to predict, and possibly prevent, employee turnover by identifying employees that may be at-risk for leaving, the cost of replacement hire due to turnover can be minimized and employee retention can increase.\n",
    "\n",
    "**What contributing factors increase the likelihood of an employee leaving voluntarily?**"
   ]
  },
  {
   "cell_type": "markdown",
   "id": "ab5596c2",
   "metadata": {},
   "source": [
    "### Imports"
   ]
  },
  {
   "cell_type": "code",
   "execution_count": 13,
   "id": "0e305678",
   "metadata": {},
   "outputs": [],
   "source": [
    "import numpy as np\n",
    "import pandas as pd\n",
    "\n",
    "import matplotlib.pyplot as plt\n",
    "import seaborn as sns\n",
    "\n",
    "import json"
   ]
  },
  {
   "cell_type": "markdown",
   "id": "9f2e0048",
   "metadata": {},
   "source": [
    "**Dataset**"
   ]
  },
  {
   "cell_type": "code",
   "execution_count": 5,
   "id": "79f3d970",
   "metadata": {},
   "outputs": [],
   "source": [
    "# Dataset \n",
    "workers = pd.read_csv(\"../data/raw/factory_workers.csv\", sep=',', encoding=\"mac_roman\")"
   ]
  },
  {
   "cell_type": "code",
   "execution_count": 6,
   "id": "481e80e0",
   "metadata": {},
   "outputs": [
    {
     "data": {
      "text/html": [
       "<div>\n",
       "<style scoped>\n",
       "    .dataframe tbody tr th:only-of-type {\n",
       "        vertical-align: middle;\n",
       "    }\n",
       "\n",
       "    .dataframe tbody tr th {\n",
       "        vertical-align: top;\n",
       "    }\n",
       "\n",
       "    .dataframe thead th {\n",
       "        text-align: right;\n",
       "    }\n",
       "</style>\n",
       "<table border=\"1\" class=\"dataframe\">\n",
       "  <thead>\n",
       "    <tr style=\"text-align: right;\">\n",
       "      <th></th>\n",
       "      <th>sub_ID</th>\n",
       "      <th>sub_fname</th>\n",
       "      <th>sub_lname</th>\n",
       "      <th>sub_age</th>\n",
       "      <th>sub_sex</th>\n",
       "      <th>sub_shift</th>\n",
       "      <th>sub_team</th>\n",
       "      <th>sub_role</th>\n",
       "      <th>sub_coll_IDs</th>\n",
       "      <th>sub_colls_same_sex_prtn</th>\n",
       "      <th>...</th>\n",
       "      <th>event_weekday_num</th>\n",
       "      <th>event_weekday_name</th>\n",
       "      <th>behav_comptype_h</th>\n",
       "      <th>behav_cause_h</th>\n",
       "      <th>actual_efficacy_h</th>\n",
       "      <th>record_comptype</th>\n",
       "      <th>record_cause</th>\n",
       "      <th>recorded_efficacy</th>\n",
       "      <th>recorded_note_from_sup</th>\n",
       "      <th>record_conf_matrix_h</th>\n",
       "    </tr>\n",
       "  </thead>\n",
       "  <tbody>\n",
       "    <tr>\n",
       "      <th>0</th>\n",
       "      <td>98000001</td>\n",
       "      <td>Rebecca</td>\n",
       "      <td>Bauer</td>\n",
       "      <td>40</td>\n",
       "      <td>F</td>\n",
       "      <td>Shift 1</td>\n",
       "      <td>Team 1</td>\n",
       "      <td>Team Leader</td>\n",
       "      <td>[98000002, 98000003, 98000004, 98000005, 98000...</td>\n",
       "      <td>0.714285714</td>\n",
       "      <td>...</td>\n",
       "      <td>4</td>\n",
       "      <td>Friday</td>\n",
       "      <td>Presence</td>\n",
       "      <td>None</td>\n",
       "      <td>None</td>\n",
       "      <td>Presence</td>\n",
       "      <td>None</td>\n",
       "      <td>None</td>\n",
       "      <td>None</td>\n",
       "      <td>None</td>\n",
       "    </tr>\n",
       "    <tr>\n",
       "      <th>1</th>\n",
       "      <td>98000001</td>\n",
       "      <td>Rebecca</td>\n",
       "      <td>Bauer</td>\n",
       "      <td>40</td>\n",
       "      <td>F</td>\n",
       "      <td>Shift 1</td>\n",
       "      <td>Team 1</td>\n",
       "      <td>Team Leader</td>\n",
       "      <td>[98000002, 98000003, 98000004, 98000005, 98000...</td>\n",
       "      <td>0.714285714</td>\n",
       "      <td>...</td>\n",
       "      <td>4</td>\n",
       "      <td>Friday</td>\n",
       "      <td>Efficacy</td>\n",
       "      <td>None</td>\n",
       "      <td>1.489</td>\n",
       "      <td>Efficacy</td>\n",
       "      <td>None</td>\n",
       "      <td>1.2</td>\n",
       "      <td>None</td>\n",
       "      <td>None</td>\n",
       "    </tr>\n",
       "    <tr>\n",
       "      <th>2</th>\n",
       "      <td>98000002</td>\n",
       "      <td>Joan</td>\n",
       "      <td>Winter</td>\n",
       "      <td>61</td>\n",
       "      <td>F</td>\n",
       "      <td>Shift 1</td>\n",
       "      <td>Team 2</td>\n",
       "      <td>Team Leader</td>\n",
       "      <td>[98000001, 98000003, 98000004, 98000005, 98000...</td>\n",
       "      <td>0.714285714</td>\n",
       "      <td>...</td>\n",
       "      <td>4</td>\n",
       "      <td>Friday</td>\n",
       "      <td>Presence</td>\n",
       "      <td>None</td>\n",
       "      <td>None</td>\n",
       "      <td>Presence</td>\n",
       "      <td>None</td>\n",
       "      <td>None</td>\n",
       "      <td>None</td>\n",
       "      <td>None</td>\n",
       "    </tr>\n",
       "    <tr>\n",
       "      <th>3</th>\n",
       "      <td>98000002</td>\n",
       "      <td>Joan</td>\n",
       "      <td>Winter</td>\n",
       "      <td>61</td>\n",
       "      <td>F</td>\n",
       "      <td>Shift 1</td>\n",
       "      <td>Team 2</td>\n",
       "      <td>Team Leader</td>\n",
       "      <td>[98000001, 98000003, 98000004, 98000005, 98000...</td>\n",
       "      <td>0.714285714</td>\n",
       "      <td>...</td>\n",
       "      <td>4</td>\n",
       "      <td>Friday</td>\n",
       "      <td>Efficacy</td>\n",
       "      <td>None</td>\n",
       "      <td>1.023</td>\n",
       "      <td>Efficacy</td>\n",
       "      <td>None</td>\n",
       "      <td>0.8</td>\n",
       "      <td>None</td>\n",
       "      <td>None</td>\n",
       "    </tr>\n",
       "    <tr>\n",
       "      <th>4</th>\n",
       "      <td>98000003</td>\n",
       "      <td>Elizabeth</td>\n",
       "      <td>Martinez</td>\n",
       "      <td>20</td>\n",
       "      <td>F</td>\n",
       "      <td>Shift 1</td>\n",
       "      <td>Team 3</td>\n",
       "      <td>Team Leader</td>\n",
       "      <td>[98000001, 98000002, 98000004, 98000005, 98000...</td>\n",
       "      <td>0.714285714</td>\n",
       "      <td>...</td>\n",
       "      <td>4</td>\n",
       "      <td>Friday</td>\n",
       "      <td>Presence</td>\n",
       "      <td>None</td>\n",
       "      <td>None</td>\n",
       "      <td>Presence</td>\n",
       "      <td>None</td>\n",
       "      <td>None</td>\n",
       "      <td>None</td>\n",
       "      <td>None</td>\n",
       "    </tr>\n",
       "  </tbody>\n",
       "</table>\n",
       "<p>5 rows × 42 columns</p>\n",
       "</div>"
      ],
      "text/plain": [
       "     sub_ID  sub_fname sub_lname  sub_age sub_sex sub_shift sub_team  \\\n",
       "0  98000001    Rebecca     Bauer       40       F   Shift 1   Team 1   \n",
       "1  98000001    Rebecca     Bauer       40       F   Shift 1   Team 1   \n",
       "2  98000002       Joan    Winter       61       F   Shift 1   Team 2   \n",
       "3  98000002       Joan    Winter       61       F   Shift 1   Team 2   \n",
       "4  98000003  Elizabeth  Martinez       20       F   Shift 1   Team 3   \n",
       "\n",
       "      sub_role                                       sub_coll_IDs  \\\n",
       "0  Team Leader  [98000002, 98000003, 98000004, 98000005, 98000...   \n",
       "1  Team Leader  [98000002, 98000003, 98000004, 98000005, 98000...   \n",
       "2  Team Leader  [98000001, 98000003, 98000004, 98000005, 98000...   \n",
       "3  Team Leader  [98000001, 98000003, 98000004, 98000005, 98000...   \n",
       "4  Team Leader  [98000001, 98000002, 98000004, 98000005, 98000...   \n",
       "\n",
       "  sub_colls_same_sex_prtn  ...  event_weekday_num  event_weekday_name  \\\n",
       "0             0.714285714  ...                  4              Friday   \n",
       "1             0.714285714  ...                  4              Friday   \n",
       "2             0.714285714  ...                  4              Friday   \n",
       "3             0.714285714  ...                  4              Friday   \n",
       "4             0.714285714  ...                  4              Friday   \n",
       "\n",
       "   behav_comptype_h  behav_cause_h  actual_efficacy_h  record_comptype  \\\n",
       "0          Presence           None               None         Presence   \n",
       "1          Efficacy           None              1.489         Efficacy   \n",
       "2          Presence           None               None         Presence   \n",
       "3          Efficacy           None              1.023         Efficacy   \n",
       "4          Presence           None               None         Presence   \n",
       "\n",
       "   record_cause  recorded_efficacy recorded_note_from_sup record_conf_matrix_h  \n",
       "0          None               None                   None                 None  \n",
       "1          None                1.2                   None                 None  \n",
       "2          None               None                   None                 None  \n",
       "3          None                0.8                   None                 None  \n",
       "4          None               None                   None                 None  \n",
       "\n",
       "[5 rows x 42 columns]"
      ]
     },
     "execution_count": 6,
     "metadata": {},
     "output_type": "execute_result"
    }
   ],
   "source": [
    "workers.head()"
   ]
  },
  {
   "cell_type": "code",
   "execution_count": 7,
   "id": "e8fb2f5b",
   "metadata": {},
   "outputs": [
    {
     "name": "stdout",
     "output_type": "stream",
     "text": [
      "<class 'pandas.core.frame.DataFrame'>\n",
      "RangeIndex: 411948 entries, 0 to 411947\n",
      "Data columns (total 42 columns):\n",
      " #   Column                   Non-Null Count   Dtype  \n",
      "---  ------                   --------------   -----  \n",
      " 0   sub_ID                   411948 non-null  int64  \n",
      " 1   sub_fname                411948 non-null  object \n",
      " 2   sub_lname                411948 non-null  object \n",
      " 3   sub_age                  411948 non-null  int64  \n",
      " 4   sub_sex                  411948 non-null  object \n",
      " 5   sub_shift                411948 non-null  object \n",
      " 6   sub_team                 411948 non-null  object \n",
      " 7   sub_role                 411948 non-null  object \n",
      " 8   sub_coll_IDs             411948 non-null  object \n",
      " 9   sub_colls_same_sex_prtn  411948 non-null  object \n",
      " 10  sub_health_h             411948 non-null  float64\n",
      " 11  sub_commitment_h         411948 non-null  float64\n",
      " 12  sub_perceptiveness_h     411948 non-null  float64\n",
      " 13  sub_dexterity_h          411948 non-null  float64\n",
      " 14  sub_sociality_h          411948 non-null  float64\n",
      " 15  sub_goodness_h           411948 non-null  float64\n",
      " 16  sub_strength_h           411948 non-null  float64\n",
      " 17  sub_openmindedness_h     411948 non-null  float64\n",
      " 18  sub_workstyle_h          411948 non-null  object \n",
      " 19  sup_ID                   411948 non-null  object \n",
      " 20  sup_fname                411948 non-null  object \n",
      " 21  sup_lname                411948 non-null  object \n",
      " 22  sup_age                  411948 non-null  object \n",
      " 23  sup_sub_age_diff         411948 non-null  object \n",
      " 24  sup_sex                  411948 non-null  object \n",
      " 25  sup_role                 411948 non-null  object \n",
      " 26  sup_commitment_h         411948 non-null  object \n",
      " 27  sup_perceptiveness_h     411948 non-null  object \n",
      " 28  sup_goodness_h           411948 non-null  object \n",
      " 29  event_date               411948 non-null  object \n",
      " 30  event_week_in_series     411948 non-null  int64  \n",
      " 31  event_day_in_series      411948 non-null  int64  \n",
      " 32  event_weekday_num        411948 non-null  int64  \n",
      " 33  event_weekday_name       411948 non-null  object \n",
      " 34  behav_comptype_h         411948 non-null  object \n",
      " 35  behav_cause_h            411948 non-null  object \n",
      " 36  actual_efficacy_h        411948 non-null  object \n",
      " 37  record_comptype          411948 non-null  object \n",
      " 38  record_cause             411948 non-null  object \n",
      " 39  recorded_efficacy        411948 non-null  object \n",
      " 40  recorded_note_from_sup   411590 non-null  object \n",
      " 41  record_conf_matrix_h     411948 non-null  object \n",
      "dtypes: float64(8), int64(5), object(29)\n",
      "memory usage: 132.0+ MB\n"
     ]
    }
   ],
   "source": [
    "workers.info()"
   ]
  },
  {
   "cell_type": "markdown",
   "id": "451d8f58",
   "metadata": {},
   "source": [
    "### **Graphical Exploratory Data Analysis**"
   ]
  },
  {
   "cell_type": "markdown",
   "id": "e2dc5dc2",
   "metadata": {},
   "source": [
    "Why are the hidden values for supervisors of type object, while the workers' are of type float?"
   ]
  },
  {
   "cell_type": "code",
   "execution_count": 65,
   "id": "bf649d0c",
   "metadata": {},
   "outputs": [],
   "source": [
    "# workers.sup_commitment_h.unique()"
   ]
  },
  {
   "cell_type": "code",
   "execution_count": 66,
   "id": "576bc4ef",
   "metadata": {},
   "outputs": [],
   "source": [
    "# workers.sub_commitment_h.unique()"
   ]
  },
  {
   "cell_type": "code",
   "execution_count": 39,
   "id": "186f1ec3",
   "metadata": {},
   "outputs": [],
   "source": [
    "# Get Column description function\n",
    "with open(\"../data/raw/metadata.json\") as file:\n",
    "    column_descriptions = json.load(file)\n",
    "\n",
    "# Define a lookup function for getting the description of a column name\n",
    "def get_column_desc(col_name, info=column_descriptions):\n",
    "    \"\"\"\n",
    "    Provides a lookup function for a description of the column name. \n",
    "    \n",
    "    Use if interested in the description of a particular column name, and what type of field it is. \n",
    "    \n",
    "    Parameters:\n",
    "    col_name(str): The column name you wish to lookup\n",
    "    info(dict): A dictionary containing the information\n",
    "    \n",
    "    Returns: \n",
    "    dict: Returns column name, its type of field and its description.\n",
    "    \n",
    "    \"\"\"\n",
    "    return info[col_name][\"Description\"]\n"
   ]
  },
  {
   "cell_type": "markdown",
   "id": "ec0df28d",
   "metadata": {},
   "source": [
    "What were the different recorded 'events'?"
   ]
  },
  {
   "cell_type": "code",
   "execution_count": 37,
   "id": "89185129",
   "metadata": {},
   "outputs": [
    {
     "data": {
      "text/plain": [
       "'A string describing the type of record made by the subject’s supervisor in the factory’s HRM/ERP system, in connection with the underlying behavior performed by the worker; it’s the record component of the event. Possible values are “Presence”, “Absence”, “Resignation”, “Termination”, “Onboarding”, “Efficacy”, “Idea”, “Lapse”, “Feat”, “Slip”, “Teamwork”, “Disruption”, “Sacrifice”, and “Sabotage”. It’s also possible for a supervisor to have overlooked a given qualitative behavior (e.g., a Feat or Teamwork) and thus to have made no record in the HRM/ERP system; in that case, this field’s value will be “None”.'"
      ]
     },
     "execution_count": 37,
     "metadata": {},
     "output_type": "execute_result"
    }
   ],
   "source": [
    "get_column_desc('record_comptype')"
   ]
  },
  {
   "cell_type": "code",
   "execution_count": 35,
   "id": "5c7aa0e4",
   "metadata": {
    "scrolled": true
   },
   "outputs": [
    {
     "data": {
      "text/plain": [
       "array(['Presence', 'Efficacy', 'Feat', 'Slip', 'Sacrifice', 'Lapse',\n",
       "       'Idea', 'Teamwork', 'Absence', 'Disruption', 'None', 'Resignation',\n",
       "       'Termination', 'Onboarding', 'Sabotage'], dtype=object)"
      ]
     },
     "execution_count": 35,
     "metadata": {},
     "output_type": "execute_result"
    }
   ],
   "source": [
    "events = workers['record_comptype'].unique()\n",
    "events"
   ]
  },
  {
   "cell_type": "code",
   "execution_count": 36,
   "id": "5d27b0d1",
   "metadata": {},
   "outputs": [
    {
     "data": {
      "image/png": "[encoded data removed]",
      "text/plain": [
       "<Figure size 500x500 with 1 Axes>"
      ]
     },
     "metadata": {},
     "output_type": "display_data"
    }
   ],
   "source": [
    "sns.catplot(x='record_comptype', data=workers, kind='count')\n",
    "plt.xticks(rotation=90)\n",
    "plt.show()"
   ]
  },
  {
   "cell_type": "markdown",
   "id": "2099cb30",
   "metadata": {},
   "source": [
    "What are the proportion of events that contributed to employee turnover?"
   ]
  },
  {
   "cell_type": "code",
   "execution_count": 50,
   "id": "32ee9f1e",
   "metadata": {},
   "outputs": [],
   "source": [
    "# Retrieve the records that were a result of Resignation or Termination (contributed to turnover)\n",
    "turnover_events = ['Termination', 'Resignation']\n",
    "turnover_records = workers[workers['record_comptype'].isin(turnover_events)]"
   ]
  },
  {
   "cell_type": "code",
   "execution_count": 52,
   "id": "c4ca4023",
   "metadata": {},
   "outputs": [
    {
     "data": {
      "image/png": "[encoded data removed]",
      "text/plain": [
       "<Figure size 500x500 with 1 Axes>"
      ]
     },
     "metadata": {},
     "output_type": "display_data"
    },
    {
     "data": {
      "image/png": "[encoded data removed]",
      "text/plain": [
       "<Figure size 500x500 with 1 Axes>"
      ]
     },
     "metadata": {},
     "output_type": "display_data"
    }
   ],
   "source": [
    "# Visualize the proportion of turnover events\n",
    "sns.catplot(x='record_comptype', data=turnover_records, kind='count')\n",
    "plt.show()"
   ]
  },
  {
   "cell_type": "markdown",
   "id": "afc95e00",
   "metadata": {},
   "source": [
    "What day of the week did a turnover event most likely happen?"
   ]
  },
  {
   "cell_type": "code",
   "execution_count": 56,
   "id": "c0f07578",
   "metadata": {},
   "outputs": [
    {
     "data": {
      "text/plain": [
       "'The English-language name of the day of the week on which the given event fell (e.g., “Monday”).'"
      ]
     },
     "execution_count": 56,
     "metadata": {},
     "output_type": "execute_result"
    }
   ],
   "source": [
    "get_column_desc('event_weekday_name')"
   ]
  },
  {
   "cell_type": "code",
   "execution_count": 57,
   "id": "7fa3725a",
   "metadata": {},
   "outputs": [
    {
     "data": {
      "text/html": [
       "<div>\n",
       "<style scoped>\n",
       "    .dataframe tbody tr th:only-of-type {\n",
       "        vertical-align: middle;\n",
       "    }\n",
       "\n",
       "    .dataframe tbody tr th {\n",
       "        vertical-align: top;\n",
       "    }\n",
       "\n",
       "    .dataframe thead th {\n",
       "        text-align: right;\n",
       "    }\n",
       "</style>\n",
       "<table border=\"1\" class=\"dataframe\">\n",
       "  <thead>\n",
       "    <tr style=\"text-align: right;\">\n",
       "      <th></th>\n",
       "      <th>sub_ID</th>\n",
       "      <th>sub_fname</th>\n",
       "      <th>sub_lname</th>\n",
       "      <th>sub_age</th>\n",
       "      <th>sub_sex</th>\n",
       "      <th>sub_shift</th>\n",
       "      <th>sub_team</th>\n",
       "      <th>sub_role</th>\n",
       "      <th>sub_coll_IDs</th>\n",
       "      <th>sub_colls_same_sex_prtn</th>\n",
       "      <th>...</th>\n",
       "      <th>event_weekday_num</th>\n",
       "      <th>event_weekday_name</th>\n",
       "      <th>behav_comptype_h</th>\n",
       "      <th>behav_cause_h</th>\n",
       "      <th>actual_efficacy_h</th>\n",
       "      <th>record_comptype</th>\n",
       "      <th>record_cause</th>\n",
       "      <th>recorded_efficacy</th>\n",
       "      <th>recorded_note_from_sup</th>\n",
       "      <th>record_conf_matrix_h</th>\n",
       "    </tr>\n",
       "  </thead>\n",
       "  <tbody>\n",
       "    <tr>\n",
       "      <th>1056</th>\n",
       "      <td>98000112</td>\n",
       "      <td>Dorothy</td>\n",
       "      <td>Reynolds</td>\n",
       "      <td>61</td>\n",
       "      <td>F</td>\n",
       "      <td>Shift 1</td>\n",
       "      <td>Team 5</td>\n",
       "      <td>Laborer</td>\n",
       "      <td>[98000106, 98000109, 98000110, 98000111, 98000...</td>\n",
       "      <td>0.526315789</td>\n",
       "      <td>...</td>\n",
       "      <td>4</td>\n",
       "      <td>Friday</td>\n",
       "      <td>Resignation</td>\n",
       "      <td>Poor Teammates</td>\n",
       "      <td>None</td>\n",
       "      <td>Resignation</td>\n",
       "      <td>None</td>\n",
       "      <td>None</td>\n",
       "      <td>NaN</td>\n",
       "      <td>None</td>\n",
       "    </tr>\n",
       "    <tr>\n",
       "      <th>1057</th>\n",
       "      <td>98000462</td>\n",
       "      <td>Mark</td>\n",
       "      <td>Bauer</td>\n",
       "      <td>63</td>\n",
       "      <td>M</td>\n",
       "      <td>Shift 3</td>\n",
       "      <td>Team 22</td>\n",
       "      <td>Laborer</td>\n",
       "      <td>[98000449, 98000450, 98000451, 98000452, 98000...</td>\n",
       "      <td>0.368421053</td>\n",
       "      <td>...</td>\n",
       "      <td>4</td>\n",
       "      <td>Friday</td>\n",
       "      <td>Resignation</td>\n",
       "      <td>Underrecorded Efficacy</td>\n",
       "      <td>None</td>\n",
       "      <td>Resignation</td>\n",
       "      <td>None</td>\n",
       "      <td>None</td>\n",
       "      <td>NaN</td>\n",
       "      <td>None</td>\n",
       "    </tr>\n",
       "    <tr>\n",
       "      <th>1058</th>\n",
       "      <td>98000598</td>\n",
       "      <td>Francis</td>\n",
       "      <td>Weber</td>\n",
       "      <td>19</td>\n",
       "      <td>M</td>\n",
       "      <td>Shift 1</td>\n",
       "      <td>Team 5</td>\n",
       "      <td>Laborer</td>\n",
       "      <td>[98000106, 98000109, 98000110, 98000111, 98000...</td>\n",
       "      <td>0.421052632</td>\n",
       "      <td>...</td>\n",
       "      <td>4</td>\n",
       "      <td>Friday</td>\n",
       "      <td>None</td>\n",
       "      <td>None</td>\n",
       "      <td>None</td>\n",
       "      <td>Termination</td>\n",
       "      <td>Low Efficacy</td>\n",
       "      <td>None</td>\n",
       "      <td>NaN</td>\n",
       "      <td>None</td>\n",
       "    </tr>\n",
       "    <tr>\n",
       "      <th>2116</th>\n",
       "      <td>98000264</td>\n",
       "      <td>Mary</td>\n",
       "      <td>Ortiz</td>\n",
       "      <td>61</td>\n",
       "      <td>F</td>\n",
       "      <td>Shift 2</td>\n",
       "      <td>Team 12</td>\n",
       "      <td>Laborer</td>\n",
       "      <td>[98000246, 98000247, 98000248, 98000249, 98000...</td>\n",
       "      <td>0.789473684</td>\n",
       "      <td>...</td>\n",
       "      <td>0</td>\n",
       "      <td>Monday</td>\n",
       "      <td>Resignation</td>\n",
       "      <td>Recruited Away</td>\n",
       "      <td>None</td>\n",
       "      <td>Resignation</td>\n",
       "      <td>None</td>\n",
       "      <td>None</td>\n",
       "      <td>NaN</td>\n",
       "      <td>None</td>\n",
       "    </tr>\n",
       "    <tr>\n",
       "      <th>5272</th>\n",
       "      <td>98000081</td>\n",
       "      <td>Carol</td>\n",
       "      <td>Wieczorek</td>\n",
       "      <td>49</td>\n",
       "      <td>F</td>\n",
       "      <td>Shift 1</td>\n",
       "      <td>Team 3</td>\n",
       "      <td>Laborer</td>\n",
       "      <td>[98000066, 98000067, 98000068, 98000069, 98000...</td>\n",
       "      <td>0.473684211</td>\n",
       "      <td>...</td>\n",
       "      <td>3</td>\n",
       "      <td>Thursday</td>\n",
       "      <td>None</td>\n",
       "      <td>None</td>\n",
       "      <td>None</td>\n",
       "      <td>Termination</td>\n",
       "      <td>Multiple Sabotages</td>\n",
       "      <td>None</td>\n",
       "      <td>NaN</td>\n",
       "      <td>None</td>\n",
       "    </tr>\n",
       "  </tbody>\n",
       "</table>\n",
       "<p>5 rows × 42 columns</p>\n",
       "</div>"
      ],
      "text/plain": [
       "        sub_ID sub_fname  sub_lname  sub_age sub_sex sub_shift sub_team  \\\n",
       "1056  98000112   Dorothy   Reynolds       61       F   Shift 1   Team 5   \n",
       "1057  98000462      Mark      Bauer       63       M   Shift 3  Team 22   \n",
       "1058  98000598   Francis      Weber       19       M   Shift 1   Team 5   \n",
       "2116  98000264      Mary      Ortiz       61       F   Shift 2  Team 12   \n",
       "5272  98000081     Carol  Wieczorek       49       F   Shift 1   Team 3   \n",
       "\n",
       "     sub_role                                       sub_coll_IDs  \\\n",
       "1056  Laborer  [98000106, 98000109, 98000110, 98000111, 98000...   \n",
       "1057  Laborer  [98000449, 98000450, 98000451, 98000452, 98000...   \n",
       "1058  Laborer  [98000106, 98000109, 98000110, 98000111, 98000...   \n",
       "2116  Laborer  [98000246, 98000247, 98000248, 98000249, 98000...   \n",
       "5272  Laborer  [98000066, 98000067, 98000068, 98000069, 98000...   \n",
       "\n",
       "     sub_colls_same_sex_prtn  ...  event_weekday_num  event_weekday_name  \\\n",
       "1056             0.526315789  ...                  4              Friday   \n",
       "1057             0.368421053  ...                  4              Friday   \n",
       "1058             0.421052632  ...                  4              Friday   \n",
       "2116             0.789473684  ...                  0              Monday   \n",
       "5272             0.473684211  ...                  3            Thursday   \n",
       "\n",
       "      behav_comptype_h           behav_cause_h  actual_efficacy_h  \\\n",
       "1056       Resignation          Poor Teammates               None   \n",
       "1057       Resignation  Underrecorded Efficacy               None   \n",
       "1058              None                    None               None   \n",
       "2116       Resignation          Recruited Away               None   \n",
       "5272              None                    None               None   \n",
       "\n",
       "      record_comptype        record_cause  recorded_efficacy  \\\n",
       "1056      Resignation                None               None   \n",
       "1057      Resignation                None               None   \n",
       "1058      Termination        Low Efficacy               None   \n",
       "2116      Resignation                None               None   \n",
       "5272      Termination  Multiple Sabotages               None   \n",
       "\n",
       "     recorded_note_from_sup record_conf_matrix_h  \n",
       "1056                    NaN                 None  \n",
       "1057                    NaN                 None  \n",
       "1058                    NaN                 None  \n",
       "2116                    NaN                 None  \n",
       "5272                    NaN                 None  \n",
       "\n",
       "[5 rows x 42 columns]"
      ]
     },
     "execution_count": 57,
     "metadata": {},
     "output_type": "execute_result"
    }
   ],
   "source": [
    "turnover_records.head()"
   ]
  },
  {
   "cell_type": "code",
   "execution_count": 64,
   "id": "6aacc5d7",
   "metadata": {},
   "outputs": [
    {
     "data": {
      "image/png": "[encoded data removed]",
      "text/plain": [
       "<Figure size 632.236x500 with 1 Axes>"
      ]
     },
     "metadata": {},
     "output_type": "display_data"
    }
   ],
   "source": [
    "g = sns.catplot(x='event_weekday_name', data=turnover_records, kind='count', hue='record_comptype')\n",
    "g.fig.suptitle(\"Proportion of Turnover Events by Weekday\")\n",
    "g.set(xlabel=\"Weekday\", ylabel=\"Count\")\n",
    "plt.show()"
   ]
  },
  {
   "cell_type": "markdown",
   "id": "f3bcbac1",
   "metadata": {},
   "source": [
    "From the plot, it appears that Termination events happened the most on Mondays/Fridays, followed by Thursdays, and a Resignation event happened the most on a Tuesday, followed by Wednesday/Friday"
   ]
  },
  {
   "cell_type": "markdown",
   "id": "61a5330e",
   "metadata": {},
   "source": [
    "Eventhough both a Resignation and Termination event contribute to turnover, we're only interested in the turnover events that were voluntary, as this contributes to employee attrition. So we will focus on the 'Resignation' subset of turnover events."
   ]
  },
  {
   "cell_type": "code",
   "execution_count": null,
   "id": "046a2b60",
   "metadata": {},
   "outputs": [],
   "source": []
  }
 ],
 "metadata": {
  "kernelspec": {
   "display_name": "Python [conda env:capstone-02-employee-attrition] *",
   "language": "python",
   "name": "conda-env-capstone-02-employee-attrition-py"
  },
  "language_info": {
   "codemirror_mode": {
    "name": "ipython",
    "version": 3
   },
   "file_extension": ".py",
   "mimetype": "text/x-python",
   "name": "python",
   "nbconvert_exporter": "python",
   "pygments_lexer": "ipython3",
   "version": "3.10.10"
  }
 },
 "nbformat": 4,
 "nbformat_minor": 5
}
