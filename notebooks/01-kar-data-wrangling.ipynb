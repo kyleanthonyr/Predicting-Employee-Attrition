{
 "cells": [
  {
   "cell_type": "markdown",
   "id": "dadd9d67",
   "metadata": {},
   "source": [
    "## Import modules"
   ]
  },
  {
   "cell_type": "code",
   "execution_count": 41,
   "id": "e01be79d",
   "metadata": {},
   "outputs": [],
   "source": [
    "import pandas as pd\n",
    "from ydata_profiling import ProfileReport\n",
    "import json\n",
    "from matplotlib import pyplot as plt"
   ]
  },
  {
   "cell_type": "markdown",
   "id": "29964bfd",
   "metadata": {},
   "source": [
    "## Import dataset"
   ]
  },
  {
   "cell_type": "markdown",
   "id": "320cf67f",
   "metadata": {},
   "source": [
    "### About this dataset\n",
    "\n",
    "This synthetic dataset contains 18 months worth of daily performance and attrition data (411,948 observations) for a factory whose organizational structure comprises 508 workers. Due to employee turnover, a total of 687 persons appear in the dataset. \n",
    "\n",
    "The dataset’s observations cover both regular daily events (like workers’ attendance and daily level of Efficacy) and special one-time events (like accidents, an employee’s termination, or the onboarding of a new employee). A unique feature of the dataset is diverse causal relationships “hidden” within the data that are waiting to be uncovered through machine learning.\n",
    "\n",
    "Source: https://www.kaggle.com/datasets/gladdenme/factory-workers-daily-performance-attrition-s?resource=download"
   ]
  },
  {
   "cell_type": "code",
   "execution_count": 3,
   "id": "f3b6e3de",
   "metadata": {},
   "outputs": [],
   "source": [
    "# Dataset \n",
    "workers_df = pd.read_csv(\"../data/raw/factory_workers.csv\", sep=',', encoding=\"mac_roman\")"
   ]
  },
  {
   "cell_type": "markdown",
   "id": "39b42636",
   "metadata": {},
   "source": [
    "## Explore Dataset"
   ]
  },
  {
   "cell_type": "code",
   "execution_count": 4,
   "id": "64ac28d1",
   "metadata": {
    "scrolled": true
   },
   "outputs": [
    {
     "data": {
      "text/html": [
       "<div>\n",
       "<style scoped>\n",
       "    .dataframe tbody tr th:only-of-type {\n",
       "        vertical-align: middle;\n",
       "    }\n",
       "\n",
       "    .dataframe tbody tr th {\n",
       "        vertical-align: top;\n",
       "    }\n",
       "\n",
       "    .dataframe thead th {\n",
       "        text-align: right;\n",
       "    }\n",
       "</style>\n",
       "<table border=\"1\" class=\"dataframe\">\n",
       "  <thead>\n",
       "    <tr style=\"text-align: right;\">\n",
       "      <th></th>\n",
       "      <th>sub_ID</th>\n",
       "      <th>sub_fname</th>\n",
       "      <th>sub_lname</th>\n",
       "      <th>sub_age</th>\n",
       "      <th>sub_sex</th>\n",
       "      <th>sub_shift</th>\n",
       "      <th>sub_team</th>\n",
       "      <th>sub_role</th>\n",
       "      <th>sub_coll_IDs</th>\n",
       "      <th>sub_colls_same_sex_prtn</th>\n",
       "      <th>...</th>\n",
       "      <th>event_weekday_num</th>\n",
       "      <th>event_weekday_name</th>\n",
       "      <th>behav_comptype_h</th>\n",
       "      <th>behav_cause_h</th>\n",
       "      <th>actual_efficacy_h</th>\n",
       "      <th>record_comptype</th>\n",
       "      <th>record_cause</th>\n",
       "      <th>recorded_efficacy</th>\n",
       "      <th>recorded_note_from_sup</th>\n",
       "      <th>record_conf_matrix_h</th>\n",
       "    </tr>\n",
       "  </thead>\n",
       "  <tbody>\n",
       "    <tr>\n",
       "      <th>0</th>\n",
       "      <td>98000001</td>\n",
       "      <td>Rebecca</td>\n",
       "      <td>Bauer</td>\n",
       "      <td>40</td>\n",
       "      <td>F</td>\n",
       "      <td>Shift 1</td>\n",
       "      <td>Team 1</td>\n",
       "      <td>Team Leader</td>\n",
       "      <td>[98000002, 98000003, 98000004, 98000005, 98000...</td>\n",
       "      <td>0.714285714</td>\n",
       "      <td>...</td>\n",
       "      <td>4</td>\n",
       "      <td>Friday</td>\n",
       "      <td>Presence</td>\n",
       "      <td>None</td>\n",
       "      <td>None</td>\n",
       "      <td>Presence</td>\n",
       "      <td>None</td>\n",
       "      <td>None</td>\n",
       "      <td>None</td>\n",
       "      <td>None</td>\n",
       "    </tr>\n",
       "    <tr>\n",
       "      <th>1</th>\n",
       "      <td>98000001</td>\n",
       "      <td>Rebecca</td>\n",
       "      <td>Bauer</td>\n",
       "      <td>40</td>\n",
       "      <td>F</td>\n",
       "      <td>Shift 1</td>\n",
       "      <td>Team 1</td>\n",
       "      <td>Team Leader</td>\n",
       "      <td>[98000002, 98000003, 98000004, 98000005, 98000...</td>\n",
       "      <td>0.714285714</td>\n",
       "      <td>...</td>\n",
       "      <td>4</td>\n",
       "      <td>Friday</td>\n",
       "      <td>Efficacy</td>\n",
       "      <td>None</td>\n",
       "      <td>1.489</td>\n",
       "      <td>Efficacy</td>\n",
       "      <td>None</td>\n",
       "      <td>1.2</td>\n",
       "      <td>None</td>\n",
       "      <td>None</td>\n",
       "    </tr>\n",
       "    <tr>\n",
       "      <th>2</th>\n",
       "      <td>98000002</td>\n",
       "      <td>Joan</td>\n",
       "      <td>Winter</td>\n",
       "      <td>61</td>\n",
       "      <td>F</td>\n",
       "      <td>Shift 1</td>\n",
       "      <td>Team 2</td>\n",
       "      <td>Team Leader</td>\n",
       "      <td>[98000001, 98000003, 98000004, 98000005, 98000...</td>\n",
       "      <td>0.714285714</td>\n",
       "      <td>...</td>\n",
       "      <td>4</td>\n",
       "      <td>Friday</td>\n",
       "      <td>Presence</td>\n",
       "      <td>None</td>\n",
       "      <td>None</td>\n",
       "      <td>Presence</td>\n",
       "      <td>None</td>\n",
       "      <td>None</td>\n",
       "      <td>None</td>\n",
       "      <td>None</td>\n",
       "    </tr>\n",
       "    <tr>\n",
       "      <th>3</th>\n",
       "      <td>98000002</td>\n",
       "      <td>Joan</td>\n",
       "      <td>Winter</td>\n",
       "      <td>61</td>\n",
       "      <td>F</td>\n",
       "      <td>Shift 1</td>\n",
       "      <td>Team 2</td>\n",
       "      <td>Team Leader</td>\n",
       "      <td>[98000001, 98000003, 98000004, 98000005, 98000...</td>\n",
       "      <td>0.714285714</td>\n",
       "      <td>...</td>\n",
       "      <td>4</td>\n",
       "      <td>Friday</td>\n",
       "      <td>Efficacy</td>\n",
       "      <td>None</td>\n",
       "      <td>1.023</td>\n",
       "      <td>Efficacy</td>\n",
       "      <td>None</td>\n",
       "      <td>0.8</td>\n",
       "      <td>None</td>\n",
       "      <td>None</td>\n",
       "    </tr>\n",
       "    <tr>\n",
       "      <th>4</th>\n",
       "      <td>98000003</td>\n",
       "      <td>Elizabeth</td>\n",
       "      <td>Martinez</td>\n",
       "      <td>20</td>\n",
       "      <td>F</td>\n",
       "      <td>Shift 1</td>\n",
       "      <td>Team 3</td>\n",
       "      <td>Team Leader</td>\n",
       "      <td>[98000001, 98000002, 98000004, 98000005, 98000...</td>\n",
       "      <td>0.714285714</td>\n",
       "      <td>...</td>\n",
       "      <td>4</td>\n",
       "      <td>Friday</td>\n",
       "      <td>Presence</td>\n",
       "      <td>None</td>\n",
       "      <td>None</td>\n",
       "      <td>Presence</td>\n",
       "      <td>None</td>\n",
       "      <td>None</td>\n",
       "      <td>None</td>\n",
       "      <td>None</td>\n",
       "    </tr>\n",
       "  </tbody>\n",
       "</table>\n",
       "<p>5 rows × 42 columns</p>\n",
       "</div>"
      ],
      "text/plain": [
       "     sub_ID  sub_fname sub_lname  sub_age sub_sex sub_shift sub_team  \\\n",
       "0  98000001    Rebecca     Bauer       40       F   Shift 1   Team 1   \n",
       "1  98000001    Rebecca     Bauer       40       F   Shift 1   Team 1   \n",
       "2  98000002       Joan    Winter       61       F   Shift 1   Team 2   \n",
       "3  98000002       Joan    Winter       61       F   Shift 1   Team 2   \n",
       "4  98000003  Elizabeth  Martinez       20       F   Shift 1   Team 3   \n",
       "\n",
       "      sub_role                                       sub_coll_IDs  \\\n",
       "0  Team Leader  [98000002, 98000003, 98000004, 98000005, 98000...   \n",
       "1  Team Leader  [98000002, 98000003, 98000004, 98000005, 98000...   \n",
       "2  Team Leader  [98000001, 98000003, 98000004, 98000005, 98000...   \n",
       "3  Team Leader  [98000001, 98000003, 98000004, 98000005, 98000...   \n",
       "4  Team Leader  [98000001, 98000002, 98000004, 98000005, 98000...   \n",
       "\n",
       "  sub_colls_same_sex_prtn  ...  event_weekday_num  event_weekday_name  \\\n",
       "0             0.714285714  ...                  4              Friday   \n",
       "1             0.714285714  ...                  4              Friday   \n",
       "2             0.714285714  ...                  4              Friday   \n",
       "3             0.714285714  ...                  4              Friday   \n",
       "4             0.714285714  ...                  4              Friday   \n",
       "\n",
       "   behav_comptype_h  behav_cause_h  actual_efficacy_h  record_comptype  \\\n",
       "0          Presence           None               None         Presence   \n",
       "1          Efficacy           None              1.489         Efficacy   \n",
       "2          Presence           None               None         Presence   \n",
       "3          Efficacy           None              1.023         Efficacy   \n",
       "4          Presence           None               None         Presence   \n",
       "\n",
       "   record_cause  recorded_efficacy recorded_note_from_sup record_conf_matrix_h  \n",
       "0          None               None                   None                 None  \n",
       "1          None                1.2                   None                 None  \n",
       "2          None               None                   None                 None  \n",
       "3          None                0.8                   None                 None  \n",
       "4          None               None                   None                 None  \n",
       "\n",
       "[5 rows x 42 columns]"
      ]
     },
     "execution_count": 4,
     "metadata": {},
     "output_type": "execute_result"
    }
   ],
   "source": [
    "workers_df.head()"
   ]
  },
  {
   "cell_type": "markdown",
   "id": "3e085255",
   "metadata": {},
   "source": [
    "## Understanding the Columns"
   ]
  },
  {
   "cell_type": "code",
   "execution_count": 5,
   "id": "79a3be98",
   "metadata": {},
   "outputs": [
    {
     "data": {
      "text/plain": [
       "['sub_ID',\n",
       " 'sub_fname',\n",
       " 'sub_lname',\n",
       " 'sub_age',\n",
       " 'sub_sex',\n",
       " 'sub_shift',\n",
       " 'sub_team',\n",
       " 'sub_role',\n",
       " 'sub_coll_IDs',\n",
       " 'sub_colls_same_sex_prtn',\n",
       " 'sub_health_h',\n",
       " 'sub_commitment_h',\n",
       " 'sub_perceptiveness_h',\n",
       " 'sub_dexterity_h',\n",
       " 'sub_sociality_h',\n",
       " 'sub_goodness_h',\n",
       " 'sub_strength_h',\n",
       " 'sub_openmindedness_h',\n",
       " 'sub_workstyle_h',\n",
       " 'sup_ID',\n",
       " 'sup_fname',\n",
       " 'sup_lname',\n",
       " 'sup_age',\n",
       " 'sup_sub_age_diff',\n",
       " 'sup_sex',\n",
       " 'sup_role',\n",
       " 'sup_commitment_h',\n",
       " 'sup_perceptiveness_h',\n",
       " 'sup_goodness_h',\n",
       " 'event_date',\n",
       " 'event_week_in_series',\n",
       " 'event_day_in_series',\n",
       " 'event_weekday_num',\n",
       " 'event_weekday_name',\n",
       " 'behav_comptype_h',\n",
       " 'behav_cause_h',\n",
       " 'actual_efficacy_h',\n",
       " 'record_comptype',\n",
       " 'record_cause',\n",
       " 'recorded_efficacy',\n",
       " 'recorded_note_from_sup',\n",
       " 'record_conf_matrix_h']"
      ]
     },
     "execution_count": 5,
     "metadata": {},
     "output_type": "execute_result"
    }
   ],
   "source": [
    "# Full list of column names\n",
    "columns = workers_df.columns.to_list()\n",
    "columns"
   ]
  },
  {
   "cell_type": "markdown",
   "id": "539d36df",
   "metadata": {},
   "source": [
    "### Lookup Function\n",
    "\n",
    "**Curious about what a specific column heading may mean?**\n",
    "\n",
    "Use the provided lookup function, `get_column_desc()`, to find a description of what the values mean in that particular column."
   ]
  },
  {
   "cell_type": "code",
   "execution_count": 6,
   "id": "4413fd7f",
   "metadata": {},
   "outputs": [],
   "source": [
    "# Import metadata for getting column descriptions\n",
    "with open(\"../data/raw/metadata.json\") as file:\n",
    "    column_descriptions = json.load(file)\n"
   ]
  },
  {
   "cell_type": "code",
   "execution_count": 7,
   "id": "0b4b0357",
   "metadata": {},
   "outputs": [],
   "source": [
    "# Define a lookup function for getting the description of a column name\n",
    "def get_column_desc(col_name, info=column_descriptions):\n",
    "    \"\"\"\n",
    "    Provides a lookup function for a description of the column name. \n",
    "    \n",
    "    Use if interested in the description of a particular column name, and what type of field it is. \n",
    "    \n",
    "    Parameters:\n",
    "    col_name(str): The column name you wish to lookup\n",
    "    info(dict): A dictionary containing the information\n",
    "    \n",
    "    Returns: \n",
    "    dict: Returns column name, its type of field and its description.\n",
    "    \n",
    "    \"\"\"\n",
    "    return info[col_name][\"Description\"]"
   ]
  },
  {
   "cell_type": "code",
   "execution_count": 8,
   "id": "a187c7d7",
   "metadata": {},
   "outputs": [
    {
     "data": {
      "text/plain": [
       "'In the case of a Termination event, this string indicates the reason for which the organization terminated the subject’s employment. For other event types, this field will be “None”.'"
      ]
     },
     "execution_count": 8,
     "metadata": {},
     "output_type": "execute_result"
    }
   ],
   "source": [
    "# Lookup description for 'sup_goodness_h' column \n",
    "get_column_desc('record_cause')"
   ]
  },
  {
   "cell_type": "code",
   "execution_count": 9,
   "id": "2ca70615",
   "metadata": {
    "scrolled": true
   },
   "outputs": [
    {
     "data": {
      "text/plain": [
       "<bound method DataFrame.info of           sub_ID  sub_fname sub_lname  sub_age sub_sex sub_shift sub_team  \\\n",
       "0       98000001    Rebecca     Bauer       40       F   Shift 1   Team 1   \n",
       "1       98000001    Rebecca     Bauer       40       F   Shift 1   Team 1   \n",
       "2       98000002       Joan    Winter       61       F   Shift 1   Team 2   \n",
       "3       98000002       Joan    Winter       61       F   Shift 1   Team 2   \n",
       "4       98000003  Elizabeth  Martinez       20       F   Shift 1   Team 3   \n",
       "...          ...        ...       ...      ...     ...       ...      ...   \n",
       "411943  98000787      Sarah    Marino       28       F   Shift 3  Team 21   \n",
       "411944  98000788    Theresa      Dahl       47       F   Shift 1   Team 6   \n",
       "411945  98000788    Theresa      Dahl       47       F   Shift 1   Team 6   \n",
       "411946  98000789       Paul  Gonzalez       34       M   Shift 2  Team 12   \n",
       "411947  98000789       Paul  Gonzalez       34       M   Shift 2  Team 12   \n",
       "\n",
       "           sub_role                                       sub_coll_IDs  \\\n",
       "0       Team Leader  [98000002, 98000003, 98000004, 98000005, 98000...   \n",
       "1       Team Leader  [98000002, 98000003, 98000004, 98000005, 98000...   \n",
       "2       Team Leader  [98000001, 98000003, 98000004, 98000005, 98000...   \n",
       "3       Team Leader  [98000001, 98000003, 98000004, 98000005, 98000...   \n",
       "4       Team Leader  [98000001, 98000002, 98000004, 98000005, 98000...   \n",
       "...             ...                                                ...   \n",
       "411943      Laborer  [98000428, 98000429, 98000430, 98000431, 98000...   \n",
       "411944      Laborer  [98000125, 98000127, 98000130, 98000131, 98000...   \n",
       "411945      Laborer  [98000125, 98000127, 98000130, 98000131, 98000...   \n",
       "411946      Laborer  [98000247, 98000249, 98000251, 98000255, 98000...   \n",
       "411947      Laborer  [98000247, 98000249, 98000251, 98000255, 98000...   \n",
       "\n",
       "       sub_colls_same_sex_prtn  ...  event_weekday_num  event_weekday_name  \\\n",
       "0                  0.714285714  ...                  4              Friday   \n",
       "1                  0.714285714  ...                  4              Friday   \n",
       "2                  0.714285714  ...                  4              Friday   \n",
       "3                  0.714285714  ...                  4              Friday   \n",
       "4                  0.714285714  ...                  4              Friday   \n",
       "...                        ...  ...                ...                 ...   \n",
       "411943             0.526315789  ...                  3            Thursday   \n",
       "411944             0.526315789  ...                  3            Thursday   \n",
       "411945             0.526315789  ...                  3            Thursday   \n",
       "411946             0.315789474  ...                  3            Thursday   \n",
       "411947             0.315789474  ...                  3            Thursday   \n",
       "\n",
       "        behav_comptype_h  behav_cause_h  actual_efficacy_h  record_comptype  \\\n",
       "0               Presence           None               None         Presence   \n",
       "1               Efficacy           None              1.489         Efficacy   \n",
       "2               Presence           None               None         Presence   \n",
       "3               Efficacy           None              1.023         Efficacy   \n",
       "4               Presence           None               None         Presence   \n",
       "...                  ...            ...                ...              ...   \n",
       "411943         Sacrifice           None               None        Sacrifice   \n",
       "411944          Presence           None               None         Presence   \n",
       "411945          Efficacy           None              0.261         Efficacy   \n",
       "411946          Presence           None               None         Presence   \n",
       "411947          Efficacy           None              0.348         Efficacy   \n",
       "\n",
       "        record_cause  recorded_efficacy  \\\n",
       "0               None               None   \n",
       "1               None                1.2   \n",
       "2               None               None   \n",
       "3               None                0.8   \n",
       "4               None               None   \n",
       "...              ...                ...   \n",
       "411943          None               None   \n",
       "411944          None               None   \n",
       "411945          None                0.3   \n",
       "411946          None               None   \n",
       "411947          None                0.4   \n",
       "\n",
       "                                   recorded_note_from_sup record_conf_matrix_h  \n",
       "0                                                    None                 None  \n",
       "1                                                    None                 None  \n",
       "2                                                    None                 None  \n",
       "3                                                    None                 None  \n",
       "4                                                    None                 None  \n",
       "...                                                   ...                  ...  \n",
       "411943  Sarah didnít complain when I suggested crawlin...        True Positive  \n",
       "411944                                               None                 None  \n",
       "411945                                               None                 None  \n",
       "411946                                               None                 None  \n",
       "411947                                               None                 None  \n",
       "\n",
       "[411948 rows x 42 columns]>"
      ]
     },
     "execution_count": 9,
     "metadata": {},
     "output_type": "execute_result"
    }
   ],
   "source": [
    "workers_df.info"
   ]
  },
  {
   "cell_type": "code",
   "execution_count": 10,
   "id": "a0baa229",
   "metadata": {},
   "outputs": [
    {
     "data": {
      "text/plain": [
       "Index(['sub_ID', 'sub_fname', 'sub_lname', 'sub_age', 'sub_sex', 'sub_shift',\n",
       "       'sub_team', 'sub_role', 'sub_coll_IDs', 'sub_colls_same_sex_prtn',\n",
       "       'sub_health_h', 'sub_commitment_h', 'sub_perceptiveness_h',\n",
       "       'sub_dexterity_h', 'sub_sociality_h', 'sub_goodness_h',\n",
       "       'sub_strength_h', 'sub_openmindedness_h', 'sub_workstyle_h', 'sup_ID',\n",
       "       'sup_fname', 'sup_lname', 'sup_age', 'sup_sub_age_diff', 'sup_sex',\n",
       "       'sup_role', 'sup_commitment_h', 'sup_perceptiveness_h',\n",
       "       'sup_goodness_h', 'event_date', 'event_week_in_series',\n",
       "       'event_day_in_series', 'event_weekday_num', 'event_weekday_name',\n",
       "       'behav_comptype_h', 'behav_cause_h', 'actual_efficacy_h',\n",
       "       'record_comptype', 'record_cause', 'recorded_efficacy',\n",
       "       'recorded_note_from_sup', 'record_conf_matrix_h'],\n",
       "      dtype='object')"
      ]
     },
     "execution_count": 10,
     "metadata": {},
     "output_type": "execute_result"
    }
   ],
   "source": [
    "workers_df.columns"
   ]
  },
  {
   "cell_type": "code",
   "execution_count": 11,
   "id": "19e5ce87",
   "metadata": {},
   "outputs": [
    {
     "data": {
      "text/plain": [
       "RangeIndex(start=0, stop=411948, step=1)"
      ]
     },
     "execution_count": 11,
     "metadata": {},
     "output_type": "execute_result"
    }
   ],
   "source": [
    "workers_df.index"
   ]
  },
  {
   "cell_type": "code",
   "execution_count": 12,
   "id": "7a2d7154",
   "metadata": {},
   "outputs": [
    {
     "data": {
      "text/plain": [
       "(411948, 42)"
      ]
     },
     "execution_count": 12,
     "metadata": {},
     "output_type": "execute_result"
    }
   ],
   "source": [
    "workers_df.shape"
   ]
  },
  {
   "cell_type": "code",
   "execution_count": 13,
   "id": "ffa8b605",
   "metadata": {
    "scrolled": true
   },
   "outputs": [
    {
     "data": {
      "text/html": [
       "<div>\n",
       "<style scoped>\n",
       "    .dataframe tbody tr th:only-of-type {\n",
       "        vertical-align: middle;\n",
       "    }\n",
       "\n",
       "    .dataframe tbody tr th {\n",
       "        vertical-align: top;\n",
       "    }\n",
       "\n",
       "    .dataframe thead th {\n",
       "        text-align: right;\n",
       "    }\n",
       "</style>\n",
       "<table border=\"1\" class=\"dataframe\">\n",
       "  <thead>\n",
       "    <tr style=\"text-align: right;\">\n",
       "      <th></th>\n",
       "      <th>Count</th>\n",
       "      <th>%</th>\n",
       "    </tr>\n",
       "  </thead>\n",
       "  <tbody>\n",
       "    <tr>\n",
       "      <th>recorded_note_from_sup</th>\n",
       "      <td>358</td>\n",
       "      <td>0.086904</td>\n",
       "    </tr>\n",
       "    <tr>\n",
       "      <th>sub_ID</th>\n",
       "      <td>0</td>\n",
       "      <td>0.000000</td>\n",
       "    </tr>\n",
       "    <tr>\n",
       "      <th>sub_fname</th>\n",
       "      <td>0</td>\n",
       "      <td>0.000000</td>\n",
       "    </tr>\n",
       "    <tr>\n",
       "      <th>sub_lname</th>\n",
       "      <td>0</td>\n",
       "      <td>0.000000</td>\n",
       "    </tr>\n",
       "    <tr>\n",
       "      <th>sub_age</th>\n",
       "      <td>0</td>\n",
       "      <td>0.000000</td>\n",
       "    </tr>\n",
       "    <tr>\n",
       "      <th>sub_sex</th>\n",
       "      <td>0</td>\n",
       "      <td>0.000000</td>\n",
       "    </tr>\n",
       "    <tr>\n",
       "      <th>sub_shift</th>\n",
       "      <td>0</td>\n",
       "      <td>0.000000</td>\n",
       "    </tr>\n",
       "    <tr>\n",
       "      <th>sub_team</th>\n",
       "      <td>0</td>\n",
       "      <td>0.000000</td>\n",
       "    </tr>\n",
       "    <tr>\n",
       "      <th>sub_role</th>\n",
       "      <td>0</td>\n",
       "      <td>0.000000</td>\n",
       "    </tr>\n",
       "    <tr>\n",
       "      <th>sub_coll_IDs</th>\n",
       "      <td>0</td>\n",
       "      <td>0.000000</td>\n",
       "    </tr>\n",
       "    <tr>\n",
       "      <th>sub_colls_same_sex_prtn</th>\n",
       "      <td>0</td>\n",
       "      <td>0.000000</td>\n",
       "    </tr>\n",
       "    <tr>\n",
       "      <th>sub_health_h</th>\n",
       "      <td>0</td>\n",
       "      <td>0.000000</td>\n",
       "    </tr>\n",
       "    <tr>\n",
       "      <th>sub_commitment_h</th>\n",
       "      <td>0</td>\n",
       "      <td>0.000000</td>\n",
       "    </tr>\n",
       "    <tr>\n",
       "      <th>sub_perceptiveness_h</th>\n",
       "      <td>0</td>\n",
       "      <td>0.000000</td>\n",
       "    </tr>\n",
       "    <tr>\n",
       "      <th>sub_dexterity_h</th>\n",
       "      <td>0</td>\n",
       "      <td>0.000000</td>\n",
       "    </tr>\n",
       "    <tr>\n",
       "      <th>sub_sociality_h</th>\n",
       "      <td>0</td>\n",
       "      <td>0.000000</td>\n",
       "    </tr>\n",
       "    <tr>\n",
       "      <th>sub_goodness_h</th>\n",
       "      <td>0</td>\n",
       "      <td>0.000000</td>\n",
       "    </tr>\n",
       "    <tr>\n",
       "      <th>sub_strength_h</th>\n",
       "      <td>0</td>\n",
       "      <td>0.000000</td>\n",
       "    </tr>\n",
       "    <tr>\n",
       "      <th>sub_openmindedness_h</th>\n",
       "      <td>0</td>\n",
       "      <td>0.000000</td>\n",
       "    </tr>\n",
       "    <tr>\n",
       "      <th>sub_workstyle_h</th>\n",
       "      <td>0</td>\n",
       "      <td>0.000000</td>\n",
       "    </tr>\n",
       "    <tr>\n",
       "      <th>sup_ID</th>\n",
       "      <td>0</td>\n",
       "      <td>0.000000</td>\n",
       "    </tr>\n",
       "    <tr>\n",
       "      <th>sup_fname</th>\n",
       "      <td>0</td>\n",
       "      <td>0.000000</td>\n",
       "    </tr>\n",
       "    <tr>\n",
       "      <th>sup_lname</th>\n",
       "      <td>0</td>\n",
       "      <td>0.000000</td>\n",
       "    </tr>\n",
       "    <tr>\n",
       "      <th>sup_age</th>\n",
       "      <td>0</td>\n",
       "      <td>0.000000</td>\n",
       "    </tr>\n",
       "    <tr>\n",
       "      <th>sup_sub_age_diff</th>\n",
       "      <td>0</td>\n",
       "      <td>0.000000</td>\n",
       "    </tr>\n",
       "    <tr>\n",
       "      <th>sup_sex</th>\n",
       "      <td>0</td>\n",
       "      <td>0.000000</td>\n",
       "    </tr>\n",
       "    <tr>\n",
       "      <th>sup_role</th>\n",
       "      <td>0</td>\n",
       "      <td>0.000000</td>\n",
       "    </tr>\n",
       "    <tr>\n",
       "      <th>sup_commitment_h</th>\n",
       "      <td>0</td>\n",
       "      <td>0.000000</td>\n",
       "    </tr>\n",
       "    <tr>\n",
       "      <th>sup_perceptiveness_h</th>\n",
       "      <td>0</td>\n",
       "      <td>0.000000</td>\n",
       "    </tr>\n",
       "    <tr>\n",
       "      <th>sup_goodness_h</th>\n",
       "      <td>0</td>\n",
       "      <td>0.000000</td>\n",
       "    </tr>\n",
       "    <tr>\n",
       "      <th>event_date</th>\n",
       "      <td>0</td>\n",
       "      <td>0.000000</td>\n",
       "    </tr>\n",
       "    <tr>\n",
       "      <th>event_week_in_series</th>\n",
       "      <td>0</td>\n",
       "      <td>0.000000</td>\n",
       "    </tr>\n",
       "    <tr>\n",
       "      <th>event_day_in_series</th>\n",
       "      <td>0</td>\n",
       "      <td>0.000000</td>\n",
       "    </tr>\n",
       "    <tr>\n",
       "      <th>event_weekday_num</th>\n",
       "      <td>0</td>\n",
       "      <td>0.000000</td>\n",
       "    </tr>\n",
       "    <tr>\n",
       "      <th>event_weekday_name</th>\n",
       "      <td>0</td>\n",
       "      <td>0.000000</td>\n",
       "    </tr>\n",
       "    <tr>\n",
       "      <th>behav_comptype_h</th>\n",
       "      <td>0</td>\n",
       "      <td>0.000000</td>\n",
       "    </tr>\n",
       "    <tr>\n",
       "      <th>behav_cause_h</th>\n",
       "      <td>0</td>\n",
       "      <td>0.000000</td>\n",
       "    </tr>\n",
       "    <tr>\n",
       "      <th>actual_efficacy_h</th>\n",
       "      <td>0</td>\n",
       "      <td>0.000000</td>\n",
       "    </tr>\n",
       "    <tr>\n",
       "      <th>record_comptype</th>\n",
       "      <td>0</td>\n",
       "      <td>0.000000</td>\n",
       "    </tr>\n",
       "    <tr>\n",
       "      <th>record_cause</th>\n",
       "      <td>0</td>\n",
       "      <td>0.000000</td>\n",
       "    </tr>\n",
       "    <tr>\n",
       "      <th>recorded_efficacy</th>\n",
       "      <td>0</td>\n",
       "      <td>0.000000</td>\n",
       "    </tr>\n",
       "    <tr>\n",
       "      <th>record_conf_matrix_h</th>\n",
       "      <td>0</td>\n",
       "      <td>0.000000</td>\n",
       "    </tr>\n",
       "  </tbody>\n",
       "</table>\n",
       "</div>"
      ],
      "text/plain": [
       "                         Count         %\n",
       "recorded_note_from_sup     358  0.086904\n",
       "sub_ID                       0  0.000000\n",
       "sub_fname                    0  0.000000\n",
       "sub_lname                    0  0.000000\n",
       "sub_age                      0  0.000000\n",
       "sub_sex                      0  0.000000\n",
       "sub_shift                    0  0.000000\n",
       "sub_team                     0  0.000000\n",
       "sub_role                     0  0.000000\n",
       "sub_coll_IDs                 0  0.000000\n",
       "sub_colls_same_sex_prtn      0  0.000000\n",
       "sub_health_h                 0  0.000000\n",
       "sub_commitment_h             0  0.000000\n",
       "sub_perceptiveness_h         0  0.000000\n",
       "sub_dexterity_h              0  0.000000\n",
       "sub_sociality_h              0  0.000000\n",
       "sub_goodness_h               0  0.000000\n",
       "sub_strength_h               0  0.000000\n",
       "sub_openmindedness_h         0  0.000000\n",
       "sub_workstyle_h              0  0.000000\n",
       "sup_ID                       0  0.000000\n",
       "sup_fname                    0  0.000000\n",
       "sup_lname                    0  0.000000\n",
       "sup_age                      0  0.000000\n",
       "sup_sub_age_diff             0  0.000000\n",
       "sup_sex                      0  0.000000\n",
       "sup_role                     0  0.000000\n",
       "sup_commitment_h             0  0.000000\n",
       "sup_perceptiveness_h         0  0.000000\n",
       "sup_goodness_h               0  0.000000\n",
       "event_date                   0  0.000000\n",
       "event_week_in_series         0  0.000000\n",
       "event_day_in_series          0  0.000000\n",
       "event_weekday_num            0  0.000000\n",
       "event_weekday_name           0  0.000000\n",
       "behav_comptype_h             0  0.000000\n",
       "behav_cause_h                0  0.000000\n",
       "actual_efficacy_h            0  0.000000\n",
       "record_comptype              0  0.000000\n",
       "record_cause                 0  0.000000\n",
       "recorded_efficacy            0  0.000000\n",
       "record_conf_matrix_h         0  0.000000"
      ]
     },
     "execution_count": 13,
     "metadata": {},
     "output_type": "execute_result"
    }
   ],
   "source": [
    "# Find missing values per columns\n",
    "missing_values = pd.concat([workers_df.isnull().sum(), 100*workers_df.isnull().mean()], axis=1)\n",
    "missing_values.columns = ['Count', '%']\n",
    "missing_values.sort_values(by=['Count','%'], ascending=False)"
   ]
  },
  {
   "cell_type": "markdown",
   "id": "c6d94ee7",
   "metadata": {},
   "source": [
    "### Initial Exploration of the Data"
   ]
  },
  {
   "cell_type": "markdown",
   "id": "a73c1a3c",
   "metadata": {},
   "source": [
    "There were 102 reported terminations over the 18 month period."
   ]
  },
  {
   "cell_type": "code",
   "execution_count": 25,
   "id": "a79ad6d9",
   "metadata": {},
   "outputs": [
    {
     "data": {
      "text/plain": [
       "102"
      ]
     },
     "execution_count": 25,
     "metadata": {},
     "output_type": "execute_result"
    }
   ],
   "source": [
    "terminations = workers_df[workers_df[\"record_cause\"] != \"None\"]\n",
    "terminations['record_cause'].count()"
   ]
  },
  {
   "cell_type": "markdown",
   "id": "12cd6c6f",
   "metadata": {},
   "source": [
    "There were 7 distinct reasons for termination."
   ]
  },
  {
   "cell_type": "code",
   "execution_count": 36,
   "id": "be7c45c6",
   "metadata": {},
   "outputs": [
    {
     "data": {
      "text/plain": [
       "array(['Low Efficacy', 'Multiple Sabotages', 'Multiple Absences',\n",
       "       'Multiple Disruptions', 'Multiple Lapses', 'Multiple Slips',\n",
       "       'Lapses and Below-Average Efficacy'], dtype=object)"
      ]
     },
     "execution_count": 36,
     "metadata": {},
     "output_type": "execute_result"
    }
   ],
   "source": [
    "reasons_for_terminations = terminations.record_cause\n",
    "reasons_for_terminations.unique()"
   ]
  },
  {
   "cell_type": "markdown",
   "id": "6367f0ca",
   "metadata": {},
   "source": [
    "The reason for termination with the highest frequency is \"Multiple Sabotages\", followed by \"Multiple Absences\" and \"Multiple Slips\""
   ]
  },
  {
   "cell_type": "code",
   "execution_count": 45,
   "id": "691856a3",
   "metadata": {
    "scrolled": true
   },
   "outputs": [
    {
     "data": {
      "text/plain": [
       "<Axes: title={'center': 'Reasons for Termination by Count'}, xlabel='Termination Reason'>"
      ]
     },
     "execution_count": 45,
     "metadata": {},
     "output_type": "execute_result"
    },
    {
     "data": {
      "image/png": "[encoded data removed]",
      "text/plain": [
       "<Figure size 640x480 with 1 Axes>"
      ]
     },
     "metadata": {},
     "output_type": "display_data"
    }
   ],
   "source": [
    "termination_reason_and_count = terminations.groupby(['record_cause'])['record_cause'].count().sort_values(ascending=False)\n",
    "termination_reason_and_count.plot(kind=\"bar\", title=\"Reasons for Termination by Count\", xlabel=\"Termination Reason\")"
   ]
  },
  {
   "cell_type": "code",
   "execution_count": null,
   "id": "a1ae7b16",
   "metadata": {},
   "outputs": [],
   "source": []
  },
  {
   "cell_type": "markdown",
   "id": "842ad8a5",
   "metadata": {},
   "source": [
    "### Generate Report "
   ]
  },
  {
   "cell_type": "code",
   "execution_count": 15,
   "id": "fd3130dc",
   "metadata": {},
   "outputs": [],
   "source": [
    "# profile = ProfileReport(workers_df)\n",
    "# profile"
   ]
  },
  {
   "cell_type": "code",
   "execution_count": null,
   "id": "d5dba14c",
   "metadata": {},
   "outputs": [],
   "source": []
  }
 ],
 "metadata": {
  "kernelspec": {
   "display_name": "Python 3 (ipykernel)",
   "language": "python",
   "name": "python3"
  },
  "language_info": {
   "codemirror_mode": {
    "name": "ipython",
    "version": 3
   },
   "file_extension": ".py",
   "mimetype": "text/x-python",
   "name": "python",
   "nbconvert_exporter": "python",
   "pygments_lexer": "ipython3",
   "version": "3.10.10"
  }
 },
 "nbformat": 4,
 "nbformat_minor": 5
}
